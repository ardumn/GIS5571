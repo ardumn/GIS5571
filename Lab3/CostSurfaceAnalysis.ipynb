{
 "cells": [
  {
   "cell_type": "markdown",
   "metadata": {},
   "source": [
    "# Cost Surface Analysis Operations"
   ]
  },
  {
   "cell_type": "code",
   "execution_count": 6,
   "metadata": {},
   "outputs": [],
   "source": [
    "import arcpy\n",
    "import requests\n",
    "import io\n",
    "import zipfile"
   ]
  },
  {
   "cell_type": "markdown",
   "metadata": {},
   "source": [
    "## Display Dory's Farm and North Picnic Area in ArcGIS Pro from CSV Table to XY to Point Tool"
   ]
  },
  {
   "cell_type": "code",
   "execution_count": 2,
   "metadata": {},
   "outputs": [
    {
     "data": {
      "text/html": [
       "<div class='gpresult'><h2>Messages</h2><div id='messages' data-messages='[\"Start Time: Saturday, November 12, 2022 5:48:33 PM\",\"Succeeded at Saturday, November 12, 2022 5:48:34 PM (Elapsed Time: 1.30 seconds)\"]' data-show='true'><div id = 'default' /></div></div>"
      ],
      "text/plain": [
       "<Result 'C:\\\\Users\\\\Alexander Danielson\\\\Desktop\\\\Fall 2022Spring2023\\\\ArcGIS I\\\\Lab3\\\\Lab3\\\\Lab3.gdb\\\\DoryNPATable_XYTableToPoint'>"
      ]
     },
     "execution_count": 2,
     "metadata": {},
     "output_type": "execute_result"
    }
   ],
   "source": [
    "arcpy.management.XYTableToPoint(r\"C:\\Users\\Alexander Danielson\\Desktop\\Fall 2022Spring2023\\ArcGIS I\\Lab3\\Lab3\\DoryNPATable.csv\", r\"C:\\Users\\Alexander Danielson\\Desktop\\Fall 2022Spring2023\\ArcGIS I\\Lab3\\Lab3\\Lab3.gdb\\DoryNPATable_XYTableToPoint\", \"Long\", \"Lat\", None, 'GEOGCS[\"GCS_WGS_1984\",DATUM[\"D_WGS_1984\",SPHEROID[\"WGS_1984\",6378137.0,298.257223563]],PRIMEM[\"Greenwich\",0.0],UNIT[\"Degree\",0.0174532925199433]];-400 -400 1000000000;-100000 10000;-100000 10000;8.98315284119521E-09;0.001;0.001;IsHighPrecision')"
   ]
  },
  {
   "cell_type": "markdown",
   "metadata": {},
   "source": [
    "## Form Optimal Route For Dory's Given Extent of Area Using Data From MNGEO and Performing Raster Analysis"
   ]
  },
  {
   "cell_type": "markdown",
   "metadata": {},
   "source": [
    "## Extract County Data from MNGEO (including MN NLCD, DEM, Streams, Impervious Surfuces/Roads) to Create Optimal Route"
   ]
  },
  {
   "cell_type": "code",
   "execution_count": 3,
   "metadata": {},
   "outputs": [],
   "source": [
    "CountyBoundsLink = \"https://resources.gisdata.mn.gov/pub/gdrs/data/pub/us_mn_state_dnr/bdry_counties_in_minnesota/shp_bdry_counties_in_minnesota.zip\""
   ]
  },
  {
   "cell_type": "code",
   "execution_count": 4,
   "metadata": {},
   "outputs": [
    {
     "data": {
      "text/plain": [
       "'https://resources.gisdata.mn.gov/pub/gdrs/data/pub/us_mn_state_dnr/bdry_counties_in_minnesota/shp_bdry_counties_in_minnesota.zip'"
      ]
     },
     "execution_count": 4,
     "metadata": {},
     "output_type": "execute_result"
    }
   ],
   "source": [
    "CountyBoundsLink"
   ]
  },
  {
   "cell_type": "code",
   "execution_count": 7,
   "metadata": {},
   "outputs": [],
   "source": [
    "OutputSource = requests.post(CountyBoundsLink)"
   ]
  },
  {
   "cell_type": "code",
   "execution_count": 8,
   "metadata": {},
   "outputs": [],
   "source": [
    "Sources = OutputSource.content"
   ]
  },
  {
   "cell_type": "code",
   "execution_count": 9,
   "metadata": {},
   "outputs": [],
   "source": [
    "Zipp = zipfile.ZipFile(io.BytesIO(Sources))"
   ]
  },
  {
   "cell_type": "code",
   "execution_count": 10,
   "metadata": {},
   "outputs": [],
   "source": [
    "Zipp.extractall(r'C:\\Users\\Alexander Danielson\\Desktop\\Fall 2022Spring2023\\ArcGIS I\\Lab3\\Lab3')"
   ]
  },
  {
   "cell_type": "code",
   "execution_count": 11,
   "metadata": {},
   "outputs": [],
   "source": [
    "CountyNLCDLink = \"https://resources.gisdata.mn.gov/pub/gdrs/data/pub/us_mn_state_dnr/biota_landcover_nlcd_mn_2019/tif_biota_landcover_nlcd_mn_2019.zip\""
   ]
  },
  {
   "cell_type": "code",
   "execution_count": 12,
   "metadata": {},
   "outputs": [
    {
     "data": {
      "text/plain": [
       "'https://resources.gisdata.mn.gov/pub/gdrs/data/pub/us_mn_state_dnr/biota_landcover_nlcd_mn_2019/tif_biota_landcover_nlcd_mn_2019.zip'"
      ]
     },
     "execution_count": 12,
     "metadata": {},
     "output_type": "execute_result"
    }
   ],
   "source": [
    "CountyNLCDLink"
   ]
  },
  {
   "cell_type": "code",
   "execution_count": 13,
   "metadata": {},
   "outputs": [],
   "source": [
    "OutputNLCDSource = requests.post(CountyNLCDLink)"
   ]
  },
  {
   "cell_type": "code",
   "execution_count": 14,
   "metadata": {},
   "outputs": [],
   "source": [
    "SourcesNLCD = OutputNLCDSource.content"
   ]
  },
  {
   "cell_type": "code",
   "execution_count": 15,
   "metadata": {},
   "outputs": [],
   "source": [
    "ZippNLCD = zipfile.ZipFile(io.BytesIO(SourcesNLCD))"
   ]
  },
  {
   "cell_type": "code",
   "execution_count": 16,
   "metadata": {},
   "outputs": [],
   "source": [
    "ZippNLCD.extractall(r'C:\\Users\\Alexander Danielson\\Desktop\\Fall 2022Spring2023\\ArcGIS I\\Lab3\\Lab3')"
   ]
  },
  {
   "cell_type": "code",
   "execution_count": 17,
   "metadata": {},
   "outputs": [],
   "source": [
    "CountyDEMLink = 'https://resources.gisdata.mn.gov/pub/gdrs/data/pub/us_mn_state_dnr/elev_30m_digital_elevation_model/fgdb_elev_30m_digital_elevation_model.zip'"
   ]
  },
  {
   "cell_type": "code",
   "execution_count": 18,
   "metadata": {},
   "outputs": [
    {
     "data": {
      "text/plain": [
       "'https://resources.gisdata.mn.gov/pub/gdrs/data/pub/us_mn_state_dnr/elev_30m_digital_elevation_model/fgdb_elev_30m_digital_elevation_model.zip'"
      ]
     },
     "execution_count": 18,
     "metadata": {},
     "output_type": "execute_result"
    }
   ],
   "source": [
    "CountyDEMLink "
   ]
  },
  {
   "cell_type": "code",
   "execution_count": 19,
   "metadata": {},
   "outputs": [],
   "source": [
    "OutputDEMSource = requests.post(CountyDEMLink)"
   ]
  },
  {
   "cell_type": "code",
   "execution_count": 20,
   "metadata": {},
   "outputs": [],
   "source": [
    "SourcesDEM = OutputDEMSource.content"
   ]
  },
  {
   "cell_type": "code",
   "execution_count": 21,
   "metadata": {},
   "outputs": [],
   "source": [
    "ZippDEM = zipfile.ZipFile(io.BytesIO(SourcesDEM))"
   ]
  },
  {
   "cell_type": "code",
   "execution_count": 22,
   "metadata": {},
   "outputs": [],
   "source": [
    "ZippDEM.extractall(r'C:\\Users\\Alexander Danielson\\Desktop\\Fall 2022Spring2023\\ArcGIS I\\Lab3\\Lab3')"
   ]
  },
  {
   "cell_type": "code",
   "execution_count": 23,
   "metadata": {},
   "outputs": [],
   "source": [
    "CountyStreamLink = 'https://resources.gisdata.mn.gov/pub/gdrs/data/pub/us_mn_state_dnr/water_strahler_stream_order/shp_water_strahler_stream_order.zip'"
   ]
  },
  {
   "cell_type": "code",
   "execution_count": 24,
   "metadata": {},
   "outputs": [
    {
     "data": {
      "text/plain": [
       "'https://resources.gisdata.mn.gov/pub/gdrs/data/pub/us_mn_state_dnr/water_strahler_stream_order/shp_water_strahler_stream_order.zip'"
      ]
     },
     "execution_count": 24,
     "metadata": {},
     "output_type": "execute_result"
    }
   ],
   "source": [
    "CountyStreamLink"
   ]
  },
  {
   "cell_type": "code",
   "execution_count": 25,
   "metadata": {},
   "outputs": [],
   "source": [
    "OutputStreamSource = requests.post(CountyStreamLink)"
   ]
  },
  {
   "cell_type": "code",
   "execution_count": 26,
   "metadata": {},
   "outputs": [],
   "source": [
    "SourcesStream = OutputStreamSource.content"
   ]
  },
  {
   "cell_type": "code",
   "execution_count": 27,
   "metadata": {},
   "outputs": [],
   "source": [
    "ZippStream = zipfile.ZipFile(io.BytesIO(SourcesStream))"
   ]
  },
  {
   "cell_type": "code",
   "execution_count": 28,
   "metadata": {},
   "outputs": [],
   "source": [
    "ZippStream.extractall(r'C:\\Users\\Alexander Danielson\\Desktop\\Fall 2022Spring2023\\ArcGIS I\\Lab3\\Lab3')"
   ]
  },
  {
   "cell_type": "code",
   "execution_count": 29,
   "metadata": {},
   "outputs": [],
   "source": [
    "MNRoads = 'https://resources.gisdata.mn.gov/pub/gdrs/data/pub/us_mn_state_dot/trans_roads_mndot_tis/shp_trans_roads_mndot_tis.zip'"
   ]
  },
  {
   "cell_type": "code",
   "execution_count": 30,
   "metadata": {},
   "outputs": [
    {
     "data": {
      "text/plain": [
       "'https://resources.gisdata.mn.gov/pub/gdrs/data/pub/us_mn_state_dot/trans_roads_mndot_tis/shp_trans_roads_mndot_tis.zip'"
      ]
     },
     "execution_count": 30,
     "metadata": {},
     "output_type": "execute_result"
    }
   ],
   "source": [
    "MNRoads"
   ]
  },
  {
   "cell_type": "code",
   "execution_count": 31,
   "metadata": {},
   "outputs": [],
   "source": [
    "OutputMNRoads = requests.post(MNRoads)"
   ]
  },
  {
   "cell_type": "code",
   "execution_count": 32,
   "metadata": {},
   "outputs": [],
   "source": [
    "SourcesMNRoads = OutputMNRoads.content"
   ]
  },
  {
   "cell_type": "code",
   "execution_count": 33,
   "metadata": {},
   "outputs": [],
   "source": [
    "ZipRoads = zipfile.ZipFile(io.BytesIO(SourcesMNRoads))"
   ]
  },
  {
   "cell_type": "code",
   "execution_count": 34,
   "metadata": {},
   "outputs": [],
   "source": [
    "ZipRoads.extractall(r'C:\\Users\\Alexander Danielson\\Desktop\\Fall 2022Spring2023\\ArcGIS I\\Lab3\\Lab3')"
   ]
  },
  {
   "cell_type": "markdown",
   "metadata": {},
   "source": [
    "## Dissolve Optimal Counties and Geoprocess Other Ancillary Data Then Transform Features to Reclassify for Weights "
   ]
  },
  {
   "cell_type": "markdown",
   "metadata": {},
   "source": [
    "### Dissolve Operation for Optimal Study Area"
   ]
  },
  {
   "cell_type": "code",
   "execution_count": 35,
   "metadata": {},
   "outputs": [
    {
     "data": {
      "text/html": [
       "<div class='gpresult'><h2>Messages</h2><div id='messages' data-messages='[\"Start Time: Saturday, November 12, 2022 6:47:32 PM\",\"Dissolving...\",\"Succeeded at Saturday, November 12, 2022 6:47:32 PM (Elapsed Time: 0.48 seconds)\"]' data-show='true'><div id = 'default' /></div></div>"
      ],
      "text/plain": [
       "<Result 'C:\\\\Users\\\\Alexander Danielson\\\\Desktop\\\\Fall 2022Spring2023\\\\ArcGIS I\\\\Lab3\\\\Lab3\\\\Lab3.gdb\\\\DoryNPAStudyArea'>"
      ]
     },
     "execution_count": 35,
     "metadata": {},
     "output_type": "execute_result"
    }
   ],
   "source": [
    "arcpy.management.Dissolve(\"mn_county_boundaries selection\", r\"C:\\Users\\Alexander Danielson\\Desktop\\Fall 2022Spring2023\\ArcGIS I\\Lab3\\Lab3\\Lab3.gdb\\DoryNPAStudyArea\", None, None, \"MULTI_PART\", \"DISSOLVE_LINES\", '')"
   ]
  },
  {
   "cell_type": "markdown",
   "metadata": {},
   "source": [
    "### Extract by Mask (NLCD) using Optimal Study Area"
   ]
  },
  {
   "cell_type": "code",
   "execution_count": 36,
   "metadata": {},
   "outputs": [],
   "source": [
    "out_raster = arcpy.sa.ExtractByMask(\"NLCD_2019_Land_Cover.tif\", \"DoryNPAStudyArea\", \"INSIDE\", '524966.6376 4853462.8394 637916.1448 4922619.9426 PROJCS[\"NAD_1983_UTM_Zone_15N\",GEOGCS[\"GCS_North_American_1983\",DATUM[\"D_North_American_1983\",SPHEROID[\"GRS_1980\",6378137.0,298.257222101]],PRIMEM[\"Greenwich\",0.0],UNIT[\"Degree\",0.0174532925199433]],PROJECTION[\"Transverse_Mercator\"],PARAMETER[\"False_Easting\",500000.0],PARAMETER[\"False_Northing\",0.0],PARAMETER[\"Central_Meridian\",-93.0],PARAMETER[\"Scale_Factor\",0.9996],PARAMETER[\"Latitude_Of_Origin\",0.0],UNIT[\"Meter\",1.0]]'); out_raster.save(r\"C:\\Users\\Alexander Danielson\\Desktop\\Fall 2022Spring2023\\ArcGIS I\\Lab3\\Lab3\\Lab3.gdb\\Extract_NLCD\")"
   ]
  },
  {
   "cell_type": "markdown",
   "metadata": {},
   "source": [
    "### Clip (Roads) using Optimal Study Area"
   ]
  },
  {
   "cell_type": "code",
   "execution_count": 39,
   "metadata": {},
   "outputs": [
    {
     "data": {
      "text/html": [
       "<div class='gpresult'><h2>Messages</h2><div id='messages' data-messages='[\"Start Time: Saturday, November 12, 2022 6:54:25 PM\",\"Assembling Features...\",\"Reading Features...\",\"Cracking Features...\",\"Succeeded at Saturday, November 12, 2022 6:54:29 PM (Elapsed Time: 4.00 seconds)\"]' data-show='true'><div id = 'default' /></div></div>"
      ],
      "text/plain": [
       "<Result 'C:\\\\Users\\\\Alexander Danielson\\\\Desktop\\\\Fall 2022Spring2023\\\\ArcGIS I\\\\Lab3\\\\Lab3\\\\Lab3.gdb\\\\StreetsClip'>"
      ]
     },
     "execution_count": 39,
     "metadata": {},
     "output_type": "execute_result"
    }
   ],
   "source": [
    "arcpy.analysis.Clip(\"STREETS_LOAD\", \"DoryNPAStudyArea\", r\"C:\\Users\\Alexander Danielson\\Desktop\\Fall 2022Spring2023\\ArcGIS I\\Lab3\\Lab3\\Lab3.gdb\\StreetsClip\", None)"
   ]
  },
  {
   "cell_type": "markdown",
   "metadata": {},
   "source": [
    "### Extract by Mask (DEM) using Optimal Study Area"
   ]
  },
  {
   "cell_type": "code",
   "execution_count": 37,
   "metadata": {},
   "outputs": [],
   "source": [
    "out_raster = arcpy.sa.ExtractByMask(\"digital_elevation_model_30m\", \"DoryNPAStudyArea\", \"INSIDE\", '524966.6376 4853462.8394 637916.1448 4922619.9426 PROJCS[\"NAD_1983_UTM_Zone_15N\",GEOGCS[\"GCS_North_American_1983\",DATUM[\"D_North_American_1983\",SPHEROID[\"GRS_1980\",6378137.0,298.257222101]],PRIMEM[\"Greenwich\",0.0],UNIT[\"Degree\",0.0174532925199433]],PROJECTION[\"Transverse_Mercator\"],PARAMETER[\"False_Easting\",500000.0],PARAMETER[\"False_Northing\",0.0],PARAMETER[\"Central_Meridian\",-93.0],PARAMETER[\"Scale_Factor\",0.9996],PARAMETER[\"Latitude_Of_Origin\",0.0],UNIT[\"Meter\",1.0]]'); out_raster.save(r\"C:\\Users\\Alexander Danielson\\Desktop\\Fall 2022Spring2023\\ArcGIS I\\Lab3\\Lab3\\Lab3.gdb\\Extract_DEM\")"
   ]
  },
  {
   "cell_type": "markdown",
   "metadata": {},
   "source": [
    "### Clip (Streams) using Optimal Study Area"
   ]
  },
  {
   "cell_type": "code",
   "execution_count": 38,
   "metadata": {},
   "outputs": [
    {
     "data": {
      "text/html": [
       "<div class='gpresult'><h2>Messages</h2><div id='messages' data-messages='[\"Start Time: Saturday, November 12, 2022 6:52:58 PM\",\"Analyzing input features...\",\"Dissolving clip features...\",\"Clipping input features...\",\"Succeeded at Saturday, November 12, 2022 6:52:59 PM (Elapsed Time: 0.69 seconds)\"]' data-show='true'><div id = 'default' /></div></div>"
      ],
      "text/plain": [
       "<Result 'C:\\\\Users\\\\Alexander Danielson\\\\Desktop\\\\Fall 2022Spring2023\\\\ArcGIS I\\\\Lab3\\\\Lab3\\\\Lab3.gdb\\\\StreamsClip'>"
      ]
     },
     "execution_count": 38,
     "metadata": {},
     "output_type": "execute_result"
    }
   ],
   "source": [
    "arcpy.analysis.Clip(\"streams_with_strahler_stream_order\", \"DoryNPAStudyArea\", r\"C:\\Users\\Alexander Danielson\\Desktop\\Fall 2022Spring2023\\ArcGIS I\\Lab3\\Lab3\\Lab3.gdb\\StreamsClip\", None)"
   ]
  },
  {
   "cell_type": "markdown",
   "metadata": {},
   "source": [
    "### Create Slope out of DEM "
   ]
  },
  {
   "cell_type": "code",
   "execution_count": 40,
   "metadata": {},
   "outputs": [
    {
     "data": {
      "text/html": [
       "<div class='gpresult'><h2>Messages</h2><div id='messages' data-messages='[\"Start Time: Saturday, November 12, 2022 7:00:19 PM\",\"Succeeded at Saturday, November 12, 2022 7:00:21 PM (Elapsed Time: 2.10 seconds)\"]' data-show='true'><div id = 'default' /></div></div>"
      ],
      "text/plain": [
       "<Result 'C:\\\\Users\\\\Alexander Danielson\\\\Desktop\\\\Fall 2022Spring2023\\\\ArcGIS I\\\\Lab3\\\\Lab3\\\\Lab3.gdb\\\\SlopeDEM'>"
      ]
     },
     "execution_count": 40,
     "metadata": {},
     "output_type": "execute_result"
    }
   ],
   "source": [
    "arcpy.ddd.Slope(\"DEMArea\", r\"C:\\Users\\Alexander Danielson\\Desktop\\Fall 2022Spring2023\\ArcGIS I\\Lab3\\Lab3\\Lab3.gdb\\SlopeDEM\", \"PERCENT_RISE\", 1, \"PLANAR\", \"METER\")"
   ]
  },
  {
   "cell_type": "markdown",
   "metadata": {},
   "source": [
    "### Buffer Road Features 100 Meters"
   ]
  },
  {
   "cell_type": "code",
   "execution_count": 42,
   "metadata": {},
   "outputs": [
    {
     "data": {
      "text/html": [
       "<div class='gpresult'><h2>Messages</h2><div id='messages' data-messages='[\"Start Time: Saturday, November 12, 2022 7:08:55 PM\",\"Succeeded at Saturday, November 12, 2022 7:09:04 PM (Elapsed Time: 9.12 seconds)\"]' data-show='true'><div id = 'default' /></div></div>"
      ],
      "text/plain": [
       "<Result 'C:\\\\Users\\\\Alexander Danielson\\\\Desktop\\\\Fall 2022Spring2023\\\\ArcGIS I\\\\Lab3\\\\Lab3\\\\Lab3.gdb\\\\StreetsClip_Buffer100M'>"
      ]
     },
     "execution_count": 42,
     "metadata": {},
     "output_type": "execute_result"
    }
   ],
   "source": [
    "arcpy.analysis.Buffer(\"StreetsClip\", r\"C:\\Users\\Alexander Danielson\\Desktop\\Fall 2022Spring2023\\ArcGIS I\\Lab3\\Lab3\\Lab3.gdb\\StreetsClip_Buffer100M\", \"100 Meters\", \"FULL\", \"ROUND\", \"NONE\", None, \"PLANAR\")"
   ]
  },
  {
   "cell_type": "markdown",
   "metadata": {},
   "source": [
    "### Erase Riverways Where Intersection of 100 Meter Road Buffers Concide"
   ]
  },
  {
   "cell_type": "code",
   "execution_count": null,
   "metadata": {},
   "outputs": [],
   "source": [
    "arcpy.analysis.Erase(\"StreamsClip\", \"StreetsClip_Buffer100M\", r\"C:\\Users\\Alexander Danielson\\Desktop\\Fall 2022Spring2023\\ArcGIS I\\Lab3\\Lab3\\Lab3.gdb\\StreetsClip_Buffer100M_Erase\", None)"
   ]
  },
  {
   "cell_type": "markdown",
   "metadata": {},
   "source": [
    "### Buffer Clipped River Feature and Convert to Raster for being Recognized in Weights then Use in Raster Calculator (In following steps)"
   ]
  },
  {
   "cell_type": "code",
   "execution_count": 43,
   "metadata": {},
   "outputs": [
    {
     "data": {
      "text/html": [
       "<div class='gpresult'><h2>Messages</h2><div id='messages' data-messages='[\"Start Time: Saturday, November 12, 2022 7:32:00 PM\",\"Succeeded at Saturday, November 12, 2022 7:32:08 PM (Elapsed Time: 8.13 seconds)\"]' data-show='true'><div id = 'default' /></div></div>"
      ],
      "text/plain": [
       "<Result 'C:\\\\Users\\\\Alexander Danielson\\\\Desktop\\\\Fall 2022Spring2023\\\\ArcGIS I\\\\Lab3\\\\Lab3\\\\Lab3.gdb\\\\StreetsClip_Buffer100_Buffer'>"
      ]
     },
     "execution_count": 43,
     "metadata": {},
     "output_type": "execute_result"
    }
   ],
   "source": [
    "arcpy.analysis.Buffer(\"StreetsClip_Buffer100M_Erase\", r\"C:\\Users\\Alexander Danielson\\Desktop\\Fall 2022Spring2023\\ArcGIS I\\Lab3\\Lab3\\Lab3.gdb\\StreetsClip_Buffer100_Buffer\", \"10 Meters\", \"FULL\", \"ROUND\", \"NONE\", None, \"PLANAR\")"
   ]
  },
  {
   "cell_type": "code",
   "execution_count": 44,
   "metadata": {},
   "outputs": [
    {
     "data": {
      "text/html": [
       "<div class='gpresult'><h2>Messages</h2><div id='messages' data-messages='[\"Start Time: Saturday, November 12, 2022 7:36:35 PM\",\"Succeeded at Saturday, November 12, 2022 7:36:37 PM (Elapsed Time: 1.42 seconds)\"]' data-show='true'><div id = 'default' /></div></div>"
      ],
      "text/plain": [
       "<Result 'C:\\\\Users\\\\Alexander Danielson\\\\Desktop\\\\Fall 2022Spring2023\\\\ArcGIS I\\\\Lab3\\\\Lab3\\\\Lab3.gdb\\\\BufferedRiversVector'>"
      ]
     },
     "execution_count": 44,
     "metadata": {},
     "output_type": "execute_result"
    }
   ],
   "source": [
    "arcpy.conversion.FeatureToRaster(\"StreetsClip_Buffer100M_Erase\", \"FW_ID\", r\"C:\\Users\\Alexander Danielson\\Desktop\\Fall 2022Spring2023\\ArcGIS I\\Lab3\\Lab3\\Lab3.gdb\\BufferedRiversVector\", 276.583641600005)"
   ]
  },
  {
   "cell_type": "markdown",
   "metadata": {},
   "source": [
    "## Reclassifcation"
   ]
  },
  {
   "cell_type": "markdown",
   "metadata": {},
   "source": [
    "### Relcassify NLCD for Land Use"
   ]
  },
  {
   "cell_type": "code",
   "execution_count": 2,
   "metadata": {},
   "outputs": [
    {
     "data": {
      "text/html": [
       "<div class='gpresult'><h2>Messages</h2><div id='messages' data-messages='[\"Start Time: Saturday, November 19, 2022 8:18:09 AM\",\"Succeeded at Saturday, November 19, 2022 8:18:11 AM (Elapsed Time: 1.78 seconds)\"]' data-show='true'><div id = 'default' /></div></div>"
      ],
      "text/plain": [
       "<Result 'C:\\\\Users\\\\Alexander Danielson\\\\Desktop\\\\Fall 2022Spring2023\\\\ArcGIS I\\\\Lab3\\\\Lab3\\\\Lab3.gdb\\\\Reclass_NLCD20classes'>"
      ]
     },
     "execution_count": 2,
     "metadata": {},
     "output_type": "execute_result"
    }
   ],
   "source": [
    "arcpy.ddd.Reclassify(\"NLCDArea\", \"Value\", \"11 15.200000 1;15.200000 19.400000 2;19.400000 23.600000 3;23.600000 27.800000 4;27.800000 32 5;32 36.200000 6;36.200000 40.400000 7;40.400000 44.600000 8;44.600000 48.800000 9;48.800000 53 10;53 57.200000 11;57.200000 61.400000 12;61.400000 65.600000 13;65.600000 69.800000 14;69.800000 74 15;74 78.200000 16;78.200000 82.400000 17;82.400000 86.600000 18;86.600000 90.800000 19;90.800000 95 20\", r\"C:\\Users\\Alexander Danielson\\Desktop\\Fall 2022Spring2023\\ArcGIS I\\Lab3\\Lab3\\Lab3.gdb\\Reclass_NLCD20classes\", \"DATA\")"
   ]
  },
  {
   "cell_type": "markdown",
   "metadata": {},
   "source": [
    "### Relcassify Slope"
   ]
  },
  {
   "cell_type": "code",
   "execution_count": 1,
   "metadata": {},
   "outputs": [
    {
     "data": {
      "text/html": [
       "<div class='gpresult'><h2>Messages</h2><div id='messages' data-messages='[\"Start Time: Saturday, November 19, 2022 8:16:49 AM\",\"Succeeded at Saturday, November 19, 2022 8:16:52 AM (Elapsed Time: 2.81 seconds)\"]' data-show='true'><div id = 'default' /></div></div>"
      ],
      "text/plain": [
       "<Result 'C:\\\\Users\\\\Alexander Danielson\\\\Desktop\\\\Fall 2022Spring2023\\\\ArcGIS I\\\\Lab3\\\\Lab3\\\\Lab3.gdb\\\\Reclass_Slope20classes'>"
      ]
     },
     "execution_count": 1,
     "metadata": {},
     "output_type": "execute_result"
    }
   ],
   "source": [
    "arcpy.ddd.Reclassify(\"SlopeDEM\", \"VALUE\", \"0 26.673990 1;26.673990 53.347980 2;53.347980 80.021970 3;80.021970 106.695959 4;106.695959 133.369949 5;133.369949 160.043939 6;160.043939 186.717929 7;186.717929 213.391919 8;213.391919 240.065909 9;240.065909 266.739899 10;266.739899 293.413889 11;293.413889 320.087878 12;320.087878 346.761868 13;346.761868 373.435858 14;373.435858 400.109848 15;400.109848 426.783838 16;426.783838 453.457828 17;453.457828 480.131818 18;480.131818 506.805807 19;506.805807 533.479797 20\", r\"C:\\Users\\Alexander Danielson\\Desktop\\Fall 2022Spring2023\\ArcGIS I\\Lab3\\Lab3\\Lab3.gdb\\Reclass_Slope20classes\", \"DATA\")"
   ]
  },
  {
   "cell_type": "markdown",
   "metadata": {},
   "source": [
    "### Reclassify Streams for Study Area 1 = Rivers and 0 = Study Area"
   ]
  },
  {
   "cell_type": "code",
   "execution_count": 49,
   "metadata": {},
   "outputs": [
    {
     "ename": "TypeError",
     "evalue": "RasterCalculator() missing 2 required positional arguments: 'input_names' and 'expression'",
     "output_type": "error",
     "traceback": [
      "\u001b[0;31m---------------------------------------------------------------------------\u001b[0m\n\u001b[0;31mTypeError\u001b[0m                                 Traceback (most recent call last)",
      "In  \u001b[0;34m[49]\u001b[0m:\nLine \u001b[0;34m1\u001b[0m:     output_raster = arcpy.ia.RasterCalculator(\u001b[33m'\u001b[39;49;00m\u001b[33m Con(IsNull( \u001b[39;49;00m\u001b[33m\"\u001b[39;49;00m\u001b[33mBufferedRiversVector\u001b[39;49;00m\u001b[33m\"\u001b[39;49;00m\u001b[33m),0, \u001b[39;49;00m\u001b[33m\"\u001b[39;49;00m\u001b[33mBufferedRiversVector\u001b[39;49;00m\u001b[33m\"\u001b[39;49;00m\u001b[33m)\u001b[39;49;00m\u001b[33m'\u001b[39;49;00m); output_raster.save(\u001b[33mr\u001b[39;49;00m\u001b[33m\"\u001b[39;49;00m\u001b[33mC:\u001b[39;49;00m\u001b[33m\\\u001b[39;49;00m\u001b[33mUsers\u001b[39;49;00m\u001b[33m\\\u001b[39;49;00m\u001b[33mAlexander Danielson\u001b[39;49;00m\u001b[33m\\\u001b[39;49;00m\u001b[33mDesktop\u001b[39;49;00m\u001b[33m\\\u001b[39;49;00m\u001b[33mFall 2022Spring2023\u001b[39;49;00m\u001b[33m\\\u001b[39;49;00m\u001b[33mArcGIS I\u001b[39;49;00m\u001b[33m\\\u001b[39;49;00m\u001b[33mLab3\u001b[39;49;00m\u001b[33m\\\u001b[39;49;00m\u001b[33mLab3\u001b[39;49;00m\u001b[33m\\\u001b[39;49;00m\u001b[33mLab3.gdb\u001b[39;49;00m\u001b[33m\\\u001b[39;49;00m\u001b[33mRasterCalStreams01\u001b[39;49;00m\u001b[33m\"\u001b[39;49;00m)\n",
      "\u001b[0;31mTypeError\u001b[0m: RasterCalculator() missing 2 required positional arguments: 'input_names' and 'expression'\n\u001b[0;31m---------------------------------------------------------------------------\u001b[0m"
     ]
    }
   ],
   "source": [
    "output_raster = arcpy.ia.RasterCalculator(' Con(IsNull( \"BufferedRiversVector\"),0, \"BufferedRiversVector\")'); output_raster.save(r\"C:\\Users\\Alexander Danielson\\Desktop\\Fall 2022Spring2023\\ArcGIS I\\Lab3\\Lab3\\Lab3.gdb\\RasterCalStreams01\")"
   ]
  },
  {
   "cell_type": "markdown",
   "metadata": {},
   "source": [
    "# Create Buffers For Dory's Farm and North Picnic Area and Seperate Buffers"
   ]
  },
  {
   "cell_type": "markdown",
   "metadata": {},
   "source": [
    "## Create Buffers For Dory's Farm and North Picnic Area and  Seperate Buffers into Own Feature Class then Convert to Raster"
   ]
  },
  {
   "cell_type": "code",
   "execution_count": 5,
   "metadata": {},
   "outputs": [
    {
     "data": {
      "text/html": [
       "<div class='gpresult'><h2>Messages</h2><div id='messages' data-messages='[\"Start Time: Sunday, November 13, 2022 7:52:58 AM\",\"Succeeded at Sunday, November 13, 2022 7:52:58 AM (Elapsed Time: 0.87 seconds)\"]' data-show='true'><div id = 'default' /></div></div>"
      ],
      "text/plain": [
       "<Result 'C:\\\\Users\\\\Alexander Danielson\\\\Desktop\\\\Fall 2022Spring2023\\\\ArcGIS I\\\\Lab3\\\\Lab3\\\\Lab3.gdb\\\\DoryNPATable_XYTableT_Buffer'>"
      ]
     },
     "execution_count": 5,
     "metadata": {},
     "output_type": "execute_result"
    }
   ],
   "source": [
    "arcpy.analysis.Buffer(\"DoryNPATable_XYTableToPoint\", r\"C:\\Users\\Alexander Danielson\\Desktop\\Fall 2022Spring2023\\ArcGIS I\\Lab3\\Lab3\\Lab3.gdb\\DoryNPATable_XYTableT_Buffer\", \"100 Meters\", \"FULL\", \"ROUND\", \"NONE\", None, \"PLANAR\")"
   ]
  },
  {
   "cell_type": "code",
   "execution_count": 8,
   "metadata": {},
   "outputs": [
    {
     "data": {
      "text/html": [
       "<div class='gpresult'><h2>Messages</h2><div id='messages' data-messages='[\"Start Time: Sunday, November 13, 2022 8:08:00 AM\",\"Succeeded at Sunday, November 13, 2022 8:08:02 AM (Elapsed Time: 1.47 seconds)\"]' data-show='true'><div id = 'default' /></div></div>"
      ],
      "text/plain": [
       "<Result 'C:\\\\Users\\\\Alexander Danielson\\\\Desktop\\\\Fall 2022Spring2023\\\\ArcGIS I\\\\Lab3\\\\Lab3\\\\Lab3.gdb\\\\DoryBuffersRaster'>"
      ]
     },
     "execution_count": 8,
     "metadata": {},
     "output_type": "execute_result"
    }
   ],
   "source": [
    "arcpy.conversion.FeatureToRaster(\"DorysFarm\", \"OBJECTID\", r\"C:\\Users\\Alexander Danielson\\Desktop\\Fall 2022Spring2023\\ArcGIS I\\Lab3\\Lab3\\Lab3.gdb\\DoryBuffersRaster\", 0.000299576288000026)"
   ]
  },
  {
   "cell_type": "code",
   "execution_count": 9,
   "metadata": {},
   "outputs": [
    {
     "data": {
      "text/html": [
       "<div class='gpresult'><h2>Messages</h2><div id='messages' data-messages='[\"Start Time: Sunday, November 13, 2022 8:08:09 AM\",\"Succeeded at Sunday, November 13, 2022 8:08:10 AM (Elapsed Time: 1.54 seconds)\"]' data-show='true'><div id = 'default' /></div></div>"
      ],
      "text/plain": [
       "<Result 'C:\\\\Users\\\\Alexander Danielson\\\\Desktop\\\\Fall 2022Spring2023\\\\ArcGIS I\\\\Lab3\\\\Lab3\\\\Lab3.gdb\\\\NPABuffersRaster'>"
      ]
     },
     "execution_count": 9,
     "metadata": {},
     "output_type": "execute_result"
    }
   ],
   "source": [
    "arcpy.conversion.FeatureToRaster(\"NPA\", \"OBJECTID\", r\"C:\\Users\\Alexander Danielson\\Desktop\\Fall 2022Spring2023\\ArcGIS I\\Lab3\\Lab3\\Lab3.gdb\\NPABuffersRaster\", 0.000299576288000026)"
   ]
  },
  {
   "cell_type": "markdown",
   "metadata": {},
   "source": [
    "# Input Reclassifed Rasters to Be Weighted and Create Cost Surface Analysis"
   ]
  },
  {
   "cell_type": "markdown",
   "metadata": {},
   "source": [
    "## Create Weighted Raster"
   ]
  },
  {
   "cell_type": "code",
   "execution_count": 11,
   "metadata": {},
   "outputs": [],
   "source": [
    "out_raster = arcpy.ia.WeightedSum(\"Reclass_NLCD20classes Value 1;ReclassDEM Value 3\"); out_raster.save(r\"C:\\Users\\Alexander Danielson\\Desktop\\Fall 2022Spring2023\\ArcGIS I\\Lab3\\Lab3\\Lab3.gdb\\Weighte_Recl3DEMHighNLCD20Class\")"
   ]
  },
  {
   "cell_type": "markdown",
   "metadata": {},
   "source": [
    "### Use Raster Calculator For Multiplying All Rasters Together (Landcover, Roads, and Streams)"
   ]
  },
  {
   "cell_type": "code",
   "execution_count": 106,
   "metadata": {
    "scrolled": true
   },
   "outputs": [
    {
     "ename": "SyntaxError",
     "evalue": "invalid syntax (<string>, line 1)",
     "output_type": "error",
     "traceback": [
      "\u001b[0;31m---------------------------------------------------------------------------\u001b[0m\n\u001b[0;31mSyntaxError\u001b[0m                               Traceback (most recent call last)",
      "File \u001b[0;34mC:\\Program Files\\ArcGIS\\Pro\\bin\\Python\\envs\\arcgispro-py3\\lib\\ast.py\u001b[0m, in \u001b[0;32mparse\u001b[0m:\nLine \u001b[0;34m50\u001b[0m:    \u001b[34mreturn\u001b[39;49;00m \u001b[36mcompile\u001b[39;49;00m(source, filename, mode, flags,\n",
      "\u001b[0;31mSyntaxError\u001b[0m: invalid syntax (<string>, line 1)\n\u001b[0;31m---------------------------------------------------------------------------\u001b[0m"
     ]
    }
   ],
   "source": [
    "output_raster = arcpy.ia.RasterCalculator('StreamOutput =  Con(IsNull(\"ReClassStreams\"), 0 , \"ReClassStreams\" )'); output_raster.save(r\"C:\\Users\\Alexander Danielson\\Desktop\\Fall 2022Springoutput_raster = arcpy.ia.RasterCalculator('StreamOutput =  Con(IsNull(\"ReClassStreams\"), 0 , \"ReClassStreams\" )'); output_raster.save(r\"C:\\Users\\Alexander Danielson\\Desktop\\Fall 2022Spring2023\\ArcGIS I\\Lab2\\Lab2\\Lab2.gdb\\RasterCalculatorStreams\")2023\\ArcGIS I\\Lab2\\Lab2\\Lab2.gdb\\RasterCalculatorStreams\")"
   ]
  },
  {
   "cell_type": "markdown",
   "metadata": {},
   "source": [
    "## Create Cost Surface (Distance) Raster"
   ]
  },
  {
   "cell_type": "code",
   "execution_count": 12,
   "metadata": {},
   "outputs": [],
   "source": [
    "out_distance_raster = arcpy.sa.CostDistance(\"NPA\", \"Weighte_Recl3DEMHighNLCD20Class\", None, None, None, None, None, None, ''); out_distance_raster.save(r\"C:\\Users\\Alexander Danielson\\Desktop\\Fall 2022Spring2023\\ArcGIS I\\Lab3\\Lab3\\Lab3.gdb\\CostDis_NLCDHigher4\")"
   ]
  },
  {
   "cell_type": "markdown",
   "metadata": {},
   "source": [
    "## Create Back Link "
   ]
  },
  {
   "cell_type": "code",
   "execution_count": 13,
   "metadata": {},
   "outputs": [],
   "source": [
    "out_backlink_raster = arcpy.sa.CostBackLink(\"NPA\", \"Weighte_Recl3DEMHighNLCD20Class\", None, None, None, None, None, None, ''); out_backlink_raster.save(r\"C:\\Users\\Alexander Danielson\\Desktop\\Fall 2022Spring2023\\ArcGIS I\\Lab3\\Lab3\\Lab3.gdb\\CostBac_NLCD4\")"
   ]
  },
  {
   "cell_type": "markdown",
   "metadata": {},
   "source": [
    "## Create Cost Surface Allocation Raster"
   ]
  },
  {
   "cell_type": "code",
   "execution_count": 110,
   "metadata": {},
   "outputs": [],
   "source": [
    "out_allocation_raster = arcpy.sa.CostAllocation(\"DisplayXYPathDoryFarmtoNPA\", \"WeightedRaster\", None, None, \"OBJECTID\", None, None, None, None, None, None, ''); out_allocation_raster.save(r\"C:\\Users\\Alexander Danielson\\Desktop\\Fall 2022Spring2023\\ArcGIS I\\Lab2\\Lab2\\Lab2.gdb\\CosrSurfaceAllo\")"
   ]
  },
  {
   "cell_type": "markdown",
   "metadata": {},
   "source": [
    "## Create Cost Path for Final Route"
   ]
  },
  {
   "cell_type": "code",
   "execution_count": 14,
   "metadata": {},
   "outputs": [],
   "source": [
    "out_raster = arcpy.sa.CostPath(\"NPA\", \"out_distance_raster4\", \"out_backlink_raster4\", \"EACH_CELL\", \"ORIG_FID\", \"INPUT_RANGE\"); out_raster.save(r\"C:\\Users\\Alexander Danielson\\Desktop\\Fall 2022Spring2023\\ArcGIS I\\Lab3\\Lab3\\Lab3.gdb\\CostPat_4\")"
   ]
  },
  {
   "cell_type": "code",
   "execution_count": null,
   "metadata": {},
   "outputs": [],
   "source": []
  }
 ],
 "metadata": {
  "kernelspec": {
   "display_name": "ArcGISPro",
   "language": "Python",
   "name": "python3"
  },
  "language_info": {
   "file_extension": ".py",
   "name": "python",
   "version": "3"
  }
 },
 "nbformat": 4,
 "nbformat_minor": 2
}
