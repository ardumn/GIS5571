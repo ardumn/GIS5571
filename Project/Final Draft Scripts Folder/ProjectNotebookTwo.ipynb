{
 "cells": [
  {
   "cell_type": "markdown",
   "metadata": {},
   "source": [
    "# Data Flow Diagram Two: Create Fishnet (Grid) and Perform Linear Directional Mean for Each Lineament and Stream Network to Compare Directional Analysis"
   ]
  },
  {
   "cell_type": "markdown",
   "metadata": {},
   "source": [
    "## Directional Analysis of each Aspect, Slope, and Hillshade Lineament Swath in Juxtaposition to Tharsis Mons Study Area and Outliers"
   ]
  },
  {
   "cell_type": "markdown",
   "metadata": {},
   "source": [
    "### Create Fishnet (Grid Index) for Mars to Input Lineamnets and Stream Networks (for each Linear Feature)"
   ]
  },
  {
   "cell_type": "code",
   "execution_count": 2,
   "metadata": {},
   "outputs": [
    {
     "data": {
      "text/html": [
       "<h2>Output</h2>C:\\Users\\danie861\\Desktop\\FinalProject\\FinalProject\\Default.gdb\\MarsGrid<h2>Messages</h2>Start Time: Monday, November 21, 2022 12:49:16 PM<br/>Succeeded at Monday, November 21, 2022 12:49:16 PM (Elapsed Time: 0.77 seconds)<br/><style>.rendered_html td, .rendered_html th {text-align: left;}.rendered_html tbody {border: 1px solid black;}</style>"
      ],
      "text/plain": [
       "<Result 'C:\\\\Users\\\\danie861\\\\Desktop\\\\FinalProject\\\\FinalProject\\\\Default.gdb\\\\MarsGrid'>"
      ]
     },
     "execution_count": 2,
     "metadata": {},
     "output_type": "execute_result"
    }
   ],
   "source": [
    "arcpy.cartography.GridIndexFeatures(r\"C:\\Users\\danie861\\Desktop\\FinalProject\\FinalProject\\Default.gdb\\MarsGridPoly\", \"elevofmars\", \"INTERSECTFEATURE\", \"NO_USEPAGEUNIT\", None, \"1 DecimalDegrees\", \"1 DecimalDegrees\", \"-8997019.132795 -2599056.999902\", 52, 61, 1, \"NO_LABELFROMORIGIN\")\n",
    "# Creates a Grid Index that is suppose to be intended for gridded pages and maps, but can also act as a substitute for Fishnet to split/intersect vector features."
   ]
  },
  {
   "cell_type": "markdown",
   "metadata": {},
   "source": [
    "## Insert Each Lineament Feature into Fishnet (Grid) for Tharsis Mons Study Area For Linear Directional Mean Analysis by Spliting on Grid Index "
   ]
  },
  {
   "cell_type": "markdown",
   "metadata": {},
   "source": [
    "### A Feature Dataset is Created for Each Digtial Product/Lineament Feature when Split by Grid Index:"
   ]
  },
  {
   "cell_type": "code",
   "execution_count": 2,
   "metadata": {},
   "outputs": [
    {
     "data": {
      "text/html": [
       "<h2>Output</h2>C:\\Users\\danie861\\Desktop\\FinalProject\\FinalProject\\Default.gdb\\AspectLinear_ClipLayer<h2>Messages</h2>Start Time: Monday, November 21, 2022 1:16:37 PM<br/>Started Spark Job 1 with 16 tasks.<br/>Spark Job 1 completed in 0.5 seconds.<br/>Started Spark Job 2 with 48 tasks.<br/>Spark Job 2 completed in 2.3 seconds.<br/>Succeeded at Monday, November 21, 2022 1:16:43 PM (Elapsed Time: 5.69 seconds)<br/><style>.rendered_html td, .rendered_html th {text-align: left;}.rendered_html tbody {border: 1px solid black;}</style>"
      ],
      "text/plain": [
       "<Result 'C:\\\\Users\\\\danie861\\\\Desktop\\\\FinalProject\\\\FinalProject\\\\Default.gdb\\\\AspectLinear_ClipLayer'>"
      ]
     },
     "execution_count": 2,
     "metadata": {},
     "output_type": "execute_result"
    }
   ],
   "source": [
    "arcpy.analysis.Split(\"AspectLinear\", \"MarsGridPoly\", \"PageName\", r\"C:\\Users\\danie861\\Desktop\\FinalProject\\FinalProject\\Default.gdb\\AspectLines\", None)\n",
    "# Aspect Split"
   ]
  },
  {
   "cell_type": "code",
   "execution_count": null,
   "metadata": {},
   "outputs": [],
   "source": [
    "arcpy.analysis.Split(\"SlopeLinear\", \"MarsGridPoly\", \"PageName\", r\"C:\\Users\\danie861\\Desktop\\FinalProject\\FinalProject\\Default.gdb\\SlopeLines\", None)\n",
    "# Slope Split"
   ]
  },
  {
   "cell_type": "code",
   "execution_count": null,
   "metadata": {},
   "outputs": [],
   "source": [
    "arcpy.analysis.Split(\"HillshadeLinear\", \"MarsGridPoly\", \"PageName\", r\"C:\\Users\\danie861\\Desktop\\FinalProject\\FinalProject\\Default.gdb\\HillshadeLines\", None)\n",
    "# Hillshade Split"
   ]
  },
  {
   "cell_type": "markdown",
   "metadata": {},
   "source": [
    "## Perform Linear Directional Mean Analysis on each Main Lineament Feature and 20 Split sub-features "
   ]
  },
  {
   "cell_type": "markdown",
   "metadata": {},
   "source": [
    "### Aspect LDM Analysis:"
   ]
  },
  {
   "cell_type": "code",
   "execution_count": null,
   "metadata": {},
   "outputs": [],
   "source": [
    "arcpy.stats.DirectionalMean(\"AspectLinear\", r\"C:\\Users\\danie861\\Desktop\\FinalProject\\FinalProject\\Default.gdb\\AspectLinear_DirectionalMean\", \"DIRECTION\", \"Id\")"
   ]
  },
  {
   "cell_type": "markdown",
   "metadata": {},
   "source": [
    "### Slope LDM Analysis:"
   ]
  },
  {
   "cell_type": "code",
   "execution_count": 3,
   "metadata": {},
   "outputs": [
    {
     "data": {
      "text/html": [
       "<h2>Output</h2>C:\\Users\\danie861\\Desktop\\FinalProject\\FinalProject\\Default.gdb\\SlopeLinear_DirectionalMean<h2>Messages</h2>Start Time: Friday, December 2, 2022 8:59:06 AM<br/>WARNING 000642: Problems reading 3 of 1057 total records.<br/>WARNING 000848: Features with bad records (only includes first 30): OBJECTID = 1055, 1056, 1057.<br/>Succeeded at Friday, December 2, 2022 8:59:30 AM (Elapsed Time: 23.94 seconds)<br/><style>.rendered_html td, .rendered_html th {text-align: left;}.rendered_html tbody {border: 1px solid black;}</style>"
      ],
      "text/plain": [
       "<Result 'C:\\\\Users\\\\danie861\\\\Desktop\\\\FinalProject\\\\FinalProject\\\\Default.gdb\\\\SlopeLinear_DirectionalMean'>"
      ]
     },
     "execution_count": 3,
     "metadata": {},
     "output_type": "execute_result"
    }
   ],
   "source": [
    "arcpy.stats.DirectionalMean(\"SlopeLinear\", r\"C:\\Users\\danie861\\Desktop\\FinalProject\\FinalProject\\Default.gdb\\SlopeLinear_DirectionalMean\", \"DIRECTION\", \"Id\")"
   ]
  },
  {
   "cell_type": "markdown",
   "metadata": {},
   "source": [
    "### Hillshade LDM Analysis:"
   ]
  },
  {
   "cell_type": "code",
   "execution_count": 4,
   "metadata": {},
   "outputs": [
    {
     "data": {
      "text/html": [
       "<h2>Output</h2>C:\\Users\\danie861\\Desktop\\FinalProject\\FinalProject\\Default.gdb\\HillshadeLinear_DirectionalMean<h2>Messages</h2>Start Time: Friday, December 2, 2022 9:00:53 AM<br/>WARNING 000642: Problems reading 12 of 1817 total records.<br/>WARNING 000848: Features with bad records (only includes first 30): OBJECTID = 1806, 1807, 1808, 1809, 1810, 1811, 1812, 1813, 1814, 1816, 1817, 1818.<br/>Succeeded at Friday, December 2, 2022 9:01:12 AM (Elapsed Time: 18.96 seconds)<br/><style>.rendered_html td, .rendered_html th {text-align: left;}.rendered_html tbody {border: 1px solid black;}</style>"
      ],
      "text/plain": [
       "<Result 'C:\\\\Users\\\\danie861\\\\Desktop\\\\FinalProject\\\\FinalProject\\\\Default.gdb\\\\HillshadeLinear_DirectionalMean'>"
      ]
     },
     "execution_count": 4,
     "metadata": {},
     "output_type": "execute_result"
    }
   ],
   "source": [
    "arcpy.stats.DirectionalMean(\"HillshadeLinear\", r\"C:\\Users\\danie861\\Desktop\\FinalProject\\FinalProject\\Default.gdb\\HillshadeLinear_DirectionalMean\", \"DIRECTION\", \"Id\")"
   ]
  },
  {
   "cell_type": "markdown",
   "metadata": {},
   "source": [
    "### Aspect 20 Splits LDM Analysis:"
   ]
  },
  {
   "cell_type": "code",
   "execution_count": null,
   "metadata": {},
   "outputs": [],
   "source": [
    "arcpy.stats.DirectionalMean(r\"C:\\Users\\danie861\\Desktop\\FinalProject\\FinalProject\\Default.gdb\\AspectLines\\AA4\", r\"C:\\Users\\danie861\\Desktop\\FinalProject\\FinalProject\\Default.gdb\\AA4_DirectionalMean\", \"DIRECTION\", \"Id\")"
   ]
  },
  {
   "cell_type": "code",
   "execution_count": null,
   "metadata": {},
   "outputs": [],
   "source": [
    "arcpy.stats.DirectionalMean(r\"C:\\Users\\danie861\\Desktop\\FinalProject\\FinalProject\\Default.gdb\\AspectLines\\AA5\", r\"C:\\Users\\danie861\\Desktop\\FinalProject\\FinalProject\\Default.gdb\\AA5_DirectionalMean\", \"DIRECTION\", \"Id\")"
   ]
  },
  {
   "cell_type": "code",
   "execution_count": null,
   "metadata": {},
   "outputs": [],
   "source": [
    "arcpy.stats.DirectionalMean(r\"C:\\Users\\danie861\\Desktop\\FinalProject\\FinalProject\\Default.gdb\\AspectLines\\AA17\", r\"C:\\Users\\danie861\\Desktop\\FinalProject\\FinalProject\\Default.gdb\\AA17_DirectionalMean\", \"DIRECTION\", \"Id\")"
   ]
  },
  {
   "cell_type": "code",
   "execution_count": null,
   "metadata": {},
   "outputs": [],
   "source": [
    "arcpy.stats.DirectionalMean(r\"C:\\Users\\danie861\\Desktop\\FinalProject\\FinalProject\\Default.gdb\\AspectLines\\AA24\", r\"C:\\Users\\danie861\\Desktop\\FinalProject\\FinalProject\\Default.gdb\\AA24_DirectionalMean\", \"DIRECTION\", \"Id\")"
   ]
  },
  {
   "cell_type": "code",
   "execution_count": 1,
   "metadata": {},
   "outputs": [
    {
     "data": {
      "text/html": [
       "<h2>Output</h2>C:\\Users\\danie861\\Desktop\\FinalProject\\FinalProject\\Default.gdb\\AA26_DirectionalMean<h2>Messages</h2>Start Time: Monday, November 28, 2022 9:12:11 AM<br/>WARNING 110068: The Rayleigh test requires at least 4 features for a two-dimensional result and 8 features for a three-dimensional result to be valid.<br/>Succeeded at Monday, November 28, 2022 9:12:31 AM (Elapsed Time: 19.35 seconds)<br/><style>.rendered_html td, .rendered_html th {text-align: left;}.rendered_html tbody {border: 1px solid black;}</style>"
      ],
      "text/plain": [
       "<Result 'C:\\\\Users\\\\danie861\\\\Desktop\\\\FinalProject\\\\FinalProject\\\\Default.gdb\\\\AA26_DirectionalMean'>"
      ]
     },
     "execution_count": 1,
     "metadata": {},
     "output_type": "execute_result"
    }
   ],
   "source": [
    "arcpy.stats.DirectionalMean(r\"C:\\Users\\danie861\\Desktop\\FinalProject\\FinalProject\\Default.gdb\\AspectLines\\AA26\", r\"C:\\Users\\danie861\\Desktop\\FinalProject\\FinalProject\\Default.gdb\\AA26_DirectionalMean\", \"DIRECTION\", \"Id\")"
   ]
  },
  {
   "cell_type": "code",
   "execution_count": 2,
   "metadata": {},
   "outputs": [
    {
     "data": {
      "text/html": [
       "<h2>Output</h2>C:\\Users\\danie861\\Desktop\\FinalProject\\FinalProject\\Default.gdb\\AA28_DirectionalMean<h2>Messages</h2>Start Time: Monday, November 28, 2022 9:21:03 AM<br/>WARNING 110068: The Rayleigh test requires at least 4 features for a two-dimensional result and 8 features for a three-dimensional result to be valid.<br/>Succeeded at Monday, November 28, 2022 9:21:23 AM (Elapsed Time: 20.33 seconds)<br/><style>.rendered_html td, .rendered_html th {text-align: left;}.rendered_html tbody {border: 1px solid black;}</style>"
      ],
      "text/plain": [
       "<Result 'C:\\\\Users\\\\danie861\\\\Desktop\\\\FinalProject\\\\FinalProject\\\\Default.gdb\\\\AA28_DirectionalMean'>"
      ]
     },
     "execution_count": 2,
     "metadata": {},
     "output_type": "execute_result"
    }
   ],
   "source": [
    "arcpy.stats.DirectionalMean(r\"C:\\Users\\danie861\\Desktop\\FinalProject\\FinalProject\\Default.gdb\\AspectLines\\AA28\", r\"C:\\Users\\danie861\\Desktop\\FinalProject\\FinalProject\\Default.gdb\\AA28_DirectionalMean\", \"DIRECTION\", \"Id\")"
   ]
  },
  {
   "cell_type": "code",
   "execution_count": 3,
   "metadata": {},
   "outputs": [
    {
     "data": {
      "text/html": [
       "<h2>Output</h2>C:\\Users\\danie861\\Desktop\\FinalProject\\FinalProject\\Default.gdb\\AA31_DirectionalMean<h2>Messages</h2>Start Time: Monday, November 28, 2022 9:21:27 AM<br/>Succeeded at Monday, November 28, 2022 9:21:47 AM (Elapsed Time: 19.70 seconds)<br/><style>.rendered_html td, .rendered_html th {text-align: left;}.rendered_html tbody {border: 1px solid black;}</style>"
      ],
      "text/plain": [
       "<Result 'C:\\\\Users\\\\danie861\\\\Desktop\\\\FinalProject\\\\FinalProject\\\\Default.gdb\\\\AA31_DirectionalMean'>"
      ]
     },
     "execution_count": 3,
     "metadata": {},
     "output_type": "execute_result"
    }
   ],
   "source": [
    "arcpy.stats.DirectionalMean(r\"C:\\Users\\danie861\\Desktop\\FinalProject\\FinalProject\\Default.gdb\\AspectLines\\AA31\", r\"C:\\Users\\danie861\\Desktop\\FinalProject\\FinalProject\\Default.gdb\\AA31_DirectionalMean\", \"DIRECTION\", \"Id\")"
   ]
  },
  {
   "cell_type": "code",
   "execution_count": 4,
   "metadata": {},
   "outputs": [
    {
     "data": {
      "text/html": [
       "<h2>Output</h2>C:\\Users\\danie861\\Desktop\\FinalProject\\FinalProject\\Default.gdb\\AA32_DirectionalMean<h2>Messages</h2>Start Time: Monday, November 28, 2022 9:21:52 AM<br/>Succeeded at Monday, November 28, 2022 9:22:12 AM (Elapsed Time: 19.51 seconds)<br/><style>.rendered_html td, .rendered_html th {text-align: left;}.rendered_html tbody {border: 1px solid black;}</style>"
      ],
      "text/plain": [
       "<Result 'C:\\\\Users\\\\danie861\\\\Desktop\\\\FinalProject\\\\FinalProject\\\\Default.gdb\\\\AA32_DirectionalMean'>"
      ]
     },
     "execution_count": 4,
     "metadata": {},
     "output_type": "execute_result"
    }
   ],
   "source": [
    "arcpy.stats.DirectionalMean(r\"C:\\Users\\danie861\\Desktop\\FinalProject\\FinalProject\\Default.gdb\\AspectLines\\AA32\", r\"C:\\Users\\danie861\\Desktop\\FinalProject\\FinalProject\\Default.gdb\\AA32_DirectionalMean\", \"DIRECTION\", \"Id\")"
   ]
  },
  {
   "cell_type": "code",
   "execution_count": 5,
   "metadata": {},
   "outputs": [
    {
     "data": {
      "text/html": [
       "<h2>Output</h2>C:\\Users\\danie861\\Desktop\\FinalProject\\FinalProject\\Default.gdb\\AA41_DirectionalMean<h2>Messages</h2>Start Time: Monday, November 28, 2022 9:22:16 AM<br/>Succeeded at Monday, November 28, 2022 9:22:36 AM (Elapsed Time: 19.76 seconds)<br/><style>.rendered_html td, .rendered_html th {text-align: left;}.rendered_html tbody {border: 1px solid black;}</style>"
      ],
      "text/plain": [
       "<Result 'C:\\\\Users\\\\danie861\\\\Desktop\\\\FinalProject\\\\FinalProject\\\\Default.gdb\\\\AA41_DirectionalMean'>"
      ]
     },
     "execution_count": 5,
     "metadata": {},
     "output_type": "execute_result"
    }
   ],
   "source": [
    "arcpy.stats.DirectionalMean(r\"C:\\Users\\danie861\\Desktop\\FinalProject\\FinalProject\\Default.gdb\\AspectLines\\AA41\", r\"C:\\Users\\danie861\\Desktop\\FinalProject\\FinalProject\\Default.gdb\\AA41_DirectionalMean\", \"DIRECTION\", \"Id\")"
   ]
  },
  {
   "cell_type": "code",
   "execution_count": 6,
   "metadata": {},
   "outputs": [
    {
     "data": {
      "text/html": [
       "<h2>Output</h2>C:\\Users\\danie861\\Desktop\\FinalProject\\FinalProject\\Default.gdb\\AA42_DirectionalMean<h2>Messages</h2>Start Time: Monday, November 28, 2022 9:22:42 AM<br/>Succeeded at Monday, November 28, 2022 9:23:01 AM (Elapsed Time: 19.63 seconds)<br/><style>.rendered_html td, .rendered_html th {text-align: left;}.rendered_html tbody {border: 1px solid black;}</style>"
      ],
      "text/plain": [
       "<Result 'C:\\\\Users\\\\danie861\\\\Desktop\\\\FinalProject\\\\FinalProject\\\\Default.gdb\\\\AA42_DirectionalMean'>"
      ]
     },
     "execution_count": 6,
     "metadata": {},
     "output_type": "execute_result"
    }
   ],
   "source": [
    "arcpy.stats.DirectionalMean(r\"C:\\Users\\danie861\\Desktop\\FinalProject\\FinalProject\\Default.gdb\\AspectLines\\AA42\", r\"C:\\Users\\danie861\\Desktop\\FinalProject\\FinalProject\\Default.gdb\\AA42_DirectionalMean\", \"DIRECTION\", \"Id\")"
   ]
  },
  {
   "cell_type": "code",
   "execution_count": 7,
   "metadata": {},
   "outputs": [
    {
     "data": {
      "text/html": [
       "<h2>Output</h2>C:\\Users\\danie861\\Desktop\\FinalProject\\FinalProject\\Default.gdb\\AA43_DirectionalMean<h2>Messages</h2>Start Time: Monday, November 28, 2022 9:23:06 AM<br/>WARNING 110068: The Rayleigh test requires at least 4 features for a two-dimensional result and 8 features for a three-dimensional result to be valid.<br/>Succeeded at Monday, November 28, 2022 9:23:26 AM (Elapsed Time: 19.87 seconds)<br/><style>.rendered_html td, .rendered_html th {text-align: left;}.rendered_html tbody {border: 1px solid black;}</style>"
      ],
      "text/plain": [
       "<Result 'C:\\\\Users\\\\danie861\\\\Desktop\\\\FinalProject\\\\FinalProject\\\\Default.gdb\\\\AA43_DirectionalMean'>"
      ]
     },
     "execution_count": 7,
     "metadata": {},
     "output_type": "execute_result"
    }
   ],
   "source": [
    "arcpy.stats.DirectionalMean(r\"C:\\Users\\danie861\\Desktop\\FinalProject\\FinalProject\\Default.gdb\\AspectLines\\AA43\", r\"C:\\Users\\danie861\\Desktop\\FinalProject\\FinalProject\\Default.gdb\\AA43_DirectionalMean\", \"DIRECTION\", \"Id\")"
   ]
  },
  {
   "cell_type": "code",
   "execution_count": 8,
   "metadata": {},
   "outputs": [
    {
     "data": {
      "text/html": [
       "<h2>Output</h2>C:\\Users\\danie861\\Desktop\\FinalProject\\FinalProject\\Default.gdb\\AB5_DirectionalMean<h2>Messages</h2>Start Time: Monday, November 28, 2022 9:23:31 AM<br/>WARNING 110068: The Rayleigh test requires at least 4 features for a two-dimensional result and 8 features for a three-dimensional result to be valid.<br/>Succeeded at Monday, November 28, 2022 9:23:51 AM (Elapsed Time: 19.38 seconds)<br/><style>.rendered_html td, .rendered_html th {text-align: left;}.rendered_html tbody {border: 1px solid black;}</style>"
      ],
      "text/plain": [
       "<Result 'C:\\\\Users\\\\danie861\\\\Desktop\\\\FinalProject\\\\FinalProject\\\\Default.gdb\\\\AB5_DirectionalMean'>"
      ]
     },
     "execution_count": 8,
     "metadata": {},
     "output_type": "execute_result"
    }
   ],
   "source": [
    "arcpy.stats.DirectionalMean(r\"C:\\Users\\danie861\\Desktop\\FinalProject\\FinalProject\\Default.gdb\\AspectLines\\AB5\", r\"C:\\Users\\danie861\\Desktop\\FinalProject\\FinalProject\\Default.gdb\\AB5_DirectionalMean\", \"DIRECTION\", \"Id\")"
   ]
  },
  {
   "cell_type": "code",
   "execution_count": 9,
   "metadata": {},
   "outputs": [
    {
     "data": {
      "text/html": [
       "<h2>Output</h2>C:\\Users\\danie861\\Desktop\\FinalProject\\FinalProject\\Default.gdb\\AB6_DirectionalMean<h2>Messages</h2>Start Time: Monday, November 28, 2022 9:23:56 AM<br/>WARNING 110068: The Rayleigh test requires at least 4 features for a two-dimensional result and 8 features for a three-dimensional result to be valid.<br/>Succeeded at Monday, November 28, 2022 9:24:15 AM (Elapsed Time: 19.56 seconds)<br/><style>.rendered_html td, .rendered_html th {text-align: left;}.rendered_html tbody {border: 1px solid black;}</style>"
      ],
      "text/plain": [
       "<Result 'C:\\\\Users\\\\danie861\\\\Desktop\\\\FinalProject\\\\FinalProject\\\\Default.gdb\\\\AB6_DirectionalMean'>"
      ]
     },
     "execution_count": 9,
     "metadata": {},
     "output_type": "execute_result"
    }
   ],
   "source": [
    "arcpy.stats.DirectionalMean(r\"C:\\Users\\danie861\\Desktop\\FinalProject\\FinalProject\\Default.gdb\\AspectLines\\AB6\", r\"C:\\Users\\danie861\\Desktop\\FinalProject\\FinalProject\\Default.gdb\\AB6_DirectionalMean\", \"DIRECTION\", \"Id\")"
   ]
  },
  {
   "cell_type": "code",
   "execution_count": 10,
   "metadata": {},
   "outputs": [
    {
     "data": {
      "text/html": [
       "<h2>Output</h2>C:\\Users\\danie861\\Desktop\\FinalProject\\FinalProject\\Default.gdb\\AB24_DirectionalMean<h2>Messages</h2>Start Time: Monday, November 28, 2022 9:24:20 AM<br/>WARNING 110068: The Rayleigh test requires at least 4 features for a two-dimensional result and 8 features for a three-dimensional result to be valid.<br/>Succeeded at Monday, November 28, 2022 9:24:41 AM (Elapsed Time: 20.38 seconds)<br/><style>.rendered_html td, .rendered_html th {text-align: left;}.rendered_html tbody {border: 1px solid black;}</style>"
      ],
      "text/plain": [
       "<Result 'C:\\\\Users\\\\danie861\\\\Desktop\\\\FinalProject\\\\FinalProject\\\\Default.gdb\\\\AB24_DirectionalMean'>"
      ]
     },
     "execution_count": 10,
     "metadata": {},
     "output_type": "execute_result"
    }
   ],
   "source": [
    "arcpy.stats.DirectionalMean(r\"C:\\Users\\danie861\\Desktop\\FinalProject\\FinalProject\\Default.gdb\\AspectLines\\AB24\", r\"C:\\Users\\danie861\\Desktop\\FinalProject\\FinalProject\\Default.gdb\\AB24_DirectionalMean\", \"DIRECTION\", \"Id\")"
   ]
  },
  {
   "cell_type": "code",
   "execution_count": 11,
   "metadata": {},
   "outputs": [
    {
     "data": {
      "text/html": [
       "<h2>Output</h2>C:\\Users\\danie861\\Desktop\\FinalProject\\FinalProject\\Default.gdb\\AB25_DirectionalMean<h2>Messages</h2>Start Time: Monday, November 28, 2022 9:24:46 AM<br/>WARNING 110068: The Rayleigh test requires at least 4 features for a two-dimensional result and 8 features for a three-dimensional result to be valid.<br/>Succeeded at Monday, November 28, 2022 9:25:06 AM (Elapsed Time: 19.97 seconds)<br/><style>.rendered_html td, .rendered_html th {text-align: left;}.rendered_html tbody {border: 1px solid black;}</style>"
      ],
      "text/plain": [
       "<Result 'C:\\\\Users\\\\danie861\\\\Desktop\\\\FinalProject\\\\FinalProject\\\\Default.gdb\\\\AB25_DirectionalMean'>"
      ]
     },
     "execution_count": 11,
     "metadata": {},
     "output_type": "execute_result"
    }
   ],
   "source": [
    "arcpy.stats.DirectionalMean(r\"C:\\Users\\danie861\\Desktop\\FinalProject\\FinalProject\\Default.gdb\\AspectLines\\AB25\", r\"C:\\Users\\danie861\\Desktop\\FinalProject\\FinalProject\\Default.gdb\\AB25_DirectionalMean\", \"DIRECTION\", \"Id\")"
   ]
  },
  {
   "cell_type": "code",
   "execution_count": 12,
   "metadata": {},
   "outputs": [
    {
     "data": {
      "text/html": [
       "<h2>Output</h2>C:\\Users\\danie861\\Desktop\\FinalProject\\FinalProject\\Default.gdb\\AB26_DirectionalMean<h2>Messages</h2>Start Time: Monday, November 28, 2022 9:25:11 AM<br/>WARNING 110068: The Rayleigh test requires at least 4 features for a two-dimensional result and 8 features for a three-dimensional result to be valid.<br/>Succeeded at Monday, November 28, 2022 9:25:31 AM (Elapsed Time: 19.46 seconds)<br/><style>.rendered_html td, .rendered_html th {text-align: left;}.rendered_html tbody {border: 1px solid black;}</style>"
      ],
      "text/plain": [
       "<Result 'C:\\\\Users\\\\danie861\\\\Desktop\\\\FinalProject\\\\FinalProject\\\\Default.gdb\\\\AB26_DirectionalMean'>"
      ]
     },
     "execution_count": 12,
     "metadata": {},
     "output_type": "execute_result"
    }
   ],
   "source": [
    "arcpy.stats.DirectionalMean(r\"C:\\Users\\danie861\\Desktop\\FinalProject\\FinalProject\\Default.gdb\\AspectLines\\AB26\", r\"C:\\Users\\danie861\\Desktop\\FinalProject\\FinalProject\\Default.gdb\\AB26_DirectionalMean\", \"DIRECTION\", \"Id\")"
   ]
  },
  {
   "cell_type": "code",
   "execution_count": 13,
   "metadata": {},
   "outputs": [
    {
     "data": {
      "text/html": [
       "<h2>Output</h2>C:\\Users\\danie861\\Desktop\\FinalProject\\FinalProject\\Default.gdb\\AB31_DirectionalMean<h2>Messages</h2>Start Time: Monday, November 28, 2022 9:25:36 AM<br/>Succeeded at Monday, November 28, 2022 9:25:56 AM (Elapsed Time: 19.96 seconds)<br/><style>.rendered_html td, .rendered_html th {text-align: left;}.rendered_html tbody {border: 1px solid black;}</style>"
      ],
      "text/plain": [
       "<Result 'C:\\\\Users\\\\danie861\\\\Desktop\\\\FinalProject\\\\FinalProject\\\\Default.gdb\\\\AB31_DirectionalMean'>"
      ]
     },
     "execution_count": 13,
     "metadata": {},
     "output_type": "execute_result"
    }
   ],
   "source": [
    "arcpy.stats.DirectionalMean(r\"C:\\Users\\danie861\\Desktop\\FinalProject\\FinalProject\\Default.gdb\\AspectLines\\AB31\", r\"C:\\Users\\danie861\\Desktop\\FinalProject\\FinalProject\\Default.gdb\\AB31_DirectionalMean\", \"DIRECTION\", \"Id\")"
   ]
  },
  {
   "cell_type": "code",
   "execution_count": 14,
   "metadata": {},
   "outputs": [
    {
     "data": {
      "text/html": [
       "<h2>Output</h2>C:\\Users\\danie861\\Desktop\\FinalProject\\FinalProject\\Default.gdb\\AB32_DirectionalMean<h2>Messages</h2>Start Time: Monday, November 28, 2022 9:26:01 AM<br/>Succeeded at Monday, November 28, 2022 9:26:21 AM (Elapsed Time: 19.58 seconds)<br/><style>.rendered_html td, .rendered_html th {text-align: left;}.rendered_html tbody {border: 1px solid black;}</style>"
      ],
      "text/plain": [
       "<Result 'C:\\\\Users\\\\danie861\\\\Desktop\\\\FinalProject\\\\FinalProject\\\\Default.gdb\\\\AB32_DirectionalMean'>"
      ]
     },
     "execution_count": 14,
     "metadata": {},
     "output_type": "execute_result"
    }
   ],
   "source": [
    "arcpy.stats.DirectionalMean(r\"C:\\Users\\danie861\\Desktop\\FinalProject\\FinalProject\\Default.gdb\\AspectLines\\AB32\", r\"C:\\Users\\danie861\\Desktop\\FinalProject\\FinalProject\\Default.gdb\\AB32_DirectionalMean\", \"DIRECTION\", \"Id\")"
   ]
  },
  {
   "cell_type": "code",
   "execution_count": 15,
   "metadata": {},
   "outputs": [
    {
     "data": {
      "text/html": [
       "<h2>Output</h2>C:\\Users\\danie861\\Desktop\\FinalProject\\FinalProject\\Default.gdb\\AB37_DirectionalMean<h2>Messages</h2>Start Time: Monday, November 28, 2022 9:26:26 AM<br/>WARNING 110068: The Rayleigh test requires at least 4 features for a two-dimensional result and 8 features for a three-dimensional result to be valid.<br/>Succeeded at Monday, November 28, 2022 9:26:45 AM (Elapsed Time: 18.86 seconds)<br/><style>.rendered_html td, .rendered_html th {text-align: left;}.rendered_html tbody {border: 1px solid black;}</style>"
      ],
      "text/plain": [
       "<Result 'C:\\\\Users\\\\danie861\\\\Desktop\\\\FinalProject\\\\FinalProject\\\\Default.gdb\\\\AB37_DirectionalMean'>"
      ]
     },
     "execution_count": 15,
     "metadata": {},
     "output_type": "execute_result"
    }
   ],
   "source": [
    "arcpy.stats.DirectionalMean(r\"C:\\Users\\danie861\\Desktop\\FinalProject\\FinalProject\\Default.gdb\\AspectLines\\AB37\", r\"C:\\Users\\danie861\\Desktop\\FinalProject\\FinalProject\\Default.gdb\\AB37_DirectionalMean\", \"DIRECTION\", \"Id\")"
   ]
  },
  {
   "cell_type": "code",
   "execution_count": 16,
   "metadata": {},
   "outputs": [
    {
     "data": {
      "text/html": [
       "<h2>Output</h2>C:\\Users\\danie861\\Desktop\\FinalProject\\FinalProject\\Default.gdb\\AB38_DirectionalMean<h2>Messages</h2>Start Time: Monday, November 28, 2022 9:26:50 AM<br/>WARNING 110068: The Rayleigh test requires at least 4 features for a two-dimensional result and 8 features for a three-dimensional result to be valid.<br/>Succeeded at Monday, November 28, 2022 9:27:09 AM (Elapsed Time: 19.18 seconds)<br/><style>.rendered_html td, .rendered_html th {text-align: left;}.rendered_html tbody {border: 1px solid black;}</style>"
      ],
      "text/plain": [
       "<Result 'C:\\\\Users\\\\danie861\\\\Desktop\\\\FinalProject\\\\FinalProject\\\\Default.gdb\\\\AB38_DirectionalMean'>"
      ]
     },
     "execution_count": 16,
     "metadata": {},
     "output_type": "execute_result"
    }
   ],
   "source": [
    "arcpy.stats.DirectionalMean(r\"C:\\Users\\danie861\\Desktop\\FinalProject\\FinalProject\\Default.gdb\\AspectLines\\AB38\", r\"C:\\Users\\danie861\\Desktop\\FinalProject\\FinalProject\\Default.gdb\\AB38_DirectionalMean\", \"DIRECTION\", \"Id\")"
   ]
  },
  {
   "cell_type": "markdown",
   "metadata": {},
   "source": [
    "### Slope 20 Splits LDM Analysis:"
   ]
  },
  {
   "cell_type": "code",
   "execution_count": 17,
   "metadata": {},
   "outputs": [
    {
     "data": {
      "text/html": [
       "<h2>Output</h2>C:\\Users\\danie861\\Desktop\\FinalProject\\FinalProject\\Default.gdb\\AA37_DirectionalMeanS<h2>Messages</h2>Start Time: Monday, November 28, 2022 9:41:36 AM<br/>WARNING 110068: The Rayleigh test requires at least 4 features for a two-dimensional result and 8 features for a three-dimensional result to be valid.<br/>Succeeded at Monday, November 28, 2022 9:41:54 AM (Elapsed Time: 18.38 seconds)<br/><style>.rendered_html td, .rendered_html th {text-align: left;}.rendered_html tbody {border: 1px solid black;}</style>"
      ],
      "text/plain": [
       "<Result 'C:\\\\Users\\\\danie861\\\\Desktop\\\\FinalProject\\\\FinalProject\\\\Default.gdb\\\\AA37_DirectionalMeanS'>"
      ]
     },
     "execution_count": 17,
     "metadata": {},
     "output_type": "execute_result"
    }
   ],
   "source": [
    "arcpy.stats.DirectionalMean(r\"C:\\Users\\danie861\\Desktop\\FinalProject\\FinalProject\\Default.gdb\\SlopeLines\\AA37\", r\"C:\\Users\\danie861\\Desktop\\FinalProject\\FinalProject\\Default.gdb\\AA37_DirectionalMeanS\", \"DIRECTION\", \"Id\")"
   ]
  },
  {
   "cell_type": "code",
   "execution_count": 18,
   "metadata": {},
   "outputs": [
    {
     "data": {
      "text/html": [
       "<h2>Output</h2>C:\\Users\\danie861\\Desktop\\FinalProject\\FinalProject\\Default.gdb\\AA38_DirectionalMeanS<h2>Messages</h2>Start Time: Monday, November 28, 2022 9:42:00 AM<br/>WARNING 110068: The Rayleigh test requires at least 4 features for a two-dimensional result and 8 features for a three-dimensional result to be valid.<br/>Succeeded at Monday, November 28, 2022 9:42:18 AM (Elapsed Time: 18.23 seconds)<br/><style>.rendered_html td, .rendered_html th {text-align: left;}.rendered_html tbody {border: 1px solid black;}</style>"
      ],
      "text/plain": [
       "<Result 'C:\\\\Users\\\\danie861\\\\Desktop\\\\FinalProject\\\\FinalProject\\\\Default.gdb\\\\AA38_DirectionalMeanS'>"
      ]
     },
     "execution_count": 18,
     "metadata": {},
     "output_type": "execute_result"
    }
   ],
   "source": [
    "arcpy.stats.DirectionalMean(r\"C:\\Users\\danie861\\Desktop\\FinalProject\\FinalProject\\Default.gdb\\SlopeLines\\AA38\", r\"C:\\Users\\danie861\\Desktop\\FinalProject\\FinalProject\\Default.gdb\\AA38_DirectionalMeanS\", \"DIRECTION\", \"Id\")"
   ]
  },
  {
   "cell_type": "code",
   "execution_count": 19,
   "metadata": {},
   "outputs": [
    {
     "data": {
      "text/html": [
       "<h2>Output</h2>C:\\Users\\danie861\\Desktop\\FinalProject\\FinalProject\\Default.gdb\\Z44_DirectionalMeanS<h2>Messages</h2>Start Time: Monday, November 28, 2022 9:42:24 AM<br/>WARNING 110068: The Rayleigh test requires at least 4 features for a two-dimensional result and 8 features for a three-dimensional result to be valid.<br/>Succeeded at Monday, November 28, 2022 9:42:42 AM (Elapsed Time: 17.96 seconds)<br/><style>.rendered_html td, .rendered_html th {text-align: left;}.rendered_html tbody {border: 1px solid black;}</style>"
      ],
      "text/plain": [
       "<Result 'C:\\\\Users\\\\danie861\\\\Desktop\\\\FinalProject\\\\FinalProject\\\\Default.gdb\\\\Z44_DirectionalMeanS'>"
      ]
     },
     "execution_count": 19,
     "metadata": {},
     "output_type": "execute_result"
    }
   ],
   "source": [
    "arcpy.stats.DirectionalMean(r\"C:\\Users\\danie861\\Desktop\\FinalProject\\FinalProject\\Default.gdb\\SlopeLines\\Z44\", r\"C:\\Users\\danie861\\Desktop\\FinalProject\\FinalProject\\Default.gdb\\Z44_DirectionalMeanS\", \"DIRECTION\", \"Id\")"
   ]
  },
  {
   "cell_type": "code",
   "execution_count": 20,
   "metadata": {},
   "outputs": [
    {
     "data": {
      "text/html": [
       "<h2>Output</h2>C:\\Users\\danie861\\Desktop\\FinalProject\\FinalProject\\Default.gdb\\Z43_DirectionalMeanS<h2>Messages</h2>Start Time: Monday, November 28, 2022 9:42:48 AM<br/>WARNING 110068: The Rayleigh test requires at least 4 features for a two-dimensional result and 8 features for a three-dimensional result to be valid.<br/>Succeeded at Monday, November 28, 2022 9:43:06 AM (Elapsed Time: 18.26 seconds)<br/><style>.rendered_html td, .rendered_html th {text-align: left;}.rendered_html tbody {border: 1px solid black;}</style>"
      ],
      "text/plain": [
       "<Result 'C:\\\\Users\\\\danie861\\\\Desktop\\\\FinalProject\\\\FinalProject\\\\Default.gdb\\\\Z43_DirectionalMeanS'>"
      ]
     },
     "execution_count": 20,
     "metadata": {},
     "output_type": "execute_result"
    }
   ],
   "source": [
    "arcpy.stats.DirectionalMean(r\"C:\\Users\\danie861\\Desktop\\FinalProject\\FinalProject\\Default.gdb\\SlopeLines\\Z43_\", r\"C:\\Users\\danie861\\Desktop\\FinalProject\\FinalProject\\Default.gdb\\Z43_DirectionalMeanS\", \"DIRECTION\", \"Id\")"
   ]
  },
  {
   "cell_type": "code",
   "execution_count": 21,
   "metadata": {},
   "outputs": [
    {
     "data": {
      "text/html": [
       "<h2>Output</h2>C:\\Users\\danie861\\Desktop\\FinalProject\\FinalProject\\Default.gdb\\Z41_DirectionalMeanS<h2>Messages</h2>Start Time: Monday, November 28, 2022 9:43:12 AM<br/>WARNING 110068: The Rayleigh test requires at least 4 features for a two-dimensional result and 8 features for a three-dimensional result to be valid.<br/>Succeeded at Monday, November 28, 2022 9:43:30 AM (Elapsed Time: 18.13 seconds)<br/><style>.rendered_html td, .rendered_html th {text-align: left;}.rendered_html tbody {border: 1px solid black;}</style>"
      ],
      "text/plain": [
       "<Result 'C:\\\\Users\\\\danie861\\\\Desktop\\\\FinalProject\\\\FinalProject\\\\Default.gdb\\\\Z41_DirectionalMeanS'>"
      ]
     },
     "execution_count": 21,
     "metadata": {},
     "output_type": "execute_result"
    }
   ],
   "source": [
    "arcpy.stats.DirectionalMean(r\"C:\\Users\\danie861\\Desktop\\FinalProject\\FinalProject\\Default.gdb\\SlopeLines\\Z41_\", r\"C:\\Users\\danie861\\Desktop\\FinalProject\\FinalProject\\Default.gdb\\Z41_DirectionalMeanS\", \"DIRECTION\", \"Id\")"
   ]
  },
  {
   "cell_type": "code",
   "execution_count": 22,
   "metadata": {},
   "outputs": [
    {
     "data": {
      "text/html": [
       "<h2>Output</h2>C:\\Users\\danie861\\Desktop\\FinalProject\\FinalProject\\Default.gdb\\Z38_DirectionalMeanS<h2>Messages</h2>Start Time: Monday, November 28, 2022 9:43:35 AM<br/>WARNING 110068: The Rayleigh test requires at least 4 features for a two-dimensional result and 8 features for a three-dimensional result to be valid.<br/>Succeeded at Monday, November 28, 2022 9:43:54 AM (Elapsed Time: 18.16 seconds)<br/><style>.rendered_html td, .rendered_html th {text-align: left;}.rendered_html tbody {border: 1px solid black;}</style>"
      ],
      "text/plain": [
       "<Result 'C:\\\\Users\\\\danie861\\\\Desktop\\\\FinalProject\\\\FinalProject\\\\Default.gdb\\\\Z38_DirectionalMeanS'>"
      ]
     },
     "execution_count": 22,
     "metadata": {},
     "output_type": "execute_result"
    }
   ],
   "source": [
    "arcpy.stats.DirectionalMean(r\"C:\\Users\\danie861\\Desktop\\FinalProject\\FinalProject\\Default.gdb\\SlopeLines\\Z38\", r\"C:\\Users\\danie861\\Desktop\\FinalProject\\FinalProject\\Default.gdb\\Z38_DirectionalMeanS\", \"DIRECTION\", \"Id\")"
   ]
  },
  {
   "cell_type": "code",
   "execution_count": 23,
   "metadata": {},
   "outputs": [
    {
     "data": {
      "text/html": [
       "<h2>Output</h2>C:\\Users\\danie861\\Desktop\\FinalProject\\FinalProject\\Default.gdb\\Y44_DirectionalMeanS<h2>Messages</h2>Start Time: Monday, November 28, 2022 9:43:59 AM<br/>WARNING 110068: The Rayleigh test requires at least 4 features for a two-dimensional result and 8 features for a three-dimensional result to be valid.<br/>Succeeded at Monday, November 28, 2022 9:44:17 AM (Elapsed Time: 18.10 seconds)<br/><style>.rendered_html td, .rendered_html th {text-align: left;}.rendered_html tbody {border: 1px solid black;}</style>"
      ],
      "text/plain": [
       "<Result 'C:\\\\Users\\\\danie861\\\\Desktop\\\\FinalProject\\\\FinalProject\\\\Default.gdb\\\\Y44_DirectionalMeanS'>"
      ]
     },
     "execution_count": 23,
     "metadata": {},
     "output_type": "execute_result"
    }
   ],
   "source": [
    "arcpy.stats.DirectionalMean(r\"C:\\Users\\danie861\\Desktop\\FinalProject\\FinalProject\\Default.gdb\\SlopeLines\\Y44\", r\"C:\\Users\\danie861\\Desktop\\FinalProject\\FinalProject\\Default.gdb\\Y44_DirectionalMeanS\", \"DIRECTION\", \"Id\")"
   ]
  },
  {
   "cell_type": "code",
   "execution_count": 24,
   "metadata": {},
   "outputs": [
    {
     "data": {
      "text/html": [
       "<h2>Output</h2>C:\\Users\\danie861\\Desktop\\FinalProject\\FinalProject\\Default.gdb\\Y43_DirectionalMeanS<h2>Messages</h2>Start Time: Monday, November 28, 2022 9:44:23 AM<br/>WARNING 110068: The Rayleigh test requires at least 4 features for a two-dimensional result and 8 features for a three-dimensional result to be valid.<br/>Succeeded at Monday, November 28, 2022 9:44:41 AM (Elapsed Time: 18.05 seconds)<br/><style>.rendered_html td, .rendered_html th {text-align: left;}.rendered_html tbody {border: 1px solid black;}</style>"
      ],
      "text/plain": [
       "<Result 'C:\\\\Users\\\\danie861\\\\Desktop\\\\FinalProject\\\\FinalProject\\\\Default.gdb\\\\Y43_DirectionalMeanS'>"
      ]
     },
     "execution_count": 24,
     "metadata": {},
     "output_type": "execute_result"
    }
   ],
   "source": [
    "arcpy.stats.DirectionalMean(r\"C:\\Users\\danie861\\Desktop\\FinalProject\\FinalProject\\Default.gdb\\SlopeLines\\Y43\", r\"C:\\Users\\danie861\\Desktop\\FinalProject\\FinalProject\\Default.gdb\\Y43_DirectionalMeanS\", \"DIRECTION\", \"Id\")"
   ]
  },
  {
   "cell_type": "code",
   "execution_count": 25,
   "metadata": {},
   "outputs": [
    {
     "data": {
      "text/html": [
       "<h2>Output</h2>C:\\Users\\danie861\\Desktop\\FinalProject\\FinalProject\\Default.gdb\\Y42_DirectionalMeanS<h2>Messages</h2>Start Time: Monday, November 28, 2022 9:44:47 AM<br/>WARNING 110068: The Rayleigh test requires at least 4 features for a two-dimensional result and 8 features for a three-dimensional result to be valid.<br/>Succeeded at Monday, November 28, 2022 9:45:05 AM (Elapsed Time: 18.17 seconds)<br/><style>.rendered_html td, .rendered_html th {text-align: left;}.rendered_html tbody {border: 1px solid black;}</style>"
      ],
      "text/plain": [
       "<Result 'C:\\\\Users\\\\danie861\\\\Desktop\\\\FinalProject\\\\FinalProject\\\\Default.gdb\\\\Y42_DirectionalMeanS'>"
      ]
     },
     "execution_count": 25,
     "metadata": {},
     "output_type": "execute_result"
    }
   ],
   "source": [
    "arcpy.stats.DirectionalMean(r\"C:\\Users\\danie861\\Desktop\\FinalProject\\FinalProject\\Default.gdb\\SlopeLines\\Y42_\", r\"C:\\Users\\danie861\\Desktop\\FinalProject\\FinalProject\\Default.gdb\\Y42_DirectionalMeanS\", \"DIRECTION\", \"Id\")"
   ]
  },
  {
   "cell_type": "code",
   "execution_count": 26,
   "metadata": {},
   "outputs": [
    {
     "data": {
      "text/html": [
       "<h2>Output</h2>C:\\Users\\danie861\\Desktop\\FinalProject\\FinalProject\\Default.gdb\\Y41_DirectionalMeanS<h2>Messages</h2>Start Time: Monday, November 28, 2022 9:45:11 AM<br/>WARNING 110068: The Rayleigh test requires at least 4 features for a two-dimensional result and 8 features for a three-dimensional result to be valid.<br/>Succeeded at Monday, November 28, 2022 9:45:29 AM (Elapsed Time: 18.13 seconds)<br/><style>.rendered_html td, .rendered_html th {text-align: left;}.rendered_html tbody {border: 1px solid black;}</style>"
      ],
      "text/plain": [
       "<Result 'C:\\\\Users\\\\danie861\\\\Desktop\\\\FinalProject\\\\FinalProject\\\\Default.gdb\\\\Y41_DirectionalMeanS'>"
      ]
     },
     "execution_count": 26,
     "metadata": {},
     "output_type": "execute_result"
    }
   ],
   "source": [
    "arcpy.stats.DirectionalMean(r\"C:\\Users\\danie861\\Desktop\\FinalProject\\FinalProject\\Default.gdb\\SlopeLines\\Y41_\", r\"C:\\Users\\danie861\\Desktop\\FinalProject\\FinalProject\\Default.gdb\\Y41_DirectionalMeanS\", \"DIRECTION\", \"Id\")"
   ]
  },
  {
   "cell_type": "code",
   "execution_count": 27,
   "metadata": {},
   "outputs": [
    {
     "data": {
      "text/html": [
       "<h2>Output</h2>C:\\Users\\danie861\\Desktop\\FinalProject\\FinalProject\\Default.gdb\\Y38_DirectionalMeanS<h2>Messages</h2>Start Time: Monday, November 28, 2022 9:45:35 AM<br/>WARNING 110068: The Rayleigh test requires at least 4 features for a two-dimensional result and 8 features for a three-dimensional result to be valid.<br/>Succeeded at Monday, November 28, 2022 9:45:53 AM (Elapsed Time: 18.19 seconds)<br/><style>.rendered_html td, .rendered_html th {text-align: left;}.rendered_html tbody {border: 1px solid black;}</style>"
      ],
      "text/plain": [
       "<Result 'C:\\\\Users\\\\danie861\\\\Desktop\\\\FinalProject\\\\FinalProject\\\\Default.gdb\\\\Y38_DirectionalMeanS'>"
      ]
     },
     "execution_count": 27,
     "metadata": {},
     "output_type": "execute_result"
    }
   ],
   "source": [
    "arcpy.stats.DirectionalMean(r\"C:\\Users\\danie861\\Desktop\\FinalProject\\FinalProject\\Default.gdb\\SlopeLines\\Y38\", r\"C:\\Users\\danie861\\Desktop\\FinalProject\\FinalProject\\Default.gdb\\Y38_DirectionalMeanS\", \"DIRECTION\", \"Id\")"
   ]
  },
  {
   "cell_type": "code",
   "execution_count": 28,
   "metadata": {},
   "outputs": [
    {
     "ename": "ExecuteError",
     "evalue": "ERROR 000641: Too few records for analysis.  This tool requires at least 1 feature(s) to compute results.\nFailed to execute (DirectionalMean).\n",
     "output_type": "error",
     "traceback": [
      "\u001b[0;31m---------------------------------------------------------------------------\u001b[0m\n\u001b[0;31mExecuteError\u001b[0m                              Traceback (most recent call last)",
      "In  \u001b[0;34m[28]\u001b[0m:\nLine \u001b[0;34m1\u001b[0m:     arcpy.stats.DirectionalMean(\u001b[33mr\u001b[39;49;00m\u001b[33m\"\u001b[39;49;00m\u001b[33mC:\u001b[39;49;00m\u001b[33m\\\u001b[39;49;00m\u001b[33mUsers\u001b[39;49;00m\u001b[33m\\\u001b[39;49;00m\u001b[33mdanie861\u001b[39;49;00m\u001b[33m\\\u001b[39;49;00m\u001b[33mDesktop\u001b[39;49;00m\u001b[33m\\\u001b[39;49;00m\u001b[33mFinalProject\u001b[39;49;00m\u001b[33m\\\u001b[39;49;00m\u001b[33mFinalProject\u001b[39;49;00m\u001b[33m\\\u001b[39;49;00m\u001b[33mDefault.gdb\u001b[39;49;00m\u001b[33m\\\u001b[39;49;00m\u001b[33mSlopeLines\u001b[39;49;00m\u001b[33m\\\u001b[39;49;00m\u001b[33mR26\u001b[39;49;00m\u001b[33m\"\u001b[39;49;00m, \u001b[33mr\u001b[39;49;00m\u001b[33m\"\u001b[39;49;00m\u001b[33mC:\u001b[39;49;00m\u001b[33m\\\u001b[39;49;00m\u001b[33mUsers\u001b[39;49;00m\u001b[33m\\\u001b[39;49;00m\u001b[33mdanie861\u001b[39;49;00m\u001b[33m\\\u001b[39;49;00m\u001b[33mDesktop\u001b[39;49;00m\u001b[33m\\\u001b[39;49;00m\u001b[33mFinalProject\u001b[39;49;00m\u001b[33m\\\u001b[39;49;00m\u001b[33mFinalProject\u001b[39;49;00m\u001b[33m\\\u001b[39;49;00m\u001b[33mDefault.gdb\u001b[39;49;00m\u001b[33m\\\u001b[39;49;00m\u001b[33mR26_DirectionalMeanS\u001b[39;49;00m\u001b[33m\"\u001b[39;49;00m, \u001b[33m\"\u001b[39;49;00m\u001b[33mDIRECTION\u001b[39;49;00m\u001b[33m\"\u001b[39;49;00m, \u001b[33m\"\u001b[39;49;00m\u001b[33mId\u001b[39;49;00m\u001b[33m\"\u001b[39;49;00m)\n",
      "File \u001b[0;34mC:\\Program Files\\ArcGIS\\Pro\\Resources\\ArcPy\\arcpy\\stats.py\u001b[0m, in \u001b[0;32mDirectionalMean\u001b[0m:\nLine \u001b[0;34m1710\u001b[0m:  \u001b[34mraise\u001b[39;49;00m e\n",
      "File \u001b[0;34mC:\\Program Files\\ArcGIS\\Pro\\Resources\\ArcPy\\arcpy\\stats.py\u001b[0m, in \u001b[0;32mDirectionalMean\u001b[0m:\nLine \u001b[0;34m1707\u001b[0m:  retval = convertArcObjectToPythonObject(gp.DirectionalMean_stats(*gp_fixargs((Input_Feature_Class, Output_Feature_Class, Orientation_Only, Case_Field), \u001b[34mTrue\u001b[39;49;00m)))\n",
      "File \u001b[0;34mC:\\Program Files\\ArcGIS\\Pro\\Resources\\ArcPy\\arcpy\\geoprocessing\\_base.py\u001b[0m, in \u001b[0;32m<lambda>\u001b[0m:\nLine \u001b[0;34m512\u001b[0m:   \u001b[34mreturn\u001b[39;49;00m \u001b[34mlambda\u001b[39;49;00m *args: val(*gp_fixargs(args, \u001b[34mTrue\u001b[39;49;00m))\n",
      "\u001b[0;31mExecuteError\u001b[0m: ERROR 000641: Too few records for analysis.  This tool requires at least 1 feature(s) to compute results.\nFailed to execute (DirectionalMean).\n\n\u001b[0;31m---------------------------------------------------------------------------\u001b[0m"
     ]
    }
   ],
   "source": [
    "arcpy.stats.DirectionalMean(r\"C:\\Users\\danie861\\Desktop\\FinalProject\\FinalProject\\Default.gdb\\SlopeLines\\R26\", r\"C:\\Users\\danie861\\Desktop\\FinalProject\\FinalProject\\Default.gdb\\R26_DirectionalMeanS\", \"DIRECTION\", \"Id\")"
   ]
  },
  {
   "cell_type": "code",
   "execution_count": 29,
   "metadata": {},
   "outputs": [
    {
     "ename": "ExecuteError",
     "evalue": "ERROR 000641: Too few records for analysis.  This tool requires at least 1 feature(s) to compute results.\nFailed to execute (DirectionalMean).\n",
     "output_type": "error",
     "traceback": [
      "\u001b[0;31m---------------------------------------------------------------------------\u001b[0m\n\u001b[0;31mExecuteError\u001b[0m                              Traceback (most recent call last)",
      "In  \u001b[0;34m[29]\u001b[0m:\nLine \u001b[0;34m1\u001b[0m:     arcpy.stats.DirectionalMean(\u001b[33mr\u001b[39;49;00m\u001b[33m\"\u001b[39;49;00m\u001b[33mC:\u001b[39;49;00m\u001b[33m\\\u001b[39;49;00m\u001b[33mUsers\u001b[39;49;00m\u001b[33m\\\u001b[39;49;00m\u001b[33mdanie861\u001b[39;49;00m\u001b[33m\\\u001b[39;49;00m\u001b[33mDesktop\u001b[39;49;00m\u001b[33m\\\u001b[39;49;00m\u001b[33mFinalProject\u001b[39;49;00m\u001b[33m\\\u001b[39;49;00m\u001b[33mFinalProject\u001b[39;49;00m\u001b[33m\\\u001b[39;49;00m\u001b[33mDefault.gdb\u001b[39;49;00m\u001b[33m\\\u001b[39;49;00m\u001b[33mSlopeLines\u001b[39;49;00m\u001b[33m\\\u001b[39;49;00m\u001b[33mQ26\u001b[39;49;00m\u001b[33m\"\u001b[39;49;00m, \u001b[33mr\u001b[39;49;00m\u001b[33m\"\u001b[39;49;00m\u001b[33mC:\u001b[39;49;00m\u001b[33m\\\u001b[39;49;00m\u001b[33mUsers\u001b[39;49;00m\u001b[33m\\\u001b[39;49;00m\u001b[33mdanie861\u001b[39;49;00m\u001b[33m\\\u001b[39;49;00m\u001b[33mDesktop\u001b[39;49;00m\u001b[33m\\\u001b[39;49;00m\u001b[33mFinalProject\u001b[39;49;00m\u001b[33m\\\u001b[39;49;00m\u001b[33mFinalProject\u001b[39;49;00m\u001b[33m\\\u001b[39;49;00m\u001b[33mDefault.gdb\u001b[39;49;00m\u001b[33m\\\u001b[39;49;00m\u001b[33mQ26_DirectionalMeanS\u001b[39;49;00m\u001b[33m\"\u001b[39;49;00m, \u001b[33m\"\u001b[39;49;00m\u001b[33mDIRECTION\u001b[39;49;00m\u001b[33m\"\u001b[39;49;00m, \u001b[33m\"\u001b[39;49;00m\u001b[33mId\u001b[39;49;00m\u001b[33m\"\u001b[39;49;00m)\n",
      "File \u001b[0;34mC:\\Program Files\\ArcGIS\\Pro\\Resources\\ArcPy\\arcpy\\stats.py\u001b[0m, in \u001b[0;32mDirectionalMean\u001b[0m:\nLine \u001b[0;34m1710\u001b[0m:  \u001b[34mraise\u001b[39;49;00m e\n",
      "File \u001b[0;34mC:\\Program Files\\ArcGIS\\Pro\\Resources\\ArcPy\\arcpy\\stats.py\u001b[0m, in \u001b[0;32mDirectionalMean\u001b[0m:\nLine \u001b[0;34m1707\u001b[0m:  retval = convertArcObjectToPythonObject(gp.DirectionalMean_stats(*gp_fixargs((Input_Feature_Class, Output_Feature_Class, Orientation_Only, Case_Field), \u001b[34mTrue\u001b[39;49;00m)))\n",
      "File \u001b[0;34mC:\\Program Files\\ArcGIS\\Pro\\Resources\\ArcPy\\arcpy\\geoprocessing\\_base.py\u001b[0m, in \u001b[0;32m<lambda>\u001b[0m:\nLine \u001b[0;34m512\u001b[0m:   \u001b[34mreturn\u001b[39;49;00m \u001b[34mlambda\u001b[39;49;00m *args: val(*gp_fixargs(args, \u001b[34mTrue\u001b[39;49;00m))\n",
      "\u001b[0;31mExecuteError\u001b[0m: ERROR 000641: Too few records for analysis.  This tool requires at least 1 feature(s) to compute results.\nFailed to execute (DirectionalMean).\n\n\u001b[0;31m---------------------------------------------------------------------------\u001b[0m"
     ]
    }
   ],
   "source": [
    "arcpy.stats.DirectionalMean(r\"C:\\Users\\danie861\\Desktop\\FinalProject\\FinalProject\\Default.gdb\\SlopeLines\\Q26\", r\"C:\\Users\\danie861\\Desktop\\FinalProject\\FinalProject\\Default.gdb\\Q26_DirectionalMeanS\", \"DIRECTION\", \"Id\")"
   ]
  },
  {
   "cell_type": "code",
   "execution_count": 31,
   "metadata": {},
   "outputs": [
    {
     "ename": "ExecuteError",
     "evalue": "ERROR 000641: Too few records for analysis.  This tool requires at least 1 feature(s) to compute results.\nFailed to execute (DirectionalMean).\n",
     "output_type": "error",
     "traceback": [
      "\u001b[0;31m---------------------------------------------------------------------------\u001b[0m\n\u001b[0;31mExecuteError\u001b[0m                              Traceback (most recent call last)",
      "In  \u001b[0;34m[31]\u001b[0m:\nLine \u001b[0;34m1\u001b[0m:     arcpy.stats.DirectionalMean(\u001b[33mr\u001b[39;49;00m\u001b[33m\"\u001b[39;49;00m\u001b[33mC:\u001b[39;49;00m\u001b[33m\\\u001b[39;49;00m\u001b[33mUsers\u001b[39;49;00m\u001b[33m\\\u001b[39;49;00m\u001b[33mdanie861\u001b[39;49;00m\u001b[33m\\\u001b[39;49;00m\u001b[33mDesktop\u001b[39;49;00m\u001b[33m\\\u001b[39;49;00m\u001b[33mFinalProject\u001b[39;49;00m\u001b[33m\\\u001b[39;49;00m\u001b[33mFinalProject\u001b[39;49;00m\u001b[33m\\\u001b[39;49;00m\u001b[33mDefault.gdb\u001b[39;49;00m\u001b[33m\\\u001b[39;49;00m\u001b[33mSlopeLines\u001b[39;49;00m\u001b[33m\\\u001b[39;49;00m\u001b[33mP26\u001b[39;49;00m\u001b[33m\"\u001b[39;49;00m, \u001b[33mr\u001b[39;49;00m\u001b[33m\"\u001b[39;49;00m\u001b[33mC:\u001b[39;49;00m\u001b[33m\\\u001b[39;49;00m\u001b[33mUsers\u001b[39;49;00m\u001b[33m\\\u001b[39;49;00m\u001b[33mdanie861\u001b[39;49;00m\u001b[33m\\\u001b[39;49;00m\u001b[33mDesktop\u001b[39;49;00m\u001b[33m\\\u001b[39;49;00m\u001b[33mFinalProject\u001b[39;49;00m\u001b[33m\\\u001b[39;49;00m\u001b[33mFinalProject\u001b[39;49;00m\u001b[33m\\\u001b[39;49;00m\u001b[33mDefault.gdb\u001b[39;49;00m\u001b[33m\\\u001b[39;49;00m\u001b[33mP26_DirectionalMeanS\u001b[39;49;00m\u001b[33m\"\u001b[39;49;00m, \u001b[33m\"\u001b[39;49;00m\u001b[33mDIRECTION\u001b[39;49;00m\u001b[33m\"\u001b[39;49;00m, \u001b[33m\"\u001b[39;49;00m\u001b[33mId\u001b[39;49;00m\u001b[33m\"\u001b[39;49;00m)\n",
      "File \u001b[0;34mC:\\Program Files\\ArcGIS\\Pro\\Resources\\ArcPy\\arcpy\\stats.py\u001b[0m, in \u001b[0;32mDirectionalMean\u001b[0m:\nLine \u001b[0;34m1710\u001b[0m:  \u001b[34mraise\u001b[39;49;00m e\n",
      "File \u001b[0;34mC:\\Program Files\\ArcGIS\\Pro\\Resources\\ArcPy\\arcpy\\stats.py\u001b[0m, in \u001b[0;32mDirectionalMean\u001b[0m:\nLine \u001b[0;34m1707\u001b[0m:  retval = convertArcObjectToPythonObject(gp.DirectionalMean_stats(*gp_fixargs((Input_Feature_Class, Output_Feature_Class, Orientation_Only, Case_Field), \u001b[34mTrue\u001b[39;49;00m)))\n",
      "File \u001b[0;34mC:\\Program Files\\ArcGIS\\Pro\\Resources\\ArcPy\\arcpy\\geoprocessing\\_base.py\u001b[0m, in \u001b[0;32m<lambda>\u001b[0m:\nLine \u001b[0;34m512\u001b[0m:   \u001b[34mreturn\u001b[39;49;00m \u001b[34mlambda\u001b[39;49;00m *args: val(*gp_fixargs(args, \u001b[34mTrue\u001b[39;49;00m))\n",
      "\u001b[0;31mExecuteError\u001b[0m: ERROR 000641: Too few records for analysis.  This tool requires at least 1 feature(s) to compute results.\nFailed to execute (DirectionalMean).\n\n\u001b[0;31m---------------------------------------------------------------------------\u001b[0m"
     ]
    }
   ],
   "source": [
    "arcpy.stats.DirectionalMean(r\"C:\\Users\\danie861\\Desktop\\FinalProject\\FinalProject\\Default.gdb\\SlopeLines\\P26\", r\"C:\\Users\\danie861\\Desktop\\FinalProject\\FinalProject\\Default.gdb\\P26_DirectionalMeanS\", \"DIRECTION\", \"Id\")"
   ]
  },
  {
   "cell_type": "code",
   "execution_count": 32,
   "metadata": {},
   "outputs": [
    {
     "ename": "ExecuteError",
     "evalue": "ERROR 000641: Too few records for analysis.  This tool requires at least 1 feature(s) to compute results.\nFailed to execute (DirectionalMean).\n",
     "output_type": "error",
     "traceback": [
      "\u001b[0;31m---------------------------------------------------------------------------\u001b[0m\n\u001b[0;31mExecuteError\u001b[0m                              Traceback (most recent call last)",
      "In  \u001b[0;34m[32]\u001b[0m:\nLine \u001b[0;34m1\u001b[0m:     arcpy.stats.DirectionalMean(\u001b[33mr\u001b[39;49;00m\u001b[33m\"\u001b[39;49;00m\u001b[33mC:\u001b[39;49;00m\u001b[33m\\\u001b[39;49;00m\u001b[33mUsers\u001b[39;49;00m\u001b[33m\\\u001b[39;49;00m\u001b[33mdanie861\u001b[39;49;00m\u001b[33m\\\u001b[39;49;00m\u001b[33mDesktop\u001b[39;49;00m\u001b[33m\\\u001b[39;49;00m\u001b[33mFinalProject\u001b[39;49;00m\u001b[33m\\\u001b[39;49;00m\u001b[33mFinalProject\u001b[39;49;00m\u001b[33m\\\u001b[39;49;00m\u001b[33mDefault.gdb\u001b[39;49;00m\u001b[33m\\\u001b[39;49;00m\u001b[33mSlopeLines\u001b[39;49;00m\u001b[33m\\\u001b[39;49;00m\u001b[33mP24\u001b[39;49;00m\u001b[33m\"\u001b[39;49;00m, \u001b[33mr\u001b[39;49;00m\u001b[33m\"\u001b[39;49;00m\u001b[33mC:\u001b[39;49;00m\u001b[33m\\\u001b[39;49;00m\u001b[33mUsers\u001b[39;49;00m\u001b[33m\\\u001b[39;49;00m\u001b[33mdanie861\u001b[39;49;00m\u001b[33m\\\u001b[39;49;00m\u001b[33mDesktop\u001b[39;49;00m\u001b[33m\\\u001b[39;49;00m\u001b[33mFinalProject\u001b[39;49;00m\u001b[33m\\\u001b[39;49;00m\u001b[33mFinalProject\u001b[39;49;00m\u001b[33m\\\u001b[39;49;00m\u001b[33mDefault.gdb\u001b[39;49;00m\u001b[33m\\\u001b[39;49;00m\u001b[33mP24_DirectionalMeanS\u001b[39;49;00m\u001b[33m\"\u001b[39;49;00m, \u001b[33m\"\u001b[39;49;00m\u001b[33mDIRECTION\u001b[39;49;00m\u001b[33m\"\u001b[39;49;00m, \u001b[33m\"\u001b[39;49;00m\u001b[33mId\u001b[39;49;00m\u001b[33m\"\u001b[39;49;00m)\n",
      "File \u001b[0;34mC:\\Program Files\\ArcGIS\\Pro\\Resources\\ArcPy\\arcpy\\stats.py\u001b[0m, in \u001b[0;32mDirectionalMean\u001b[0m:\nLine \u001b[0;34m1710\u001b[0m:  \u001b[34mraise\u001b[39;49;00m e\n",
      "File \u001b[0;34mC:\\Program Files\\ArcGIS\\Pro\\Resources\\ArcPy\\arcpy\\stats.py\u001b[0m, in \u001b[0;32mDirectionalMean\u001b[0m:\nLine \u001b[0;34m1707\u001b[0m:  retval = convertArcObjectToPythonObject(gp.DirectionalMean_stats(*gp_fixargs((Input_Feature_Class, Output_Feature_Class, Orientation_Only, Case_Field), \u001b[34mTrue\u001b[39;49;00m)))\n",
      "File \u001b[0;34mC:\\Program Files\\ArcGIS\\Pro\\Resources\\ArcPy\\arcpy\\geoprocessing\\_base.py\u001b[0m, in \u001b[0;32m<lambda>\u001b[0m:\nLine \u001b[0;34m512\u001b[0m:   \u001b[34mreturn\u001b[39;49;00m \u001b[34mlambda\u001b[39;49;00m *args: val(*gp_fixargs(args, \u001b[34mTrue\u001b[39;49;00m))\n",
      "\u001b[0;31mExecuteError\u001b[0m: ERROR 000641: Too few records for analysis.  This tool requires at least 1 feature(s) to compute results.\nFailed to execute (DirectionalMean).\n\n\u001b[0;31m---------------------------------------------------------------------------\u001b[0m"
     ]
    }
   ],
   "source": [
    "arcpy.stats.DirectionalMean(r\"C:\\Users\\danie861\\Desktop\\FinalProject\\FinalProject\\Default.gdb\\SlopeLines\\P24\", r\"C:\\Users\\danie861\\Desktop\\FinalProject\\FinalProject\\Default.gdb\\P24_DirectionalMeanS\", \"DIRECTION\", \"Id\")"
   ]
  },
  {
   "cell_type": "code",
   "execution_count": 33,
   "metadata": {},
   "outputs": [
    {
     "ename": "ExecuteError",
     "evalue": "ERROR 000641: Too few records for analysis.  This tool requires at least 1 feature(s) to compute results.\nFailed to execute (DirectionalMean).\n",
     "output_type": "error",
     "traceback": [
      "\u001b[0;31m---------------------------------------------------------------------------\u001b[0m\n\u001b[0;31mExecuteError\u001b[0m                              Traceback (most recent call last)",
      "In  \u001b[0;34m[33]\u001b[0m:\nLine \u001b[0;34m1\u001b[0m:     arcpy.stats.DirectionalMean(\u001b[33mr\u001b[39;49;00m\u001b[33m\"\u001b[39;49;00m\u001b[33mC:\u001b[39;49;00m\u001b[33m\\\u001b[39;49;00m\u001b[33mUsers\u001b[39;49;00m\u001b[33m\\\u001b[39;49;00m\u001b[33mdanie861\u001b[39;49;00m\u001b[33m\\\u001b[39;49;00m\u001b[33mDesktop\u001b[39;49;00m\u001b[33m\\\u001b[39;49;00m\u001b[33mFinalProject\u001b[39;49;00m\u001b[33m\\\u001b[39;49;00m\u001b[33mFinalProject\u001b[39;49;00m\u001b[33m\\\u001b[39;49;00m\u001b[33mDefault.gdb\u001b[39;49;00m\u001b[33m\\\u001b[39;49;00m\u001b[33mSlopeLines\u001b[39;49;00m\u001b[33m\\\u001b[39;49;00m\u001b[33mO27\u001b[39;49;00m\u001b[33m\"\u001b[39;49;00m, \u001b[33mr\u001b[39;49;00m\u001b[33m\"\u001b[39;49;00m\u001b[33mC:\u001b[39;49;00m\u001b[33m\\\u001b[39;49;00m\u001b[33mUsers\u001b[39;49;00m\u001b[33m\\\u001b[39;49;00m\u001b[33mdanie861\u001b[39;49;00m\u001b[33m\\\u001b[39;49;00m\u001b[33mDesktop\u001b[39;49;00m\u001b[33m\\\u001b[39;49;00m\u001b[33mFinalProject\u001b[39;49;00m\u001b[33m\\\u001b[39;49;00m\u001b[33mFinalProject\u001b[39;49;00m\u001b[33m\\\u001b[39;49;00m\u001b[33mDefault.gdb\u001b[39;49;00m\u001b[33m\\\u001b[39;49;00m\u001b[33mO27_DirectionalMeanS\u001b[39;49;00m\u001b[33m\"\u001b[39;49;00m, \u001b[33m\"\u001b[39;49;00m\u001b[33mDIRECTION\u001b[39;49;00m\u001b[33m\"\u001b[39;49;00m, \u001b[33m\"\u001b[39;49;00m\u001b[33mId\u001b[39;49;00m\u001b[33m\"\u001b[39;49;00m)\n",
      "File \u001b[0;34mC:\\Program Files\\ArcGIS\\Pro\\Resources\\ArcPy\\arcpy\\stats.py\u001b[0m, in \u001b[0;32mDirectionalMean\u001b[0m:\nLine \u001b[0;34m1710\u001b[0m:  \u001b[34mraise\u001b[39;49;00m e\n",
      "File \u001b[0;34mC:\\Program Files\\ArcGIS\\Pro\\Resources\\ArcPy\\arcpy\\stats.py\u001b[0m, in \u001b[0;32mDirectionalMean\u001b[0m:\nLine \u001b[0;34m1707\u001b[0m:  retval = convertArcObjectToPythonObject(gp.DirectionalMean_stats(*gp_fixargs((Input_Feature_Class, Output_Feature_Class, Orientation_Only, Case_Field), \u001b[34mTrue\u001b[39;49;00m)))\n",
      "File \u001b[0;34mC:\\Program Files\\ArcGIS\\Pro\\Resources\\ArcPy\\arcpy\\geoprocessing\\_base.py\u001b[0m, in \u001b[0;32m<lambda>\u001b[0m:\nLine \u001b[0;34m512\u001b[0m:   \u001b[34mreturn\u001b[39;49;00m \u001b[34mlambda\u001b[39;49;00m *args: val(*gp_fixargs(args, \u001b[34mTrue\u001b[39;49;00m))\n",
      "\u001b[0;31mExecuteError\u001b[0m: ERROR 000641: Too few records for analysis.  This tool requires at least 1 feature(s) to compute results.\nFailed to execute (DirectionalMean).\n\n\u001b[0;31m---------------------------------------------------------------------------\u001b[0m"
     ]
    }
   ],
   "source": [
    "arcpy.stats.DirectionalMean(r\"C:\\Users\\danie861\\Desktop\\FinalProject\\FinalProject\\Default.gdb\\SlopeLines\\O27\", r\"C:\\Users\\danie861\\Desktop\\FinalProject\\FinalProject\\Default.gdb\\O27_DirectionalMeanS\", \"DIRECTION\", \"Id\")"
   ]
  },
  {
   "cell_type": "code",
   "execution_count": 34,
   "metadata": {},
   "outputs": [
    {
     "ename": "ExecuteError",
     "evalue": "ERROR 000641: Too few records for analysis.  This tool requires at least 1 feature(s) to compute results.\nFailed to execute (DirectionalMean).\n",
     "output_type": "error",
     "traceback": [
      "\u001b[0;31m---------------------------------------------------------------------------\u001b[0m\n\u001b[0;31mExecuteError\u001b[0m                              Traceback (most recent call last)",
      "In  \u001b[0;34m[34]\u001b[0m:\nLine \u001b[0;34m1\u001b[0m:     arcpy.stats.DirectionalMean(\u001b[33mr\u001b[39;49;00m\u001b[33m\"\u001b[39;49;00m\u001b[33mC:\u001b[39;49;00m\u001b[33m\\\u001b[39;49;00m\u001b[33mUsers\u001b[39;49;00m\u001b[33m\\\u001b[39;49;00m\u001b[33mdanie861\u001b[39;49;00m\u001b[33m\\\u001b[39;49;00m\u001b[33mDesktop\u001b[39;49;00m\u001b[33m\\\u001b[39;49;00m\u001b[33mFinalProject\u001b[39;49;00m\u001b[33m\\\u001b[39;49;00m\u001b[33mFinalProject\u001b[39;49;00m\u001b[33m\\\u001b[39;49;00m\u001b[33mDefault.gdb\u001b[39;49;00m\u001b[33m\\\u001b[39;49;00m\u001b[33mSlopeLines\u001b[39;49;00m\u001b[33m\\\u001b[39;49;00m\u001b[33mO26\u001b[39;49;00m\u001b[33m\"\u001b[39;49;00m, \u001b[33mr\u001b[39;49;00m\u001b[33m\"\u001b[39;49;00m\u001b[33mC:\u001b[39;49;00m\u001b[33m\\\u001b[39;49;00m\u001b[33mUsers\u001b[39;49;00m\u001b[33m\\\u001b[39;49;00m\u001b[33mdanie861\u001b[39;49;00m\u001b[33m\\\u001b[39;49;00m\u001b[33mDesktop\u001b[39;49;00m\u001b[33m\\\u001b[39;49;00m\u001b[33mFinalProject\u001b[39;49;00m\u001b[33m\\\u001b[39;49;00m\u001b[33mFinalProject\u001b[39;49;00m\u001b[33m\\\u001b[39;49;00m\u001b[33mDefault.gdb\u001b[39;49;00m\u001b[33m\\\u001b[39;49;00m\u001b[33mO26_DirectionalMeanS\u001b[39;49;00m\u001b[33m\"\u001b[39;49;00m, \u001b[33m\"\u001b[39;49;00m\u001b[33mDIRECTION\u001b[39;49;00m\u001b[33m\"\u001b[39;49;00m, \u001b[33m\"\u001b[39;49;00m\u001b[33mId\u001b[39;49;00m\u001b[33m\"\u001b[39;49;00m)\n",
      "File \u001b[0;34mC:\\Program Files\\ArcGIS\\Pro\\Resources\\ArcPy\\arcpy\\stats.py\u001b[0m, in \u001b[0;32mDirectionalMean\u001b[0m:\nLine \u001b[0;34m1710\u001b[0m:  \u001b[34mraise\u001b[39;49;00m e\n",
      "File \u001b[0;34mC:\\Program Files\\ArcGIS\\Pro\\Resources\\ArcPy\\arcpy\\stats.py\u001b[0m, in \u001b[0;32mDirectionalMean\u001b[0m:\nLine \u001b[0;34m1707\u001b[0m:  retval = convertArcObjectToPythonObject(gp.DirectionalMean_stats(*gp_fixargs((Input_Feature_Class, Output_Feature_Class, Orientation_Only, Case_Field), \u001b[34mTrue\u001b[39;49;00m)))\n",
      "File \u001b[0;34mC:\\Program Files\\ArcGIS\\Pro\\Resources\\ArcPy\\arcpy\\geoprocessing\\_base.py\u001b[0m, in \u001b[0;32m<lambda>\u001b[0m:\nLine \u001b[0;34m512\u001b[0m:   \u001b[34mreturn\u001b[39;49;00m \u001b[34mlambda\u001b[39;49;00m *args: val(*gp_fixargs(args, \u001b[34mTrue\u001b[39;49;00m))\n",
      "\u001b[0;31mExecuteError\u001b[0m: ERROR 000641: Too few records for analysis.  This tool requires at least 1 feature(s) to compute results.\nFailed to execute (DirectionalMean).\n\n\u001b[0;31m---------------------------------------------------------------------------\u001b[0m"
     ]
    }
   ],
   "source": [
    "arcpy.stats.DirectionalMean(r\"C:\\Users\\danie861\\Desktop\\FinalProject\\FinalProject\\Default.gdb\\SlopeLines\\O26\", r\"C:\\Users\\danie861\\Desktop\\FinalProject\\FinalProject\\Default.gdb\\O26_DirectionalMeanS\", \"DIRECTION\", \"Id\")"
   ]
  },
  {
   "cell_type": "code",
   "execution_count": 35,
   "metadata": {},
   "outputs": [
    {
     "ename": "ExecuteError",
     "evalue": "ERROR 000641: Too few records for analysis.  This tool requires at least 1 feature(s) to compute results.\nFailed to execute (DirectionalMean).\n",
     "output_type": "error",
     "traceback": [
      "\u001b[0;31m---------------------------------------------------------------------------\u001b[0m\n\u001b[0;31mExecuteError\u001b[0m                              Traceback (most recent call last)",
      "In  \u001b[0;34m[35]\u001b[0m:\nLine \u001b[0;34m1\u001b[0m:     arcpy.stats.DirectionalMean(\u001b[33mr\u001b[39;49;00m\u001b[33m\"\u001b[39;49;00m\u001b[33mC:\u001b[39;49;00m\u001b[33m\\\u001b[39;49;00m\u001b[33mUsers\u001b[39;49;00m\u001b[33m\\\u001b[39;49;00m\u001b[33mdanie861\u001b[39;49;00m\u001b[33m\\\u001b[39;49;00m\u001b[33mDesktop\u001b[39;49;00m\u001b[33m\\\u001b[39;49;00m\u001b[33mFinalProject\u001b[39;49;00m\u001b[33m\\\u001b[39;49;00m\u001b[33mFinalProject\u001b[39;49;00m\u001b[33m\\\u001b[39;49;00m\u001b[33mDefault.gdb\u001b[39;49;00m\u001b[33m\\\u001b[39;49;00m\u001b[33mSlopeLines\u001b[39;49;00m\u001b[33m\\\u001b[39;49;00m\u001b[33mO24\u001b[39;49;00m\u001b[33m\"\u001b[39;49;00m, \u001b[33mr\u001b[39;49;00m\u001b[33m\"\u001b[39;49;00m\u001b[33mC:\u001b[39;49;00m\u001b[33m\\\u001b[39;49;00m\u001b[33mUsers\u001b[39;49;00m\u001b[33m\\\u001b[39;49;00m\u001b[33mdanie861\u001b[39;49;00m\u001b[33m\\\u001b[39;49;00m\u001b[33mDesktop\u001b[39;49;00m\u001b[33m\\\u001b[39;49;00m\u001b[33mFinalProject\u001b[39;49;00m\u001b[33m\\\u001b[39;49;00m\u001b[33mFinalProject\u001b[39;49;00m\u001b[33m\\\u001b[39;49;00m\u001b[33mDefault.gdb\u001b[39;49;00m\u001b[33m\\\u001b[39;49;00m\u001b[33mO24_DirectionalMeanS\u001b[39;49;00m\u001b[33m\"\u001b[39;49;00m, \u001b[33m\"\u001b[39;49;00m\u001b[33mDIRECTION\u001b[39;49;00m\u001b[33m\"\u001b[39;49;00m, \u001b[33m\"\u001b[39;49;00m\u001b[33mId\u001b[39;49;00m\u001b[33m\"\u001b[39;49;00m)\n",
      "File \u001b[0;34mC:\\Program Files\\ArcGIS\\Pro\\Resources\\ArcPy\\arcpy\\stats.py\u001b[0m, in \u001b[0;32mDirectionalMean\u001b[0m:\nLine \u001b[0;34m1710\u001b[0m:  \u001b[34mraise\u001b[39;49;00m e\n",
      "File \u001b[0;34mC:\\Program Files\\ArcGIS\\Pro\\Resources\\ArcPy\\arcpy\\stats.py\u001b[0m, in \u001b[0;32mDirectionalMean\u001b[0m:\nLine \u001b[0;34m1707\u001b[0m:  retval = convertArcObjectToPythonObject(gp.DirectionalMean_stats(*gp_fixargs((Input_Feature_Class, Output_Feature_Class, Orientation_Only, Case_Field), \u001b[34mTrue\u001b[39;49;00m)))\n",
      "File \u001b[0;34mC:\\Program Files\\ArcGIS\\Pro\\Resources\\ArcPy\\arcpy\\geoprocessing\\_base.py\u001b[0m, in \u001b[0;32m<lambda>\u001b[0m:\nLine \u001b[0;34m512\u001b[0m:   \u001b[34mreturn\u001b[39;49;00m \u001b[34mlambda\u001b[39;49;00m *args: val(*gp_fixargs(args, \u001b[34mTrue\u001b[39;49;00m))\n",
      "\u001b[0;31mExecuteError\u001b[0m: ERROR 000641: Too few records for analysis.  This tool requires at least 1 feature(s) to compute results.\nFailed to execute (DirectionalMean).\n\n\u001b[0;31m---------------------------------------------------------------------------\u001b[0m"
     ]
    }
   ],
   "source": [
    "arcpy.stats.DirectionalMean(r\"C:\\Users\\danie861\\Desktop\\FinalProject\\FinalProject\\Default.gdb\\SlopeLines\\O24\", r\"C:\\Users\\danie861\\Desktop\\FinalProject\\FinalProject\\Default.gdb\\O24_DirectionalMeanS\", \"DIRECTION\", \"Id\")"
   ]
  },
  {
   "cell_type": "code",
   "execution_count": null,
   "metadata": {},
   "outputs": [],
   "source": [
    "arcpy.stats.DirectionalMean(r\"C:\\Users\\danie861\\Desktop\\FinalProject\\FinalProject\\Default.gdb\\SlopeLines\\N27\", r\"C:\\Users\\danie861\\Desktop\\FinalProject\\FinalProject\\Default.gdb\\N27_DirectionalMeanS\", \"DIRECTION\", \"Id\")"
   ]
  },
  {
   "cell_type": "code",
   "execution_count": 30,
   "metadata": {},
   "outputs": [
    {
     "ename": "ExecuteError",
     "evalue": "ERROR 000641: Too few records for analysis.  This tool requires at least 1 feature(s) to compute results.\nFailed to execute (DirectionalMean).\n",
     "output_type": "error",
     "traceback": [
      "\u001b[0;31m---------------------------------------------------------------------------\u001b[0m\n\u001b[0;31mExecuteError\u001b[0m                              Traceback (most recent call last)",
      "In  \u001b[0;34m[30]\u001b[0m:\nLine \u001b[0;34m1\u001b[0m:     arcpy.stats.DirectionalMean(\u001b[33mr\u001b[39;49;00m\u001b[33m\"\u001b[39;49;00m\u001b[33mC:\u001b[39;49;00m\u001b[33m\\\u001b[39;49;00m\u001b[33mUsers\u001b[39;49;00m\u001b[33m\\\u001b[39;49;00m\u001b[33mdanie861\u001b[39;49;00m\u001b[33m\\\u001b[39;49;00m\u001b[33mDesktop\u001b[39;49;00m\u001b[33m\\\u001b[39;49;00m\u001b[33mFinalProject\u001b[39;49;00m\u001b[33m\\\u001b[39;49;00m\u001b[33mFinalProject\u001b[39;49;00m\u001b[33m\\\u001b[39;49;00m\u001b[33mDefault.gdb\u001b[39;49;00m\u001b[33m\\\u001b[39;49;00m\u001b[33mSlopeLines\u001b[39;49;00m\u001b[33m\\\u001b[39;49;00m\u001b[33mN26\u001b[39;49;00m\u001b[33m\"\u001b[39;49;00m, \u001b[33mr\u001b[39;49;00m\u001b[33m\"\u001b[39;49;00m\u001b[33mC:\u001b[39;49;00m\u001b[33m\\\u001b[39;49;00m\u001b[33mUsers\u001b[39;49;00m\u001b[33m\\\u001b[39;49;00m\u001b[33mdanie861\u001b[39;49;00m\u001b[33m\\\u001b[39;49;00m\u001b[33mDesktop\u001b[39;49;00m\u001b[33m\\\u001b[39;49;00m\u001b[33mFinalProject\u001b[39;49;00m\u001b[33m\\\u001b[39;49;00m\u001b[33mFinalProject\u001b[39;49;00m\u001b[33m\\\u001b[39;49;00m\u001b[33mDefault.gdb\u001b[39;49;00m\u001b[33m\\\u001b[39;49;00m\u001b[33mN26_DirectionalMeanS\u001b[39;49;00m\u001b[33m\"\u001b[39;49;00m, \u001b[33m\"\u001b[39;49;00m\u001b[33mDIRECTION\u001b[39;49;00m\u001b[33m\"\u001b[39;49;00m, \u001b[33m\"\u001b[39;49;00m\u001b[33mId\u001b[39;49;00m\u001b[33m\"\u001b[39;49;00m)\n",
      "File \u001b[0;34mC:\\Program Files\\ArcGIS\\Pro\\Resources\\ArcPy\\arcpy\\stats.py\u001b[0m, in \u001b[0;32mDirectionalMean\u001b[0m:\nLine \u001b[0;34m1710\u001b[0m:  \u001b[34mraise\u001b[39;49;00m e\n",
      "File \u001b[0;34mC:\\Program Files\\ArcGIS\\Pro\\Resources\\ArcPy\\arcpy\\stats.py\u001b[0m, in \u001b[0;32mDirectionalMean\u001b[0m:\nLine \u001b[0;34m1707\u001b[0m:  retval = convertArcObjectToPythonObject(gp.DirectionalMean_stats(*gp_fixargs((Input_Feature_Class, Output_Feature_Class, Orientation_Only, Case_Field), \u001b[34mTrue\u001b[39;49;00m)))\n",
      "File \u001b[0;34mC:\\Program Files\\ArcGIS\\Pro\\Resources\\ArcPy\\arcpy\\geoprocessing\\_base.py\u001b[0m, in \u001b[0;32m<lambda>\u001b[0m:\nLine \u001b[0;34m512\u001b[0m:   \u001b[34mreturn\u001b[39;49;00m \u001b[34mlambda\u001b[39;49;00m *args: val(*gp_fixargs(args, \u001b[34mTrue\u001b[39;49;00m))\n",
      "\u001b[0;31mExecuteError\u001b[0m: ERROR 000641: Too few records for analysis.  This tool requires at least 1 feature(s) to compute results.\nFailed to execute (DirectionalMean).\n\n\u001b[0;31m---------------------------------------------------------------------------\u001b[0m"
     ]
    }
   ],
   "source": [
    "arcpy.stats.DirectionalMean(r\"C:\\Users\\danie861\\Desktop\\FinalProject\\FinalProject\\Default.gdb\\SlopeLines\\N26\", r\"C:\\Users\\danie861\\Desktop\\FinalProject\\FinalProject\\Default.gdb\\N26_DirectionalMeanS\", \"DIRECTION\", \"Id\")"
   ]
  },
  {
   "cell_type": "markdown",
   "metadata": {},
   "source": [
    "### Hillshade 20 Splits LDM Analysis:"
   ]
  },
  {
   "cell_type": "code",
   "execution_count": 36,
   "metadata": {},
   "outputs": [
    {
     "data": {
      "text/html": [
       "<h2>Output</h2>C:\\Users\\danie861\\Desktop\\FinalProject\\FinalProject\\Default.gdb\\AA22_DirectionalMeanHS<h2>Messages</h2>Start Time: Monday, November 28, 2022 10:14:22 AM<br/>WARNING 110068: The Rayleigh test requires at least 4 features for a two-dimensional result and 8 features for a three-dimensional result to be valid.<br/>Succeeded at Monday, November 28, 2022 10:14:40 AM (Elapsed Time: 18.04 seconds)<br/><style>.rendered_html td, .rendered_html th {text-align: left;}.rendered_html tbody {border: 1px solid black;}</style>"
      ],
      "text/plain": [
       "<Result 'C:\\\\Users\\\\danie861\\\\Desktop\\\\FinalProject\\\\FinalProject\\\\Default.gdb\\\\AA22_DirectionalMeanHS'>"
      ]
     },
     "execution_count": 36,
     "metadata": {},
     "output_type": "execute_result"
    }
   ],
   "source": [
    "arcpy.stats.DirectionalMean(r\"C:\\Users\\danie861\\Desktop\\FinalProject\\FinalProject\\Default.gdb\\HillshadeLines\\AA22\", r\"C:\\Users\\danie861\\Desktop\\FinalProject\\FinalProject\\Default.gdb\\AA22_DirectionalMeanHS\", \"DIRECTION\", \"Id\")"
   ]
  },
  {
   "cell_type": "code",
   "execution_count": 37,
   "metadata": {},
   "outputs": [
    {
     "data": {
      "text/html": [
       "<h2>Output</h2>C:\\Users\\danie861\\Desktop\\FinalProject\\FinalProject\\Default.gdb\\AA23_DirectionalMeanHS<h2>Messages</h2>Start Time: Monday, November 28, 2022 10:14:47 AM<br/>WARNING 110068: The Rayleigh test requires at least 4 features for a two-dimensional result and 8 features for a three-dimensional result to be valid.<br/>Succeeded at Monday, November 28, 2022 10:15:04 AM (Elapsed Time: 17.61 seconds)<br/><style>.rendered_html td, .rendered_html th {text-align: left;}.rendered_html tbody {border: 1px solid black;}</style>"
      ],
      "text/plain": [
       "<Result 'C:\\\\Users\\\\danie861\\\\Desktop\\\\FinalProject\\\\FinalProject\\\\Default.gdb\\\\AA23_DirectionalMeanHS'>"
      ]
     },
     "execution_count": 37,
     "metadata": {},
     "output_type": "execute_result"
    }
   ],
   "source": [
    "arcpy.stats.DirectionalMean(r\"C:\\Users\\danie861\\Desktop\\FinalProject\\FinalProject\\Default.gdb\\HillshadeLines\\AA23\", r\"C:\\Users\\danie861\\Desktop\\FinalProject\\FinalProject\\Default.gdb\\AA23_DirectionalMeanHS\", \"DIRECTION\", \"Id\")"
   ]
  },
  {
   "cell_type": "code",
   "execution_count": 38,
   "metadata": {},
   "outputs": [
    {
     "ename": "ExecuteError",
     "evalue": "ERROR 000641: Too few records for analysis.  This tool requires at least 1 feature(s) to compute results.\nFailed to execute (DirectionalMean).\n",
     "output_type": "error",
     "traceback": [
      "\u001b[0;31m---------------------------------------------------------------------------\u001b[0m\n\u001b[0;31mExecuteError\u001b[0m                              Traceback (most recent call last)",
      "In  \u001b[0;34m[38]\u001b[0m:\nLine \u001b[0;34m1\u001b[0m:     arcpy.stats.DirectionalMean(\u001b[33mr\u001b[39;49;00m\u001b[33m\"\u001b[39;49;00m\u001b[33mC:\u001b[39;49;00m\u001b[33m\\\u001b[39;49;00m\u001b[33mUsers\u001b[39;49;00m\u001b[33m\\\u001b[39;49;00m\u001b[33mdanie861\u001b[39;49;00m\u001b[33m\\\u001b[39;49;00m\u001b[33mDesktop\u001b[39;49;00m\u001b[33m\\\u001b[39;49;00m\u001b[33mFinalProject\u001b[39;49;00m\u001b[33m\\\u001b[39;49;00m\u001b[33mFinalProject\u001b[39;49;00m\u001b[33m\\\u001b[39;49;00m\u001b[33mDefault.gdb\u001b[39;49;00m\u001b[33m\\\u001b[39;49;00m\u001b[33mHillshadeLines\u001b[39;49;00m\u001b[33m\\\u001b[39;49;00m\u001b[33mAA32_\u001b[39;49;00m\u001b[33m\"\u001b[39;49;00m, \u001b[33mr\u001b[39;49;00m\u001b[33m\"\u001b[39;49;00m\u001b[33mC:\u001b[39;49;00m\u001b[33m\\\u001b[39;49;00m\u001b[33mUsers\u001b[39;49;00m\u001b[33m\\\u001b[39;49;00m\u001b[33mdanie861\u001b[39;49;00m\u001b[33m\\\u001b[39;49;00m\u001b[33mDesktop\u001b[39;49;00m\u001b[33m\\\u001b[39;49;00m\u001b[33mFinalProject\u001b[39;49;00m\u001b[33m\\\u001b[39;49;00m\u001b[33mFinalProject\u001b[39;49;00m\u001b[33m\\\u001b[39;49;00m\u001b[33mDefault.gdb\u001b[39;49;00m\u001b[33m\\\u001b[39;49;00m\u001b[33mAA32_DirectionalMeanHS\u001b[39;49;00m\u001b[33m\"\u001b[39;49;00m, \u001b[33m\"\u001b[39;49;00m\u001b[33mDIRECTION\u001b[39;49;00m\u001b[33m\"\u001b[39;49;00m, \u001b[33m\"\u001b[39;49;00m\u001b[33mId\u001b[39;49;00m\u001b[33m\"\u001b[39;49;00m)\n",
      "File \u001b[0;34mC:\\Program Files\\ArcGIS\\Pro\\Resources\\ArcPy\\arcpy\\stats.py\u001b[0m, in \u001b[0;32mDirectionalMean\u001b[0m:\nLine \u001b[0;34m1710\u001b[0m:  \u001b[34mraise\u001b[39;49;00m e\n",
      "File \u001b[0;34mC:\\Program Files\\ArcGIS\\Pro\\Resources\\ArcPy\\arcpy\\stats.py\u001b[0m, in \u001b[0;32mDirectionalMean\u001b[0m:\nLine \u001b[0;34m1707\u001b[0m:  retval = convertArcObjectToPythonObject(gp.DirectionalMean_stats(*gp_fixargs((Input_Feature_Class, Output_Feature_Class, Orientation_Only, Case_Field), \u001b[34mTrue\u001b[39;49;00m)))\n",
      "File \u001b[0;34mC:\\Program Files\\ArcGIS\\Pro\\Resources\\ArcPy\\arcpy\\geoprocessing\\_base.py\u001b[0m, in \u001b[0;32m<lambda>\u001b[0m:\nLine \u001b[0;34m512\u001b[0m:   \u001b[34mreturn\u001b[39;49;00m \u001b[34mlambda\u001b[39;49;00m *args: val(*gp_fixargs(args, \u001b[34mTrue\u001b[39;49;00m))\n",
      "\u001b[0;31mExecuteError\u001b[0m: ERROR 000641: Too few records for analysis.  This tool requires at least 1 feature(s) to compute results.\nFailed to execute (DirectionalMean).\n\n\u001b[0;31m---------------------------------------------------------------------------\u001b[0m"
     ]
    }
   ],
   "source": [
    "arcpy.stats.DirectionalMean(r\"C:\\Users\\danie861\\Desktop\\FinalProject\\FinalProject\\Default.gdb\\HillshadeLines\\AA32_\", r\"C:\\Users\\danie861\\Desktop\\FinalProject\\FinalProject\\Default.gdb\\AA32_DirectionalMeanHS\", \"DIRECTION\", \"Id\")"
   ]
  },
  {
   "cell_type": "code",
   "execution_count": 39,
   "metadata": {},
   "outputs": [
    {
     "data": {
      "text/html": [
       "<h2>Output</h2>C:\\Users\\danie861\\Desktop\\FinalProject\\FinalProject\\Default.gdb\\AA36_DirectionalMeanHS<h2>Messages</h2>Start Time: Monday, November 28, 2022 10:15:30 AM<br/>WARNING 110068: The Rayleigh test requires at least 4 features for a two-dimensional result and 8 features for a three-dimensional result to be valid.<br/>Succeeded at Monday, November 28, 2022 10:15:48 AM (Elapsed Time: 18.00 seconds)<br/><style>.rendered_html td, .rendered_html th {text-align: left;}.rendered_html tbody {border: 1px solid black;}</style>"
      ],
      "text/plain": [
       "<Result 'C:\\\\Users\\\\danie861\\\\Desktop\\\\FinalProject\\\\FinalProject\\\\Default.gdb\\\\AA36_DirectionalMeanHS'>"
      ]
     },
     "execution_count": 39,
     "metadata": {},
     "output_type": "execute_result"
    }
   ],
   "source": [
    "arcpy.stats.DirectionalMean(r\"C:\\Users\\danie861\\Desktop\\FinalProject\\FinalProject\\Default.gdb\\HillshadeLines\\AA36\", r\"C:\\Users\\danie861\\Desktop\\FinalProject\\FinalProject\\Default.gdb\\AA36_DirectionalMeanHS\", \"DIRECTION\", \"Id\")"
   ]
  },
  {
   "cell_type": "code",
   "execution_count": 40,
   "metadata": {},
   "outputs": [
    {
     "data": {
      "text/html": [
       "<h2>Output</h2>C:\\Users\\danie861\\Desktop\\FinalProject\\FinalProject\\Default.gdb\\AA37_DirectionalMeanHS<h2>Messages</h2>Start Time: Monday, November 28, 2022 10:15:54 AM<br/>WARNING 110068: The Rayleigh test requires at least 4 features for a two-dimensional result and 8 features for a three-dimensional result to be valid.<br/>Succeeded at Monday, November 28, 2022 10:16:12 AM (Elapsed Time: 17.73 seconds)<br/><style>.rendered_html td, .rendered_html th {text-align: left;}.rendered_html tbody {border: 1px solid black;}</style>"
      ],
      "text/plain": [
       "<Result 'C:\\\\Users\\\\danie861\\\\Desktop\\\\FinalProject\\\\FinalProject\\\\Default.gdb\\\\AA37_DirectionalMeanHS'>"
      ]
     },
     "execution_count": 40,
     "metadata": {},
     "output_type": "execute_result"
    }
   ],
   "source": [
    "arcpy.stats.DirectionalMean(r\"C:\\Users\\danie861\\Desktop\\FinalProject\\FinalProject\\Default.gdb\\HillshadeLines\\AA37_\", r\"C:\\Users\\danie861\\Desktop\\FinalProject\\FinalProject\\Default.gdb\\AA37_DirectionalMeanHS\", \"DIRECTION\", \"Id\")"
   ]
  },
  {
   "cell_type": "code",
   "execution_count": 41,
   "metadata": {},
   "outputs": [
    {
     "data": {
      "text/html": [
       "<h2>Output</h2>C:\\Users\\danie861\\Desktop\\FinalProject\\FinalProject\\Default.gdb\\Z38_DirectionalMeanHS<h2>Messages</h2>Start Time: Monday, November 28, 2022 10:16:18 AM<br/>WARNING 110068: The Rayleigh test requires at least 4 features for a two-dimensional result and 8 features for a three-dimensional result to be valid.<br/>Succeeded at Monday, November 28, 2022 10:16:35 AM (Elapsed Time: 17.61 seconds)<br/><style>.rendered_html td, .rendered_html th {text-align: left;}.rendered_html tbody {border: 1px solid black;}</style>"
      ],
      "text/plain": [
       "<Result 'C:\\\\Users\\\\danie861\\\\Desktop\\\\FinalProject\\\\FinalProject\\\\Default.gdb\\\\Z38_DirectionalMeanHS'>"
      ]
     },
     "execution_count": 41,
     "metadata": {},
     "output_type": "execute_result"
    }
   ],
   "source": [
    "arcpy.stats.DirectionalMean(r\"C:\\Users\\danie861\\Desktop\\FinalProject\\FinalProject\\Default.gdb\\HillshadeLines\\Z38_\", r\"C:\\Users\\danie861\\Desktop\\FinalProject\\FinalProject\\Default.gdb\\Z38_DirectionalMeanHS\", \"DIRECTION\", \"Id\")"
   ]
  },
  {
   "cell_type": "code",
   "execution_count": 42,
   "metadata": {},
   "outputs": [
    {
     "ename": "ExecuteError",
     "evalue": "ERROR 000641: Too few records for analysis.  This tool requires at least 1 feature(s) to compute results.\nFailed to execute (DirectionalMean).\n",
     "output_type": "error",
     "traceback": [
      "\u001b[0;31m---------------------------------------------------------------------------\u001b[0m\n\u001b[0;31mExecuteError\u001b[0m                              Traceback (most recent call last)",
      "In  \u001b[0;34m[42]\u001b[0m:\nLine \u001b[0;34m1\u001b[0m:     arcpy.stats.DirectionalMean(\u001b[33mr\u001b[39;49;00m\u001b[33m\"\u001b[39;49;00m\u001b[33mC:\u001b[39;49;00m\u001b[33m\\\u001b[39;49;00m\u001b[33mUsers\u001b[39;49;00m\u001b[33m\\\u001b[39;49;00m\u001b[33mdanie861\u001b[39;49;00m\u001b[33m\\\u001b[39;49;00m\u001b[33mDesktop\u001b[39;49;00m\u001b[33m\\\u001b[39;49;00m\u001b[33mFinalProject\u001b[39;49;00m\u001b[33m\\\u001b[39;49;00m\u001b[33mFinalProject\u001b[39;49;00m\u001b[33m\\\u001b[39;49;00m\u001b[33mDefault.gdb\u001b[39;49;00m\u001b[33m\\\u001b[39;49;00m\u001b[33mHillshadeLines\u001b[39;49;00m\u001b[33m\\\u001b[39;49;00m\u001b[33mW16_\u001b[39;49;00m\u001b[33m\"\u001b[39;49;00m, \u001b[33mr\u001b[39;49;00m\u001b[33m\"\u001b[39;49;00m\u001b[33mC:\u001b[39;49;00m\u001b[33m\\\u001b[39;49;00m\u001b[33mUsers\u001b[39;49;00m\u001b[33m\\\u001b[39;49;00m\u001b[33mdanie861\u001b[39;49;00m\u001b[33m\\\u001b[39;49;00m\u001b[33mDesktop\u001b[39;49;00m\u001b[33m\\\u001b[39;49;00m\u001b[33mFinalProject\u001b[39;49;00m\u001b[33m\\\u001b[39;49;00m\u001b[33mFinalProject\u001b[39;49;00m\u001b[33m\\\u001b[39;49;00m\u001b[33mDefault.gdb\u001b[39;49;00m\u001b[33m\\\u001b[39;49;00m\u001b[33mW16_DirectionalMeanHS\u001b[39;49;00m\u001b[33m\"\u001b[39;49;00m, \u001b[33m\"\u001b[39;49;00m\u001b[33mDIRECTION\u001b[39;49;00m\u001b[33m\"\u001b[39;49;00m, \u001b[33m\"\u001b[39;49;00m\u001b[33mId\u001b[39;49;00m\u001b[33m\"\u001b[39;49;00m)\n",
      "File \u001b[0;34mC:\\Program Files\\ArcGIS\\Pro\\Resources\\ArcPy\\arcpy\\stats.py\u001b[0m, in \u001b[0;32mDirectionalMean\u001b[0m:\nLine \u001b[0;34m1710\u001b[0m:  \u001b[34mraise\u001b[39;49;00m e\n",
      "File \u001b[0;34mC:\\Program Files\\ArcGIS\\Pro\\Resources\\ArcPy\\arcpy\\stats.py\u001b[0m, in \u001b[0;32mDirectionalMean\u001b[0m:\nLine \u001b[0;34m1707\u001b[0m:  retval = convertArcObjectToPythonObject(gp.DirectionalMean_stats(*gp_fixargs((Input_Feature_Class, Output_Feature_Class, Orientation_Only, Case_Field), \u001b[34mTrue\u001b[39;49;00m)))\n",
      "File \u001b[0;34mC:\\Program Files\\ArcGIS\\Pro\\Resources\\ArcPy\\arcpy\\geoprocessing\\_base.py\u001b[0m, in \u001b[0;32m<lambda>\u001b[0m:\nLine \u001b[0;34m512\u001b[0m:   \u001b[34mreturn\u001b[39;49;00m \u001b[34mlambda\u001b[39;49;00m *args: val(*gp_fixargs(args, \u001b[34mTrue\u001b[39;49;00m))\n",
      "\u001b[0;31mExecuteError\u001b[0m: ERROR 000641: Too few records for analysis.  This tool requires at least 1 feature(s) to compute results.\nFailed to execute (DirectionalMean).\n\n\u001b[0;31m---------------------------------------------------------------------------\u001b[0m"
     ]
    }
   ],
   "source": [
    "arcpy.stats.DirectionalMean(r\"C:\\Users\\danie861\\Desktop\\FinalProject\\FinalProject\\Default.gdb\\HillshadeLines\\W16_\", r\"C:\\Users\\danie861\\Desktop\\FinalProject\\FinalProject\\Default.gdb\\W16_DirectionalMeanHS\", \"DIRECTION\", \"Id\")"
   ]
  },
  {
   "cell_type": "code",
   "execution_count": 43,
   "metadata": {},
   "outputs": [
    {
     "data": {
      "text/html": [
       "<h2>Output</h2>C:\\Users\\danie861\\Desktop\\FinalProject\\FinalProject\\Default.gdb\\V16_DirectionalMeanHS<h2>Messages</h2>Start Time: Monday, November 28, 2022 10:16:50 AM<br/>WARNING 000642: Problems reading 1 of 2 total records.<br/>WARNING 000848: Features with bad records (only includes first 30): OBJECTID = 2.<br/>WARNING 110068: The Rayleigh test requires at least 4 features for a two-dimensional result and 8 features for a three-dimensional result to be valid.<br/>Succeeded at Monday, November 28, 2022 10:17:08 AM (Elapsed Time: 18.15 seconds)<br/><style>.rendered_html td, .rendered_html th {text-align: left;}.rendered_html tbody {border: 1px solid black;}</style>"
      ],
      "text/plain": [
       "<Result 'C:\\\\Users\\\\danie861\\\\Desktop\\\\FinalProject\\\\FinalProject\\\\Default.gdb\\\\V16_DirectionalMeanHS'>"
      ]
     },
     "execution_count": 43,
     "metadata": {},
     "output_type": "execute_result"
    }
   ],
   "source": [
    "arcpy.stats.DirectionalMean(r\"C:\\Users\\danie861\\Desktop\\FinalProject\\FinalProject\\Default.gdb\\HillshadeLines\\V16_\", r\"C:\\Users\\danie861\\Desktop\\FinalProject\\FinalProject\\Default.gdb\\V16_DirectionalMeanHS\", \"DIRECTION\", \"Id\")"
   ]
  },
  {
   "cell_type": "code",
   "execution_count": 44,
   "metadata": {},
   "outputs": [
    {
     "data": {
      "text/html": [
       "<h2>Output</h2>C:\\Users\\danie861\\Desktop\\FinalProject\\FinalProject\\Default.gdb\\U16_DirectionalMeanHS<h2>Messages</h2>Start Time: Monday, November 28, 2022 10:17:15 AM<br/>WARNING 110068: The Rayleigh test requires at least 4 features for a two-dimensional result and 8 features for a three-dimensional result to be valid.<br/>Succeeded at Monday, November 28, 2022 10:17:33 AM (Elapsed Time: 17.72 seconds)<br/><style>.rendered_html td, .rendered_html th {text-align: left;}.rendered_html tbody {border: 1px solid black;}</style>"
      ],
      "text/plain": [
       "<Result 'C:\\\\Users\\\\danie861\\\\Desktop\\\\FinalProject\\\\FinalProject\\\\Default.gdb\\\\U16_DirectionalMeanHS'>"
      ]
     },
     "execution_count": 44,
     "metadata": {},
     "output_type": "execute_result"
    }
   ],
   "source": [
    "arcpy.stats.DirectionalMean(r\"C:\\Users\\danie861\\Desktop\\FinalProject\\FinalProject\\Default.gdb\\HillshadeLines\\U16_\", r\"C:\\Users\\danie861\\Desktop\\FinalProject\\FinalProject\\Default.gdb\\U16_DirectionalMeanHS\", \"DIRECTION\", \"Id\")"
   ]
  },
  {
   "cell_type": "code",
   "execution_count": 45,
   "metadata": {},
   "outputs": [
    {
     "data": {
      "text/html": [
       "<h2>Output</h2>C:\\Users\\danie861\\Desktop\\FinalProject\\FinalProject\\Default.gdb\\T17_DirectionalMeanHS<h2>Messages</h2>Start Time: Monday, November 28, 2022 10:17:39 AM<br/>WARNING 110068: The Rayleigh test requires at least 4 features for a two-dimensional result and 8 features for a three-dimensional result to be valid.<br/>Succeeded at Monday, November 28, 2022 10:17:57 AM (Elapsed Time: 18.05 seconds)<br/><style>.rendered_html td, .rendered_html th {text-align: left;}.rendered_html tbody {border: 1px solid black;}</style>"
      ],
      "text/plain": [
       "<Result 'C:\\\\Users\\\\danie861\\\\Desktop\\\\FinalProject\\\\FinalProject\\\\Default.gdb\\\\T17_DirectionalMeanHS'>"
      ]
     },
     "execution_count": 45,
     "metadata": {},
     "output_type": "execute_result"
    }
   ],
   "source": [
    "arcpy.stats.DirectionalMean(r\"C:\\Users\\danie861\\Desktop\\FinalProject\\FinalProject\\Default.gdb\\HillshadeLines\\T17\", r\"C:\\Users\\danie861\\Desktop\\FinalProject\\FinalProject\\Default.gdb\\T17_DirectionalMeanHS\", \"DIRECTION\", \"Id\")"
   ]
  },
  {
   "cell_type": "code",
   "execution_count": 46,
   "metadata": {},
   "outputs": [
    {
     "data": {
      "text/html": [
       "<h2>Output</h2>C:\\Users\\danie861\\Desktop\\FinalProject\\FinalProject\\Default.gdb\\T16_DirectionalMeanHS<h2>Messages</h2>Start Time: Monday, November 28, 2022 10:18:04 AM<br/>WARNING 110068: The Rayleigh test requires at least 4 features for a two-dimensional result and 8 features for a three-dimensional result to be valid.<br/>Succeeded at Monday, November 28, 2022 10:18:21 AM (Elapsed Time: 17.66 seconds)<br/><style>.rendered_html td, .rendered_html th {text-align: left;}.rendered_html tbody {border: 1px solid black;}</style>"
      ],
      "text/plain": [
       "<Result 'C:\\\\Users\\\\danie861\\\\Desktop\\\\FinalProject\\\\FinalProject\\\\Default.gdb\\\\T16_DirectionalMeanHS'>"
      ]
     },
     "execution_count": 46,
     "metadata": {},
     "output_type": "execute_result"
    }
   ],
   "source": [
    "arcpy.stats.DirectionalMean(r\"C:\\Users\\danie861\\Desktop\\FinalProject\\FinalProject\\Default.gdb\\HillshadeLines\\T16_\", r\"C:\\Users\\danie861\\Desktop\\FinalProject\\FinalProject\\Default.gdb\\T16_DirectionalMeanHS\", \"DIRECTION\", \"Id\")"
   ]
  },
  {
   "cell_type": "code",
   "execution_count": 47,
   "metadata": {},
   "outputs": [
    {
     "ename": "ExecuteError",
     "evalue": "ERROR 000641: Too few records for analysis.  This tool requires at least 1 feature(s) to compute results.\nFailed to execute (DirectionalMean).\n",
     "output_type": "error",
     "traceback": [
      "\u001b[0;31m---------------------------------------------------------------------------\u001b[0m\n\u001b[0;31mExecuteError\u001b[0m                              Traceback (most recent call last)",
      "In  \u001b[0;34m[47]\u001b[0m:\nLine \u001b[0;34m1\u001b[0m:     arcpy.stats.DirectionalMean(\u001b[33mr\u001b[39;49;00m\u001b[33m\"\u001b[39;49;00m\u001b[33mC:\u001b[39;49;00m\u001b[33m\\\u001b[39;49;00m\u001b[33mUsers\u001b[39;49;00m\u001b[33m\\\u001b[39;49;00m\u001b[33mdanie861\u001b[39;49;00m\u001b[33m\\\u001b[39;49;00m\u001b[33mDesktop\u001b[39;49;00m\u001b[33m\\\u001b[39;49;00m\u001b[33mFinalProject\u001b[39;49;00m\u001b[33m\\\u001b[39;49;00m\u001b[33mFinalProject\u001b[39;49;00m\u001b[33m\\\u001b[39;49;00m\u001b[33mDefault.gdb\u001b[39;49;00m\u001b[33m\\\u001b[39;49;00m\u001b[33mHillshadeLines\u001b[39;49;00m\u001b[33m\\\u001b[39;49;00m\u001b[33mS26\u001b[39;49;00m\u001b[33m\"\u001b[39;49;00m, \u001b[33mr\u001b[39;49;00m\u001b[33m\"\u001b[39;49;00m\u001b[33mC:\u001b[39;49;00m\u001b[33m\\\u001b[39;49;00m\u001b[33mUsers\u001b[39;49;00m\u001b[33m\\\u001b[39;49;00m\u001b[33mdanie861\u001b[39;49;00m\u001b[33m\\\u001b[39;49;00m\u001b[33mDesktop\u001b[39;49;00m\u001b[33m\\\u001b[39;49;00m\u001b[33mFinalProject\u001b[39;49;00m\u001b[33m\\\u001b[39;49;00m\u001b[33mFinalProject\u001b[39;49;00m\u001b[33m\\\u001b[39;49;00m\u001b[33mDefault.gdb\u001b[39;49;00m\u001b[33m\\\u001b[39;49;00m\u001b[33mS26_DirectionalMeanHS\u001b[39;49;00m\u001b[33m\"\u001b[39;49;00m, \u001b[33m\"\u001b[39;49;00m\u001b[33mDIRECTION\u001b[39;49;00m\u001b[33m\"\u001b[39;49;00m, \u001b[33m\"\u001b[39;49;00m\u001b[33mId\u001b[39;49;00m\u001b[33m\"\u001b[39;49;00m)\n",
      "File \u001b[0;34mC:\\Program Files\\ArcGIS\\Pro\\Resources\\ArcPy\\arcpy\\stats.py\u001b[0m, in \u001b[0;32mDirectionalMean\u001b[0m:\nLine \u001b[0;34m1710\u001b[0m:  \u001b[34mraise\u001b[39;49;00m e\n",
      "File \u001b[0;34mC:\\Program Files\\ArcGIS\\Pro\\Resources\\ArcPy\\arcpy\\stats.py\u001b[0m, in \u001b[0;32mDirectionalMean\u001b[0m:\nLine \u001b[0;34m1707\u001b[0m:  retval = convertArcObjectToPythonObject(gp.DirectionalMean_stats(*gp_fixargs((Input_Feature_Class, Output_Feature_Class, Orientation_Only, Case_Field), \u001b[34mTrue\u001b[39;49;00m)))\n",
      "File \u001b[0;34mC:\\Program Files\\ArcGIS\\Pro\\Resources\\ArcPy\\arcpy\\geoprocessing\\_base.py\u001b[0m, in \u001b[0;32m<lambda>\u001b[0m:\nLine \u001b[0;34m512\u001b[0m:   \u001b[34mreturn\u001b[39;49;00m \u001b[34mlambda\u001b[39;49;00m *args: val(*gp_fixargs(args, \u001b[34mTrue\u001b[39;49;00m))\n",
      "\u001b[0;31mExecuteError\u001b[0m: ERROR 000641: Too few records for analysis.  This tool requires at least 1 feature(s) to compute results.\nFailed to execute (DirectionalMean).\n\n\u001b[0;31m---------------------------------------------------------------------------\u001b[0m"
     ]
    }
   ],
   "source": [
    "arcpy.stats.DirectionalMean(r\"C:\\Users\\danie861\\Desktop\\FinalProject\\FinalProject\\Default.gdb\\HillshadeLines\\S26\", r\"C:\\Users\\danie861\\Desktop\\FinalProject\\FinalProject\\Default.gdb\\S26_DirectionalMeanHS\", \"DIRECTION\", \"Id\")"
   ]
  },
  {
   "cell_type": "code",
   "execution_count": 48,
   "metadata": {},
   "outputs": [
    {
     "ename": "ExecuteError",
     "evalue": "ERROR 000641: Too few records for analysis.  This tool requires at least 1 feature(s) to compute results.\nFailed to execute (DirectionalMean).\n",
     "output_type": "error",
     "traceback": [
      "\u001b[0;31m---------------------------------------------------------------------------\u001b[0m\n\u001b[0;31mExecuteError\u001b[0m                              Traceback (most recent call last)",
      "In  \u001b[0;34m[48]\u001b[0m:\nLine \u001b[0;34m1\u001b[0m:     arcpy.stats.DirectionalMean(\u001b[33mr\u001b[39;49;00m\u001b[33m\"\u001b[39;49;00m\u001b[33mC:\u001b[39;49;00m\u001b[33m\\\u001b[39;49;00m\u001b[33mUsers\u001b[39;49;00m\u001b[33m\\\u001b[39;49;00m\u001b[33mdanie861\u001b[39;49;00m\u001b[33m\\\u001b[39;49;00m\u001b[33mDesktop\u001b[39;49;00m\u001b[33m\\\u001b[39;49;00m\u001b[33mFinalProject\u001b[39;49;00m\u001b[33m\\\u001b[39;49;00m\u001b[33mFinalProject\u001b[39;49;00m\u001b[33m\\\u001b[39;49;00m\u001b[33mDefault.gdb\u001b[39;49;00m\u001b[33m\\\u001b[39;49;00m\u001b[33mHillshadeLines\u001b[39;49;00m\u001b[33m\\\u001b[39;49;00m\u001b[33mR26_\u001b[39;49;00m\u001b[33m\"\u001b[39;49;00m, \u001b[33mr\u001b[39;49;00m\u001b[33m\"\u001b[39;49;00m\u001b[33mC:\u001b[39;49;00m\u001b[33m\\\u001b[39;49;00m\u001b[33mUsers\u001b[39;49;00m\u001b[33m\\\u001b[39;49;00m\u001b[33mdanie861\u001b[39;49;00m\u001b[33m\\\u001b[39;49;00m\u001b[33mDesktop\u001b[39;49;00m\u001b[33m\\\u001b[39;49;00m\u001b[33mFinalProject\u001b[39;49;00m\u001b[33m\\\u001b[39;49;00m\u001b[33mFinalProject\u001b[39;49;00m\u001b[33m\\\u001b[39;49;00m\u001b[33mDefault.gdb\u001b[39;49;00m\u001b[33m\\\u001b[39;49;00m\u001b[33mR26_DirectionalMeanHS\u001b[39;49;00m\u001b[33m\"\u001b[39;49;00m, \u001b[33m\"\u001b[39;49;00m\u001b[33mDIRECTION\u001b[39;49;00m\u001b[33m\"\u001b[39;49;00m, \u001b[33m\"\u001b[39;49;00m\u001b[33mId\u001b[39;49;00m\u001b[33m\"\u001b[39;49;00m)\n",
      "File \u001b[0;34mC:\\Program Files\\ArcGIS\\Pro\\Resources\\ArcPy\\arcpy\\stats.py\u001b[0m, in \u001b[0;32mDirectionalMean\u001b[0m:\nLine \u001b[0;34m1710\u001b[0m:  \u001b[34mraise\u001b[39;49;00m e\n",
      "File \u001b[0;34mC:\\Program Files\\ArcGIS\\Pro\\Resources\\ArcPy\\arcpy\\stats.py\u001b[0m, in \u001b[0;32mDirectionalMean\u001b[0m:\nLine \u001b[0;34m1707\u001b[0m:  retval = convertArcObjectToPythonObject(gp.DirectionalMean_stats(*gp_fixargs((Input_Feature_Class, Output_Feature_Class, Orientation_Only, Case_Field), \u001b[34mTrue\u001b[39;49;00m)))\n",
      "File \u001b[0;34mC:\\Program Files\\ArcGIS\\Pro\\Resources\\ArcPy\\arcpy\\geoprocessing\\_base.py\u001b[0m, in \u001b[0;32m<lambda>\u001b[0m:\nLine \u001b[0;34m512\u001b[0m:   \u001b[34mreturn\u001b[39;49;00m \u001b[34mlambda\u001b[39;49;00m *args: val(*gp_fixargs(args, \u001b[34mTrue\u001b[39;49;00m))\n",
      "\u001b[0;31mExecuteError\u001b[0m: ERROR 000641: Too few records for analysis.  This tool requires at least 1 feature(s) to compute results.\nFailed to execute (DirectionalMean).\n\n\u001b[0;31m---------------------------------------------------------------------------\u001b[0m"
     ]
    }
   ],
   "source": [
    "arcpy.stats.DirectionalMean(r\"C:\\Users\\danie861\\Desktop\\FinalProject\\FinalProject\\Default.gdb\\HillshadeLines\\R26_\", r\"C:\\Users\\danie861\\Desktop\\FinalProject\\FinalProject\\Default.gdb\\R26_DirectionalMeanHS\", \"DIRECTION\", \"Id\")"
   ]
  },
  {
   "cell_type": "code",
   "execution_count": 50,
   "metadata": {},
   "outputs": [
    {
     "ename": "ExecuteError",
     "evalue": "ERROR 000641: Too few records for analysis.  This tool requires at least 1 feature(s) to compute results.\nFailed to execute (DirectionalMean).\n",
     "output_type": "error",
     "traceback": [
      "\u001b[0;31m---------------------------------------------------------------------------\u001b[0m\n\u001b[0;31mExecuteError\u001b[0m                              Traceback (most recent call last)",
      "In  \u001b[0;34m[50]\u001b[0m:\nLine \u001b[0;34m1\u001b[0m:     arcpy.stats.DirectionalMean(\u001b[33mr\u001b[39;49;00m\u001b[33m\"\u001b[39;49;00m\u001b[33mC:\u001b[39;49;00m\u001b[33m\\\u001b[39;49;00m\u001b[33mUsers\u001b[39;49;00m\u001b[33m\\\u001b[39;49;00m\u001b[33mdanie861\u001b[39;49;00m\u001b[33m\\\u001b[39;49;00m\u001b[33mDesktop\u001b[39;49;00m\u001b[33m\\\u001b[39;49;00m\u001b[33mFinalProject\u001b[39;49;00m\u001b[33m\\\u001b[39;49;00m\u001b[33mFinalProject\u001b[39;49;00m\u001b[33m\\\u001b[39;49;00m\u001b[33mDefault.gdb\u001b[39;49;00m\u001b[33m\\\u001b[39;49;00m\u001b[33mHillshadeLines\u001b[39;49;00m\u001b[33m\\\u001b[39;49;00m\u001b[33mQ32\u001b[39;49;00m\u001b[33m\"\u001b[39;49;00m, \u001b[33mr\u001b[39;49;00m\u001b[33m\"\u001b[39;49;00m\u001b[33mC:\u001b[39;49;00m\u001b[33m\\\u001b[39;49;00m\u001b[33mUsers\u001b[39;49;00m\u001b[33m\\\u001b[39;49;00m\u001b[33mdanie861\u001b[39;49;00m\u001b[33m\\\u001b[39;49;00m\u001b[33mDesktop\u001b[39;49;00m\u001b[33m\\\u001b[39;49;00m\u001b[33mFinalProject\u001b[39;49;00m\u001b[33m\\\u001b[39;49;00m\u001b[33mFinalProject\u001b[39;49;00m\u001b[33m\\\u001b[39;49;00m\u001b[33mDefault.gdb\u001b[39;49;00m\u001b[33m\\\u001b[39;49;00m\u001b[33mQ32_DirectionalMeanHS\u001b[39;49;00m\u001b[33m\"\u001b[39;49;00m, \u001b[33m\"\u001b[39;49;00m\u001b[33mDIRECTION\u001b[39;49;00m\u001b[33m\"\u001b[39;49;00m, \u001b[33m\"\u001b[39;49;00m\u001b[33mId\u001b[39;49;00m\u001b[33m\"\u001b[39;49;00m)\n",
      "File \u001b[0;34mC:\\Program Files\\ArcGIS\\Pro\\Resources\\ArcPy\\arcpy\\stats.py\u001b[0m, in \u001b[0;32mDirectionalMean\u001b[0m:\nLine \u001b[0;34m1710\u001b[0m:  \u001b[34mraise\u001b[39;49;00m e\n",
      "File \u001b[0;34mC:\\Program Files\\ArcGIS\\Pro\\Resources\\ArcPy\\arcpy\\stats.py\u001b[0m, in \u001b[0;32mDirectionalMean\u001b[0m:\nLine \u001b[0;34m1707\u001b[0m:  retval = convertArcObjectToPythonObject(gp.DirectionalMean_stats(*gp_fixargs((Input_Feature_Class, Output_Feature_Class, Orientation_Only, Case_Field), \u001b[34mTrue\u001b[39;49;00m)))\n",
      "File \u001b[0;34mC:\\Program Files\\ArcGIS\\Pro\\Resources\\ArcPy\\arcpy\\geoprocessing\\_base.py\u001b[0m, in \u001b[0;32m<lambda>\u001b[0m:\nLine \u001b[0;34m512\u001b[0m:   \u001b[34mreturn\u001b[39;49;00m \u001b[34mlambda\u001b[39;49;00m *args: val(*gp_fixargs(args, \u001b[34mTrue\u001b[39;49;00m))\n",
      "\u001b[0;31mExecuteError\u001b[0m: ERROR 000641: Too few records for analysis.  This tool requires at least 1 feature(s) to compute results.\nFailed to execute (DirectionalMean).\n\n\u001b[0;31m---------------------------------------------------------------------------\u001b[0m"
     ]
    }
   ],
   "source": [
    "arcpy.stats.DirectionalMean(r\"C:\\Users\\danie861\\Desktop\\FinalProject\\FinalProject\\Default.gdb\\HillshadeLines\\Q32\", r\"C:\\Users\\danie861\\Desktop\\FinalProject\\FinalProject\\Default.gdb\\Q32_DirectionalMeanHS\", \"DIRECTION\", \"Id\")"
   ]
  },
  {
   "cell_type": "code",
   "execution_count": 51,
   "metadata": {},
   "outputs": [
    {
     "ename": "ExecuteError",
     "evalue": "ERROR 000641: Too few records for analysis.  This tool requires at least 1 feature(s) to compute results.\nFailed to execute (DirectionalMean).\n",
     "output_type": "error",
     "traceback": [
      "\u001b[0;31m---------------------------------------------------------------------------\u001b[0m\n\u001b[0;31mExecuteError\u001b[0m                              Traceback (most recent call last)",
      "In  \u001b[0;34m[51]\u001b[0m:\nLine \u001b[0;34m1\u001b[0m:     arcpy.stats.DirectionalMean(\u001b[33mr\u001b[39;49;00m\u001b[33m\"\u001b[39;49;00m\u001b[33mC:\u001b[39;49;00m\u001b[33m\\\u001b[39;49;00m\u001b[33mUsers\u001b[39;49;00m\u001b[33m\\\u001b[39;49;00m\u001b[33mdanie861\u001b[39;49;00m\u001b[33m\\\u001b[39;49;00m\u001b[33mDesktop\u001b[39;49;00m\u001b[33m\\\u001b[39;49;00m\u001b[33mFinalProject\u001b[39;49;00m\u001b[33m\\\u001b[39;49;00m\u001b[33mFinalProject\u001b[39;49;00m\u001b[33m\\\u001b[39;49;00m\u001b[33mDefault.gdb\u001b[39;49;00m\u001b[33m\\\u001b[39;49;00m\u001b[33mHillshadeLines\u001b[39;49;00m\u001b[33m\\\u001b[39;49;00m\u001b[33mQ31\u001b[39;49;00m\u001b[33m\"\u001b[39;49;00m, \u001b[33mr\u001b[39;49;00m\u001b[33m\"\u001b[39;49;00m\u001b[33mC:\u001b[39;49;00m\u001b[33m\\\u001b[39;49;00m\u001b[33mUsers\u001b[39;49;00m\u001b[33m\\\u001b[39;49;00m\u001b[33mdanie861\u001b[39;49;00m\u001b[33m\\\u001b[39;49;00m\u001b[33mDesktop\u001b[39;49;00m\u001b[33m\\\u001b[39;49;00m\u001b[33mFinalProject\u001b[39;49;00m\u001b[33m\\\u001b[39;49;00m\u001b[33mFinalProject\u001b[39;49;00m\u001b[33m\\\u001b[39;49;00m\u001b[33mDefault.gdb\u001b[39;49;00m\u001b[33m\\\u001b[39;49;00m\u001b[33mQ31_DirectionalMeanHS\u001b[39;49;00m\u001b[33m\"\u001b[39;49;00m, \u001b[33m\"\u001b[39;49;00m\u001b[33mDIRECTION\u001b[39;49;00m\u001b[33m\"\u001b[39;49;00m, \u001b[33m\"\u001b[39;49;00m\u001b[33mId\u001b[39;49;00m\u001b[33m\"\u001b[39;49;00m)\n",
      "File \u001b[0;34mC:\\Program Files\\ArcGIS\\Pro\\Resources\\ArcPy\\arcpy\\stats.py\u001b[0m, in \u001b[0;32mDirectionalMean\u001b[0m:\nLine \u001b[0;34m1710\u001b[0m:  \u001b[34mraise\u001b[39;49;00m e\n",
      "File \u001b[0;34mC:\\Program Files\\ArcGIS\\Pro\\Resources\\ArcPy\\arcpy\\stats.py\u001b[0m, in \u001b[0;32mDirectionalMean\u001b[0m:\nLine \u001b[0;34m1707\u001b[0m:  retval = convertArcObjectToPythonObject(gp.DirectionalMean_stats(*gp_fixargs((Input_Feature_Class, Output_Feature_Class, Orientation_Only, Case_Field), \u001b[34mTrue\u001b[39;49;00m)))\n",
      "File \u001b[0;34mC:\\Program Files\\ArcGIS\\Pro\\Resources\\ArcPy\\arcpy\\geoprocessing\\_base.py\u001b[0m, in \u001b[0;32m<lambda>\u001b[0m:\nLine \u001b[0;34m512\u001b[0m:   \u001b[34mreturn\u001b[39;49;00m \u001b[34mlambda\u001b[39;49;00m *args: val(*gp_fixargs(args, \u001b[34mTrue\u001b[39;49;00m))\n",
      "\u001b[0;31mExecuteError\u001b[0m: ERROR 000641: Too few records for analysis.  This tool requires at least 1 feature(s) to compute results.\nFailed to execute (DirectionalMean).\n\n\u001b[0;31m---------------------------------------------------------------------------\u001b[0m"
     ]
    }
   ],
   "source": [
    "arcpy.stats.DirectionalMean(r\"C:\\Users\\danie861\\Desktop\\FinalProject\\FinalProject\\Default.gdb\\HillshadeLines\\Q31\", r\"C:\\Users\\danie861\\Desktop\\FinalProject\\FinalProject\\Default.gdb\\Q31_DirectionalMeanHS\", \"DIRECTION\", \"Id\")"
   ]
  },
  {
   "cell_type": "code",
   "execution_count": 52,
   "metadata": {},
   "outputs": [
    {
     "ename": "ExecuteError",
     "evalue": "ERROR 000641: Too few records for analysis.  This tool requires at least 1 feature(s) to compute results.\nFailed to execute (DirectionalMean).\n",
     "output_type": "error",
     "traceback": [
      "\u001b[0;31m---------------------------------------------------------------------------\u001b[0m\n\u001b[0;31mExecuteError\u001b[0m                              Traceback (most recent call last)",
      "In  \u001b[0;34m[52]\u001b[0m:\nLine \u001b[0;34m1\u001b[0m:     arcpy.stats.DirectionalMean(\u001b[33mr\u001b[39;49;00m\u001b[33m\"\u001b[39;49;00m\u001b[33mC:\u001b[39;49;00m\u001b[33m\\\u001b[39;49;00m\u001b[33mUsers\u001b[39;49;00m\u001b[33m\\\u001b[39;49;00m\u001b[33mdanie861\u001b[39;49;00m\u001b[33m\\\u001b[39;49;00m\u001b[33mDesktop\u001b[39;49;00m\u001b[33m\\\u001b[39;49;00m\u001b[33mFinalProject\u001b[39;49;00m\u001b[33m\\\u001b[39;49;00m\u001b[33mFinalProject\u001b[39;49;00m\u001b[33m\\\u001b[39;49;00m\u001b[33mDefault.gdb\u001b[39;49;00m\u001b[33m\\\u001b[39;49;00m\u001b[33mHillshadeLines\u001b[39;49;00m\u001b[33m\\\u001b[39;49;00m\u001b[33mQ26_\u001b[39;49;00m\u001b[33m\"\u001b[39;49;00m, \u001b[33mr\u001b[39;49;00m\u001b[33m\"\u001b[39;49;00m\u001b[33mC:\u001b[39;49;00m\u001b[33m\\\u001b[39;49;00m\u001b[33mUsers\u001b[39;49;00m\u001b[33m\\\u001b[39;49;00m\u001b[33mdanie861\u001b[39;49;00m\u001b[33m\\\u001b[39;49;00m\u001b[33mDesktop\u001b[39;49;00m\u001b[33m\\\u001b[39;49;00m\u001b[33mFinalProject\u001b[39;49;00m\u001b[33m\\\u001b[39;49;00m\u001b[33mFinalProject\u001b[39;49;00m\u001b[33m\\\u001b[39;49;00m\u001b[33mDefault.gdb\u001b[39;49;00m\u001b[33m\\\u001b[39;49;00m\u001b[33mQ26_DirectionalMeanHS\u001b[39;49;00m\u001b[33m\"\u001b[39;49;00m, \u001b[33m\"\u001b[39;49;00m\u001b[33mDIRECTION\u001b[39;49;00m\u001b[33m\"\u001b[39;49;00m, \u001b[33m\"\u001b[39;49;00m\u001b[33mId\u001b[39;49;00m\u001b[33m\"\u001b[39;49;00m)\n",
      "File \u001b[0;34mC:\\Program Files\\ArcGIS\\Pro\\Resources\\ArcPy\\arcpy\\stats.py\u001b[0m, in \u001b[0;32mDirectionalMean\u001b[0m:\nLine \u001b[0;34m1710\u001b[0m:  \u001b[34mraise\u001b[39;49;00m e\n",
      "File \u001b[0;34mC:\\Program Files\\ArcGIS\\Pro\\Resources\\ArcPy\\arcpy\\stats.py\u001b[0m, in \u001b[0;32mDirectionalMean\u001b[0m:\nLine \u001b[0;34m1707\u001b[0m:  retval = convertArcObjectToPythonObject(gp.DirectionalMean_stats(*gp_fixargs((Input_Feature_Class, Output_Feature_Class, Orientation_Only, Case_Field), \u001b[34mTrue\u001b[39;49;00m)))\n",
      "File \u001b[0;34mC:\\Program Files\\ArcGIS\\Pro\\Resources\\ArcPy\\arcpy\\geoprocessing\\_base.py\u001b[0m, in \u001b[0;32m<lambda>\u001b[0m:\nLine \u001b[0;34m512\u001b[0m:   \u001b[34mreturn\u001b[39;49;00m \u001b[34mlambda\u001b[39;49;00m *args: val(*gp_fixargs(args, \u001b[34mTrue\u001b[39;49;00m))\n",
      "\u001b[0;31mExecuteError\u001b[0m: ERROR 000641: Too few records for analysis.  This tool requires at least 1 feature(s) to compute results.\nFailed to execute (DirectionalMean).\n\n\u001b[0;31m---------------------------------------------------------------------------\u001b[0m"
     ]
    }
   ],
   "source": [
    "arcpy.stats.DirectionalMean(r\"C:\\Users\\danie861\\Desktop\\FinalProject\\FinalProject\\Default.gdb\\HillshadeLines\\Q26_\", r\"C:\\Users\\danie861\\Desktop\\FinalProject\\FinalProject\\Default.gdb\\Q26_DirectionalMeanHS\", \"DIRECTION\", \"Id\")"
   ]
  },
  {
   "cell_type": "code",
   "execution_count": 53,
   "metadata": {},
   "outputs": [
    {
     "ename": "ExecuteError",
     "evalue": "ERROR 000641: Too few records for analysis.  This tool requires at least 1 feature(s) to compute results.\nFailed to execute (DirectionalMean).\n",
     "output_type": "error",
     "traceback": [
      "\u001b[0;31m---------------------------------------------------------------------------\u001b[0m\n\u001b[0;31mExecuteError\u001b[0m                              Traceback (most recent call last)",
      "In  \u001b[0;34m[53]\u001b[0m:\nLine \u001b[0;34m1\u001b[0m:     arcpy.stats.DirectionalMean(\u001b[33mr\u001b[39;49;00m\u001b[33m\"\u001b[39;49;00m\u001b[33mC:\u001b[39;49;00m\u001b[33m\\\u001b[39;49;00m\u001b[33mUsers\u001b[39;49;00m\u001b[33m\\\u001b[39;49;00m\u001b[33mdanie861\u001b[39;49;00m\u001b[33m\\\u001b[39;49;00m\u001b[33mDesktop\u001b[39;49;00m\u001b[33m\\\u001b[39;49;00m\u001b[33mFinalProject\u001b[39;49;00m\u001b[33m\\\u001b[39;49;00m\u001b[33mFinalProject\u001b[39;49;00m\u001b[33m\\\u001b[39;49;00m\u001b[33mDefault.gdb\u001b[39;49;00m\u001b[33m\\\u001b[39;49;00m\u001b[33mHillshadeLines\u001b[39;49;00m\u001b[33m\\\u001b[39;49;00m\u001b[33mQ24_\u001b[39;49;00m\u001b[33m\"\u001b[39;49;00m, \u001b[33mr\u001b[39;49;00m\u001b[33m\"\u001b[39;49;00m\u001b[33mC:\u001b[39;49;00m\u001b[33m\\\u001b[39;49;00m\u001b[33mUsers\u001b[39;49;00m\u001b[33m\\\u001b[39;49;00m\u001b[33mdanie861\u001b[39;49;00m\u001b[33m\\\u001b[39;49;00m\u001b[33mDesktop\u001b[39;49;00m\u001b[33m\\\u001b[39;49;00m\u001b[33mFinalProject\u001b[39;49;00m\u001b[33m\\\u001b[39;49;00m\u001b[33mFinalProject\u001b[39;49;00m\u001b[33m\\\u001b[39;49;00m\u001b[33mDefault.gdb\u001b[39;49;00m\u001b[33m\\\u001b[39;49;00m\u001b[33mQ24_DirectionalMeanHS\u001b[39;49;00m\u001b[33m\"\u001b[39;49;00m, \u001b[33m\"\u001b[39;49;00m\u001b[33mDIRECTION\u001b[39;49;00m\u001b[33m\"\u001b[39;49;00m, \u001b[33m\"\u001b[39;49;00m\u001b[33mId\u001b[39;49;00m\u001b[33m\"\u001b[39;49;00m)\n",
      "File \u001b[0;34mC:\\Program Files\\ArcGIS\\Pro\\Resources\\ArcPy\\arcpy\\stats.py\u001b[0m, in \u001b[0;32mDirectionalMean\u001b[0m:\nLine \u001b[0;34m1710\u001b[0m:  \u001b[34mraise\u001b[39;49;00m e\n",
      "File \u001b[0;34mC:\\Program Files\\ArcGIS\\Pro\\Resources\\ArcPy\\arcpy\\stats.py\u001b[0m, in \u001b[0;32mDirectionalMean\u001b[0m:\nLine \u001b[0;34m1707\u001b[0m:  retval = convertArcObjectToPythonObject(gp.DirectionalMean_stats(*gp_fixargs((Input_Feature_Class, Output_Feature_Class, Orientation_Only, Case_Field), \u001b[34mTrue\u001b[39;49;00m)))\n",
      "File \u001b[0;34mC:\\Program Files\\ArcGIS\\Pro\\Resources\\ArcPy\\arcpy\\geoprocessing\\_base.py\u001b[0m, in \u001b[0;32m<lambda>\u001b[0m:\nLine \u001b[0;34m512\u001b[0m:   \u001b[34mreturn\u001b[39;49;00m \u001b[34mlambda\u001b[39;49;00m *args: val(*gp_fixargs(args, \u001b[34mTrue\u001b[39;49;00m))\n",
      "\u001b[0;31mExecuteError\u001b[0m: ERROR 000641: Too few records for analysis.  This tool requires at least 1 feature(s) to compute results.\nFailed to execute (DirectionalMean).\n\n\u001b[0;31m---------------------------------------------------------------------------\u001b[0m"
     ]
    }
   ],
   "source": [
    "arcpy.stats.DirectionalMean(r\"C:\\Users\\danie861\\Desktop\\FinalProject\\FinalProject\\Default.gdb\\HillshadeLines\\Q24_\", r\"C:\\Users\\danie861\\Desktop\\FinalProject\\FinalProject\\Default.gdb\\Q24_DirectionalMeanHS\", \"DIRECTION\", \"Id\")"
   ]
  },
  {
   "cell_type": "code",
   "execution_count": 54,
   "metadata": {},
   "outputs": [
    {
     "ename": "ExecuteError",
     "evalue": "ERROR 000641: Too few records for analysis.  This tool requires at least 1 feature(s) to compute results.\nFailed to execute (DirectionalMean).\n",
     "output_type": "error",
     "traceback": [
      "\u001b[0;31m---------------------------------------------------------------------------\u001b[0m\n\u001b[0;31mExecuteError\u001b[0m                              Traceback (most recent call last)",
      "In  \u001b[0;34m[54]\u001b[0m:\nLine \u001b[0;34m1\u001b[0m:     arcpy.stats.DirectionalMean(\u001b[33mr\u001b[39;49;00m\u001b[33m\"\u001b[39;49;00m\u001b[33mC:\u001b[39;49;00m\u001b[33m\\\u001b[39;49;00m\u001b[33mUsers\u001b[39;49;00m\u001b[33m\\\u001b[39;49;00m\u001b[33mdanie861\u001b[39;49;00m\u001b[33m\\\u001b[39;49;00m\u001b[33mDesktop\u001b[39;49;00m\u001b[33m\\\u001b[39;49;00m\u001b[33mFinalProject\u001b[39;49;00m\u001b[33m\\\u001b[39;49;00m\u001b[33mFinalProject\u001b[39;49;00m\u001b[33m\\\u001b[39;49;00m\u001b[33mDefault.gdb\u001b[39;49;00m\u001b[33m\\\u001b[39;49;00m\u001b[33mHillshadeLines\u001b[39;49;00m\u001b[33m\\\u001b[39;49;00m\u001b[33mP26_\u001b[39;49;00m\u001b[33m\"\u001b[39;49;00m, \u001b[33mr\u001b[39;49;00m\u001b[33m\"\u001b[39;49;00m\u001b[33mC:\u001b[39;49;00m\u001b[33m\\\u001b[39;49;00m\u001b[33mUsers\u001b[39;49;00m\u001b[33m\\\u001b[39;49;00m\u001b[33mdanie861\u001b[39;49;00m\u001b[33m\\\u001b[39;49;00m\u001b[33mDesktop\u001b[39;49;00m\u001b[33m\\\u001b[39;49;00m\u001b[33mFinalProject\u001b[39;49;00m\u001b[33m\\\u001b[39;49;00m\u001b[33mFinalProject\u001b[39;49;00m\u001b[33m\\\u001b[39;49;00m\u001b[33mDefault.gdb\u001b[39;49;00m\u001b[33m\\\u001b[39;49;00m\u001b[33mP26_DirectionalMeanHS\u001b[39;49;00m\u001b[33m\"\u001b[39;49;00m, \u001b[33m\"\u001b[39;49;00m\u001b[33mDIRECTION\u001b[39;49;00m\u001b[33m\"\u001b[39;49;00m, \u001b[33m\"\u001b[39;49;00m\u001b[33mId\u001b[39;49;00m\u001b[33m\"\u001b[39;49;00m)\n",
      "File \u001b[0;34mC:\\Program Files\\ArcGIS\\Pro\\Resources\\ArcPy\\arcpy\\stats.py\u001b[0m, in \u001b[0;32mDirectionalMean\u001b[0m:\nLine \u001b[0;34m1710\u001b[0m:  \u001b[34mraise\u001b[39;49;00m e\n",
      "File \u001b[0;34mC:\\Program Files\\ArcGIS\\Pro\\Resources\\ArcPy\\arcpy\\stats.py\u001b[0m, in \u001b[0;32mDirectionalMean\u001b[0m:\nLine \u001b[0;34m1707\u001b[0m:  retval = convertArcObjectToPythonObject(gp.DirectionalMean_stats(*gp_fixargs((Input_Feature_Class, Output_Feature_Class, Orientation_Only, Case_Field), \u001b[34mTrue\u001b[39;49;00m)))\n",
      "File \u001b[0;34mC:\\Program Files\\ArcGIS\\Pro\\Resources\\ArcPy\\arcpy\\geoprocessing\\_base.py\u001b[0m, in \u001b[0;32m<lambda>\u001b[0m:\nLine \u001b[0;34m512\u001b[0m:   \u001b[34mreturn\u001b[39;49;00m \u001b[34mlambda\u001b[39;49;00m *args: val(*gp_fixargs(args, \u001b[34mTrue\u001b[39;49;00m))\n",
      "\u001b[0;31mExecuteError\u001b[0m: ERROR 000641: Too few records for analysis.  This tool requires at least 1 feature(s) to compute results.\nFailed to execute (DirectionalMean).\n\n\u001b[0;31m---------------------------------------------------------------------------\u001b[0m"
     ]
    }
   ],
   "source": [
    "arcpy.stats.DirectionalMean(r\"C:\\Users\\danie861\\Desktop\\FinalProject\\FinalProject\\Default.gdb\\HillshadeLines\\P26_\", r\"C:\\Users\\danie861\\Desktop\\FinalProject\\FinalProject\\Default.gdb\\P26_DirectionalMeanHS\", \"DIRECTION\", \"Id\")"
   ]
  },
  {
   "cell_type": "code",
   "execution_count": 55,
   "metadata": {},
   "outputs": [
    {
     "ename": "ExecuteError",
     "evalue": "ERROR 000641: Too few records for analysis.  This tool requires at least 1 feature(s) to compute results.\nFailed to execute (DirectionalMean).\n",
     "output_type": "error",
     "traceback": [
      "\u001b[0;31m---------------------------------------------------------------------------\u001b[0m\n\u001b[0;31mExecuteError\u001b[0m                              Traceback (most recent call last)",
      "In  \u001b[0;34m[55]\u001b[0m:\nLine \u001b[0;34m1\u001b[0m:     arcpy.stats.DirectionalMean(\u001b[33mr\u001b[39;49;00m\u001b[33m\"\u001b[39;49;00m\u001b[33mC:\u001b[39;49;00m\u001b[33m\\\u001b[39;49;00m\u001b[33mUsers\u001b[39;49;00m\u001b[33m\\\u001b[39;49;00m\u001b[33mdanie861\u001b[39;49;00m\u001b[33m\\\u001b[39;49;00m\u001b[33mDesktop\u001b[39;49;00m\u001b[33m\\\u001b[39;49;00m\u001b[33mFinalProject\u001b[39;49;00m\u001b[33m\\\u001b[39;49;00m\u001b[33mFinalProject\u001b[39;49;00m\u001b[33m\\\u001b[39;49;00m\u001b[33mDefault.gdb\u001b[39;49;00m\u001b[33m\\\u001b[39;49;00m\u001b[33mHillshadeLines\u001b[39;49;00m\u001b[33m\\\u001b[39;49;00m\u001b[33mP25\u001b[39;49;00m\u001b[33m\"\u001b[39;49;00m, \u001b[33mr\u001b[39;49;00m\u001b[33m\"\u001b[39;49;00m\u001b[33mC:\u001b[39;49;00m\u001b[33m\\\u001b[39;49;00m\u001b[33mUsers\u001b[39;49;00m\u001b[33m\\\u001b[39;49;00m\u001b[33mdanie861\u001b[39;49;00m\u001b[33m\\\u001b[39;49;00m\u001b[33mDesktop\u001b[39;49;00m\u001b[33m\\\u001b[39;49;00m\u001b[33mFinalProject\u001b[39;49;00m\u001b[33m\\\u001b[39;49;00m\u001b[33mFinalProject\u001b[39;49;00m\u001b[33m\\\u001b[39;49;00m\u001b[33mDefault.gdb\u001b[39;49;00m\u001b[33m\\\u001b[39;49;00m\u001b[33mP25_DirectionalMeanHS\u001b[39;49;00m\u001b[33m\"\u001b[39;49;00m, \u001b[33m\"\u001b[39;49;00m\u001b[33mDIRECTION\u001b[39;49;00m\u001b[33m\"\u001b[39;49;00m, \u001b[33m\"\u001b[39;49;00m\u001b[33mId\u001b[39;49;00m\u001b[33m\"\u001b[39;49;00m)\n",
      "File \u001b[0;34mC:\\Program Files\\ArcGIS\\Pro\\Resources\\ArcPy\\arcpy\\stats.py\u001b[0m, in \u001b[0;32mDirectionalMean\u001b[0m:\nLine \u001b[0;34m1710\u001b[0m:  \u001b[34mraise\u001b[39;49;00m e\n",
      "File \u001b[0;34mC:\\Program Files\\ArcGIS\\Pro\\Resources\\ArcPy\\arcpy\\stats.py\u001b[0m, in \u001b[0;32mDirectionalMean\u001b[0m:\nLine \u001b[0;34m1707\u001b[0m:  retval = convertArcObjectToPythonObject(gp.DirectionalMean_stats(*gp_fixargs((Input_Feature_Class, Output_Feature_Class, Orientation_Only, Case_Field), \u001b[34mTrue\u001b[39;49;00m)))\n",
      "File \u001b[0;34mC:\\Program Files\\ArcGIS\\Pro\\Resources\\ArcPy\\arcpy\\geoprocessing\\_base.py\u001b[0m, in \u001b[0;32m<lambda>\u001b[0m:\nLine \u001b[0;34m512\u001b[0m:   \u001b[34mreturn\u001b[39;49;00m \u001b[34mlambda\u001b[39;49;00m *args: val(*gp_fixargs(args, \u001b[34mTrue\u001b[39;49;00m))\n",
      "\u001b[0;31mExecuteError\u001b[0m: ERROR 000641: Too few records for analysis.  This tool requires at least 1 feature(s) to compute results.\nFailed to execute (DirectionalMean).\n\n\u001b[0;31m---------------------------------------------------------------------------\u001b[0m"
     ]
    }
   ],
   "source": [
    "arcpy.stats.DirectionalMean(r\"C:\\Users\\danie861\\Desktop\\FinalProject\\FinalProject\\Default.gdb\\HillshadeLines\\P25\", r\"C:\\Users\\danie861\\Desktop\\FinalProject\\FinalProject\\Default.gdb\\P25_DirectionalMeanHS\", \"DIRECTION\", \"Id\")"
   ]
  },
  {
   "cell_type": "code",
   "execution_count": 49,
   "metadata": {},
   "outputs": [
    {
     "ename": "ExecuteError",
     "evalue": "ERROR 000641: Too few records for analysis.  This tool requires at least 1 feature(s) to compute results.\nFailed to execute (DirectionalMean).\n",
     "output_type": "error",
     "traceback": [
      "\u001b[0;31m---------------------------------------------------------------------------\u001b[0m\n\u001b[0;31mExecuteError\u001b[0m                              Traceback (most recent call last)",
      "In  \u001b[0;34m[49]\u001b[0m:\nLine \u001b[0;34m1\u001b[0m:     arcpy.stats.DirectionalMean(\u001b[33mr\u001b[39;49;00m\u001b[33m\"\u001b[39;49;00m\u001b[33mC:\u001b[39;49;00m\u001b[33m\\\u001b[39;49;00m\u001b[33mUsers\u001b[39;49;00m\u001b[33m\\\u001b[39;49;00m\u001b[33mdanie861\u001b[39;49;00m\u001b[33m\\\u001b[39;49;00m\u001b[33mDesktop\u001b[39;49;00m\u001b[33m\\\u001b[39;49;00m\u001b[33mFinalProject\u001b[39;49;00m\u001b[33m\\\u001b[39;49;00m\u001b[33mFinalProject\u001b[39;49;00m\u001b[33m\\\u001b[39;49;00m\u001b[33mDefault.gdb\u001b[39;49;00m\u001b[33m\\\u001b[39;49;00m\u001b[33mHillshadeLines\u001b[39;49;00m\u001b[33m\\\u001b[39;49;00m\u001b[33mP24_\u001b[39;49;00m\u001b[33m\"\u001b[39;49;00m, \u001b[33mr\u001b[39;49;00m\u001b[33m\"\u001b[39;49;00m\u001b[33mC:\u001b[39;49;00m\u001b[33m\\\u001b[39;49;00m\u001b[33mUsers\u001b[39;49;00m\u001b[33m\\\u001b[39;49;00m\u001b[33mdanie861\u001b[39;49;00m\u001b[33m\\\u001b[39;49;00m\u001b[33mDesktop\u001b[39;49;00m\u001b[33m\\\u001b[39;49;00m\u001b[33mFinalProject\u001b[39;49;00m\u001b[33m\\\u001b[39;49;00m\u001b[33mFinalProject\u001b[39;49;00m\u001b[33m\\\u001b[39;49;00m\u001b[33mDefault.gdb\u001b[39;49;00m\u001b[33m\\\u001b[39;49;00m\u001b[33mP24_DirectionalMeanHS\u001b[39;49;00m\u001b[33m\"\u001b[39;49;00m, \u001b[33m\"\u001b[39;49;00m\u001b[33mDIRECTION\u001b[39;49;00m\u001b[33m\"\u001b[39;49;00m, \u001b[33m\"\u001b[39;49;00m\u001b[33mId\u001b[39;49;00m\u001b[33m\"\u001b[39;49;00m)\n",
      "File \u001b[0;34mC:\\Program Files\\ArcGIS\\Pro\\Resources\\ArcPy\\arcpy\\stats.py\u001b[0m, in \u001b[0;32mDirectionalMean\u001b[0m:\nLine \u001b[0;34m1710\u001b[0m:  \u001b[34mraise\u001b[39;49;00m e\n",
      "File \u001b[0;34mC:\\Program Files\\ArcGIS\\Pro\\Resources\\ArcPy\\arcpy\\stats.py\u001b[0m, in \u001b[0;32mDirectionalMean\u001b[0m:\nLine \u001b[0;34m1707\u001b[0m:  retval = convertArcObjectToPythonObject(gp.DirectionalMean_stats(*gp_fixargs((Input_Feature_Class, Output_Feature_Class, Orientation_Only, Case_Field), \u001b[34mTrue\u001b[39;49;00m)))\n",
      "File \u001b[0;34mC:\\Program Files\\ArcGIS\\Pro\\Resources\\ArcPy\\arcpy\\geoprocessing\\_base.py\u001b[0m, in \u001b[0;32m<lambda>\u001b[0m:\nLine \u001b[0;34m512\u001b[0m:   \u001b[34mreturn\u001b[39;49;00m \u001b[34mlambda\u001b[39;49;00m *args: val(*gp_fixargs(args, \u001b[34mTrue\u001b[39;49;00m))\n",
      "\u001b[0;31mExecuteError\u001b[0m: ERROR 000641: Too few records for analysis.  This tool requires at least 1 feature(s) to compute results.\nFailed to execute (DirectionalMean).\n\n\u001b[0;31m---------------------------------------------------------------------------\u001b[0m"
     ]
    }
   ],
   "source": [
    "arcpy.stats.DirectionalMean(r\"C:\\Users\\danie861\\Desktop\\FinalProject\\FinalProject\\Default.gdb\\HillshadeLines\\P24_\", r\"C:\\Users\\danie861\\Desktop\\FinalProject\\FinalProject\\Default.gdb\\P24_DirectionalMeanHS\", \"DIRECTION\", \"Id\")"
   ]
  },
  {
   "cell_type": "markdown",
   "metadata": {},
   "source": [
    "## Perfrom Linear Directional Mean Operation on Stream Network:"
   ]
  },
  {
   "cell_type": "code",
   "execution_count": null,
   "metadata": {},
   "outputs": [],
   "source": [
    "arcpy.stats.DirectionalMean(\"streams\", r\"C:\\Users\\danie861\\Desktop\\FinalProject\\FinalProject\\Default.gdb\\streams_DirectionalMean\", \"DIRECTION\", \"ARCID\")"
   ]
  },
  {
   "cell_type": "markdown",
   "metadata": {},
   "source": [
    "## Join IDs from Linear Directional Mean Operation and Group Layers for Statstical Prodecdure(s) in Next Steps"
   ]
  },
  {
   "cell_type": "markdown",
   "metadata": {},
   "source": [
    "### Join Stream ArcID to Aspect Lineament ID:"
   ]
  },
  {
   "cell_type": "code",
   "execution_count": 57,
   "metadata": {},
   "outputs": [
    {
     "data": {
      "text/html": [
       "<h2>Output</h2>a Layer object<h2>Messages</h2>Start Time: Monday, November 28, 2022 11:22:51 AM<br/>Succeeded at Monday, November 28, 2022 11:22:54 AM (Elapsed Time: 2.98 seconds)<br/><style>.rendered_html td, .rendered_html th {text-align: left;}.rendered_html tbody {border: 1px solid black;}</style>"
      ],
      "text/plain": [
       "<Result 'streams_DirectionalMean'>"
      ]
     },
     "execution_count": 57,
     "metadata": {},
     "output_type": "execute_result"
    }
   ],
   "source": [
    "arcpy.management.JoinField(\"streams_DirectionalMean\", \"ARCID\", \"AspectLinear_DirectionalMean\", \"Id\", None)"
   ]
  },
  {
   "cell_type": "markdown",
   "metadata": {},
   "source": [
    "### Join Stream ArcID to Hillshade Lineament ID:"
   ]
  },
  {
   "cell_type": "code",
   "execution_count": 2,
   "metadata": {},
   "outputs": [
    {
     "ename": "ExecuteError",
     "evalue": "Failed to execute. Parameters are not valid.\nERROR 000728: Field Id does not exist within table\nFailed to execute (JoinField).\n",
     "output_type": "error",
     "traceback": [
      "\u001b[0;31m---------------------------------------------------------------------------\u001b[0m\n\u001b[0;31mExecuteError\u001b[0m                              Traceback (most recent call last)",
      "In  \u001b[0;34m[2]\u001b[0m:\nLine \u001b[0;34m1\u001b[0m:     arcpy.management.JoinField(\u001b[33m\"\u001b[39;49;00m\u001b[33mstreams_DirectionalMean\u001b[39;49;00m\u001b[33m\"\u001b[39;49;00m, \u001b[33m\"\u001b[39;49;00m\u001b[33mARCID\u001b[39;49;00m\u001b[33m\"\u001b[39;49;00m, \u001b[33m\"\u001b[39;49;00m\u001b[33mHillshadeLinear_DirectionalMean\u001b[39;49;00m\u001b[33m\"\u001b[39;49;00m, \u001b[33m\"\u001b[39;49;00m\u001b[33mId\u001b[39;49;00m\u001b[33m\"\u001b[39;49;00m, \u001b[34mNone\u001b[39;49;00m)\n",
      "File \u001b[0;34mC:\\Program Files\\ArcGIS\\Pro\\Resources\\ArcPy\\arcpy\\management.py\u001b[0m, in \u001b[0;32mJoinField\u001b[0m:\nLine \u001b[0;34m8015\u001b[0m:  \u001b[34mraise\u001b[39;49;00m e\n",
      "File \u001b[0;34mC:\\Program Files\\ArcGIS\\Pro\\Resources\\ArcPy\\arcpy\\management.py\u001b[0m, in \u001b[0;32mJoinField\u001b[0m:\nLine \u001b[0;34m8012\u001b[0m:  retval = convertArcObjectToPythonObject(gp.JoinField_management(*gp_fixargs((in_data, in_field, join_table, join_field, fields), \u001b[34mTrue\u001b[39;49;00m)))\n",
      "File \u001b[0;34mC:\\Program Files\\ArcGIS\\Pro\\Resources\\ArcPy\\arcpy\\geoprocessing\\_base.py\u001b[0m, in \u001b[0;32m<lambda>\u001b[0m:\nLine \u001b[0;34m512\u001b[0m:   \u001b[34mreturn\u001b[39;49;00m \u001b[34mlambda\u001b[39;49;00m *args: val(*gp_fixargs(args, \u001b[34mTrue\u001b[39;49;00m))\n",
      "\u001b[0;31mExecuteError\u001b[0m: Failed to execute. Parameters are not valid.\nERROR 000728: Field Id does not exist within table\nFailed to execute (JoinField).\n\n\u001b[0;31m---------------------------------------------------------------------------\u001b[0m"
     ]
    }
   ],
   "source": [
    "arcpy.management.JoinField(\"streams_DirectionalMean\", \"ARCID\", \"HillshadeLinear_DirectionalMean\", \"Id\", None)"
   ]
  },
  {
   "cell_type": "markdown",
   "metadata": {},
   "source": [
    "### Join Stream ArcID to Slope Lineament ID:"
   ]
  },
  {
   "cell_type": "code",
   "execution_count": null,
   "metadata": {},
   "outputs": [],
   "source": [
    "arcpy.management.JoinField(r\"MainLDM\\streams_DirectionalMean\", \"ARCID\", r\"MainLDM\\SlopeLinear_DirectionalMean\", \"OBJECTID\", None)"
   ]
  }
 ],
 "metadata": {
  "kernelspec": {
   "display_name": "ArcGISPro",
   "language": "Python",
   "name": "python3"
  },
  "language_info": {
   "file_extension": ".py",
   "name": "python",
   "version": "3"
  }
 },
 "nbformat": 4,
 "nbformat_minor": 2
}
