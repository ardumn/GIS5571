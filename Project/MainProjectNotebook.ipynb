{
 "cells": [
  {
   "cell_type": "markdown",
   "metadata": {},
   "source": [
    "## Necessary Modules Needed to Import Data and Setting ArcGIS Environment (Working Directory)"
   ]
  },
  {
   "cell_type": "code",
   "execution_count": 4,
   "metadata": {},
   "outputs": [],
   "source": [
    "import arcpy # Useful and productive way to perform geographic data analysis, data conversion, data management,\n",
    "import os # Provides a portable way of using operating system dependent functionality\n",
    "import io # Using different input/output systems\n",
    "import requests # Allows you to send HTTP requests"
   ]
  },
  {
   "cell_type": "code",
   "execution_count": 5,
   "metadata": {},
   "outputs": [
    {
     "data": {
      "text/plain": [
       "'C:\\\\Users\\\\Alexander Danielson\\\\Desktop\\\\Fall 2022Spring2023\\\\ArcGIS I\\\\FinalProject\\\\FinalProject\\\\Default.gdb'"
      ]
     },
     "execution_count": 5,
     "metadata": {},
     "output_type": "execute_result"
    }
   ],
   "source": [
    "arcpy.env.workspace # Parameterizes the workspace for data to be outputted with ArcPy"
   ]
  },
  {
   "cell_type": "code",
   "execution_count": 6,
   "metadata": {},
   "outputs": [],
   "source": [
    "Working_Directory = r'C:\\Users\\Alexander Danielson\\Desktop\\Fall 2022Spring2023\\ArcGIS I\\FinalProject\\FinalProject' # Assigning directory."
   ]
  },
  {
   "cell_type": "markdown",
   "metadata": {},
   "source": [
    "## ETL For CTX/HiRISE Swaths of Interested Geology"
   ]
  },
  {
   "cell_type": "markdown",
   "metadata": {},
   "source": [
    "## Extraction of CTX/HiRISE Images"
   ]
  },
  {
   "cell_type": "markdown",
   "metadata": {},
   "source": [
    "### First CTX Image"
   ]
  },
  {
   "cell_type": "code",
   "execution_count": 13,
   "metadata": {},
   "outputs": [],
   "source": [
    "CTX_DataPageI = r'http://viewer.mars.asu.edu/planetview/inst/ctx/B19_017188_1768_XN_03S097W#P=B19_017188_1768_XN_03S097W&T=2' \n",
    "# Assign variable to data page for first CTX raster in data comparison analysis."
   ]
  },
  {
   "cell_type": "code",
   "execution_count": 14,
   "metadata": {},
   "outputs": [],
   "source": [
    "CTX_Image_I = r'http://pds-imaging.jpl.nasa.gov/data/mro/mars_reconnaissance_orbiter/ctx/mrox_1069/data/B19_017188_1768_XN_03S097W.IMG'\n",
    "# Assign variable to TIFF file for download."
   ]
  },
  {
   "cell_type": "code",
   "execution_count": 17,
   "metadata": {},
   "outputs": [
    {
     "data": {
      "text/plain": [
       "<Response [200]>"
      ]
     },
     "execution_count": 17,
     "metadata": {},
     "output_type": "execute_result"
    }
   ],
   "source": [
    "CTX_OBJI = requests.post(CTX_Image_I)\n",
    "CTX_OBJI\n",
    "# Sending a post request to TIFF file download and getting a valid reponse back."
   ]
  },
  {
   "cell_type": "code",
   "execution_count": 18,
   "metadata": {},
   "outputs": [
    {
     "data": {
      "text/plain": [
       "'C:\\\\Users\\\\Alexander Danielson\\\\Desktop\\\\Fall 2022Spring2023\\\\ArcGIS I\\\\FinalProject\\\\FinalProject\\\\CTXMarsImageI.IMG'"
      ]
     },
     "execution_count": 18,
     "metadata": {},
     "output_type": "execute_result"
    }
   ],
   "source": [
    "PATHCTXIMAGEI = os.path.join(Working_Directory, 'CTXMarsImageI.IMG')\n",
    "PATHCTXIMAGEI\n",
    "# Creating output file name for first CTX raster (where the file will be saved) assigned as a variable."
   ]
  },
  {
   "cell_type": "code",
   "execution_count": 19,
   "metadata": {},
   "outputs": [],
   "source": [
    "with open(PATHCTXIMAGEI, 'wb')as f:\n",
    "    f.write(CTX_OBJI.content)\n",
    "# Writing (. content of) Response from Post Request to Disk/Directory."
   ]
  },
  {
   "cell_type": "markdown",
   "metadata": {},
   "source": [
    "### Second CTX Image"
   ]
  },
  {
   "cell_type": "code",
   "execution_count": 20,
   "metadata": {},
   "outputs": [],
   "source": [
    "CTX_DataPageII = r'http://viewer.mars.asu.edu/planetview/inst/ctx/B06_011914_1620_XI_18S110W#P=B06_011914_1620_XI_18S110W&T=2' \n",
    "# Assign variable to data page for first CTX raster in data comparison analysis."
   ]
  },
  {
   "cell_type": "code",
   "execution_count": 22,
   "metadata": {},
   "outputs": [],
   "source": [
    "CTX_Image_II = r'http://pds-imaging.jpl.nasa.gov/data/mro/mars_reconnaissance_orbiter/ctx/mrox_0759/data/B06_011914_1620_XI_18S110W.IMG'\n",
    "# Assign variable to TIFF file for download."
   ]
  },
  {
   "cell_type": "code",
   "execution_count": 23,
   "metadata": {},
   "outputs": [
    {
     "data": {
      "text/plain": [
       "<Response [200]>"
      ]
     },
     "execution_count": 23,
     "metadata": {},
     "output_type": "execute_result"
    }
   ],
   "source": [
    "CTX_OBJII = requests.post(CTX_Image_II)\n",
    "CTX_OBJII\n",
    "# Sending a post request to TIFF file download and getting a valid reponse back."
   ]
  },
  {
   "cell_type": "code",
   "execution_count": 24,
   "metadata": {},
   "outputs": [
    {
     "data": {
      "text/plain": [
       "'C:\\\\Users\\\\Alexander Danielson\\\\Desktop\\\\Fall 2022Spring2023\\\\ArcGIS I\\\\FinalProject\\\\FinalProject\\\\CTXMarsImageII.IMG'"
      ]
     },
     "execution_count": 24,
     "metadata": {},
     "output_type": "execute_result"
    }
   ],
   "source": [
    "PATHCTXIMAGEII = os.path.join(Working_Directory, 'CTXMarsImageII.IMG')\n",
    "PATHCTXIMAGEII\n",
    "# Creating output file name for first CTX raster (where the file will be saved) assigned as a variable."
   ]
  },
  {
   "cell_type": "code",
   "execution_count": 27,
   "metadata": {},
   "outputs": [],
   "source": [
    "with open(PATHCTXIMAGEII, 'wb')as f:\n",
    "    f.write(CTX_OBJII.content)\n",
    "# Writing (. content of) Response from Post Request to Disk/Directory."
   ]
  },
  {
   "cell_type": "code",
   "execution_count": null,
   "metadata": {},
   "outputs": [],
   "source": []
  },
  {
   "cell_type": "markdown",
   "metadata": {},
   "source": [
    "### Third CTX Image"
   ]
  },
  {
   "cell_type": "code",
   "execution_count": 1,
   "metadata": {},
   "outputs": [],
   "source": [
    "CTX_DataPageIII = r'http://viewer.mars.asu.edu/planetview/inst/ctx/N08_065597_1949_XN_14N133W#P=N08_065597_1949_XN_14N133W&T=2' \n",
    "# Assign variable to data page for first CTX raster in data comparison analysis."
   ]
  },
  {
   "cell_type": "code",
   "execution_count": 2,
   "metadata": {},
   "outputs": [],
   "source": [
    "CTX_Image_III = r'http://pds-imaging.jpl.nasa.gov/data/mro/mars_reconnaissance_orbiter/ctx/mrox_3740/data/N08_065597_1949_XN_14N133W.IMG'\n",
    "# Assign variable to TIFF file for download."
   ]
  },
  {
   "cell_type": "code",
   "execution_count": 7,
   "metadata": {},
   "outputs": [
    {
     "data": {
      "text/plain": [
       "<Response [200]>"
      ]
     },
     "execution_count": 7,
     "metadata": {},
     "output_type": "execute_result"
    }
   ],
   "source": [
    "CTX_OBJIII = requests.post(CTX_Image_III)\n",
    "CTX_OBJIII\n",
    "# Sending a post request to TIFF file download and getting a valid reponse back."
   ]
  },
  {
   "cell_type": "code",
   "execution_count": 8,
   "metadata": {},
   "outputs": [
    {
     "data": {
      "text/plain": [
       "'C:\\\\Users\\\\Alexander Danielson\\\\Desktop\\\\Fall 2022Spring2023\\\\ArcGIS I\\\\FinalProject\\\\FinalProject\\\\CTXMarsImageIII.IMG'"
      ]
     },
     "execution_count": 8,
     "metadata": {},
     "output_type": "execute_result"
    }
   ],
   "source": [
    "PATHCTXIMAGEIII = os.path.join(Working_Directory, 'CTXMarsImageIII.IMG')\n",
    "PATHCTXIMAGEIII\n",
    "# Creating output file name for first CTX raster (where the file will be saved) assigned as a variable."
   ]
  },
  {
   "cell_type": "code",
   "execution_count": 9,
   "metadata": {},
   "outputs": [],
   "source": [
    "with open(PATHCTXIMAGEIII, 'wb')as f:\n",
    "    f.write(CTX_OBJIII.content)\n",
    "# Writing (. content of) Response from Post Request to Disk/Directory."
   ]
  },
  {
   "cell_type": "code",
   "execution_count": null,
   "metadata": {},
   "outputs": [],
   "source": []
  },
  {
   "cell_type": "markdown",
   "metadata": {},
   "source": [
    "### Fourth CTX Image"
   ]
  },
  {
   "cell_type": "code",
   "execution_count": 10,
   "metadata": {},
   "outputs": [],
   "source": [
    "CTX_DataPageIV = r'http://viewer.mars.asu.edu/planetview/inst/ctx/N08_065596_2043_XI_24N107W#P=N08_065596_2043_XI_24N107W&T=2' \n",
    "# Assign variable to data page for first CTX raster in data comparison analysis."
   ]
  },
  {
   "cell_type": "code",
   "execution_count": 11,
   "metadata": {},
   "outputs": [],
   "source": [
    "CTX_Image_IV = r'http://pds-imaging.jpl.nasa.gov/data/mro/mars_reconnaissance_orbiter/ctx/mrox_3740/data/N08_065596_2043_XI_24N107W.IMG'\n",
    "# Assign variable to TIFF file for download."
   ]
  },
  {
   "cell_type": "code",
   "execution_count": 12,
   "metadata": {},
   "outputs": [
    {
     "data": {
      "text/plain": [
       "<Response [200]>"
      ]
     },
     "execution_count": 12,
     "metadata": {},
     "output_type": "execute_result"
    }
   ],
   "source": [
    "CTX_OBJIV = requests.post(CTX_Image_IV)\n",
    "CTX_OBJIV\n",
    "# Sending a post request to TIFF file download and getting a valid reponse back."
   ]
  },
  {
   "cell_type": "code",
   "execution_count": 13,
   "metadata": {},
   "outputs": [
    {
     "data": {
      "text/plain": [
       "'C:\\\\Users\\\\Alexander Danielson\\\\Desktop\\\\Fall 2022Spring2023\\\\ArcGIS I\\\\FinalProject\\\\FinalProject\\\\CTXMarsImageIV.IMG'"
      ]
     },
     "execution_count": 13,
     "metadata": {},
     "output_type": "execute_result"
    }
   ],
   "source": [
    "PATHCTXIMAGEIV = os.path.join(Working_Directory, 'CTXMarsImageIV.IMG')\n",
    "PATHCTXIMAGEIV\n",
    "# Creating output file name for first CTX raster (where the file will be saved) assigned as a variable."
   ]
  },
  {
   "cell_type": "code",
   "execution_count": 14,
   "metadata": {},
   "outputs": [],
   "source": [
    "with open(PATHCTXIMAGEIV, 'wb')as f:\n",
    "    f.write(CTX_OBJIV.content)\n",
    "# Writing (. content of) Response from Post Request to Disk/Directory."
   ]
  },
  {
   "cell_type": "code",
   "execution_count": null,
   "metadata": {},
   "outputs": [],
   "source": []
  },
  {
   "cell_type": "markdown",
   "metadata": {},
   "source": [
    "### Fifth CTX Image"
   ]
  },
  {
   "cell_type": "code",
   "execution_count": null,
   "metadata": {},
   "outputs": [],
   "source": [
    "CTX_DataPageI = r'http://viewer.mars.asu.edu/planetview/inst/ctx/B19_017188_1768_XN_03S097W#P=B19_017188_1768_XN_03S097W&T=2' \n",
    "# Assign variable to data page for first CTX raster in data comparison analysis."
   ]
  },
  {
   "cell_type": "code",
   "execution_count": null,
   "metadata": {},
   "outputs": [],
   "source": [
    "CTX_Image_I = r'http://pds-imaging.jpl.nasa.gov/data/mro/mars_reconnaissance_orbiter/ctx/mrox_1069/data/B19_017188_1768_XN_03S097W.IMG'\n",
    "# Assign variable to TIFF file for download."
   ]
  },
  {
   "cell_type": "code",
   "execution_count": null,
   "metadata": {},
   "outputs": [],
   "source": [
    "CTX_OBJI = requests.post(CTX_Image_I)\n",
    "CTX_OBJI\n",
    "# Sending a post request to TIFF file download and getting a valid reponse back."
   ]
  },
  {
   "cell_type": "code",
   "execution_count": null,
   "metadata": {},
   "outputs": [],
   "source": [
    "PATHCTXIMAGEI = os.path.join(Working_Directory, 'CTXMarsImageI.IMG')\n",
    "PATHCTXIMAGEI\n",
    "# Creating output file name for first CTX raster (where the file will be saved) assigned as a variable."
   ]
  },
  {
   "cell_type": "code",
   "execution_count": null,
   "metadata": {},
   "outputs": [],
   "source": [
    "with open(PATHCTXIMAGEI, 'wb')as f:\n",
    "    f.write(CTX_OBJI.content)\n",
    "# Writing (. content of) Response from Post Request to Disk/Directory."
   ]
  },
  {
   "cell_type": "code",
   "execution_count": null,
   "metadata": {},
   "outputs": [],
   "source": []
  },
  {
   "cell_type": "markdown",
   "metadata": {},
   "source": [
    "## Statistical Analysis of each CTX/HiRISE Swath for Yardangs/Lineaments in Juxtaposition to Tharsis Mons Study Area"
   ]
  },
  {
   "cell_type": "markdown",
   "metadata": {},
   "source": [
    "## Suitability Analysis/Geological Implications: Which Digital Product shows more conducive results for Geomorphology on surface Mars For Yardangs and Lineaments? (Slope, Aspect, or Hillshade)"
   ]
  },
  {
   "cell_type": "markdown",
   "metadata": {},
   "source": [
    "## Overlay Minerals/Examine Parts of Study Area that Hold Abundance of Minerals and Influence Stream Network"
   ]
  },
  {
   "cell_type": "markdown",
   "metadata": {},
   "source": [
    "### Import Current Shapfile Lineaments from Previous Project into Default Geodatabase"
   ]
  },
  {
   "cell_type": "code",
   "execution_count": null,
   "metadata": {},
   "outputs": [],
   "source": []
  },
  {
   "cell_type": "code",
   "execution_count": null,
   "metadata": {},
   "outputs": [],
   "source": []
  },
  {
   "cell_type": "markdown",
   "metadata": {},
   "source": [
    "## Develop Fluvial Networks for Mars"
   ]
  },
  {
   "cell_type": "code",
   "execution_count": null,
   "metadata": {},
   "outputs": [],
   "source": []
  },
  {
   "cell_type": "code",
   "execution_count": null,
   "metadata": {},
   "outputs": [],
   "source": []
  },
  {
   "cell_type": "code",
   "execution_count": null,
   "metadata": {},
   "outputs": [],
   "source": []
  },
  {
   "cell_type": "code",
   "execution_count": null,
   "metadata": {},
   "outputs": [],
   "source": []
  },
  {
   "cell_type": "markdown",
   "metadata": {},
   "source": [
    "## Attempt Cost Surface Analysis/Sensitivity Analysis"
   ]
  },
  {
   "cell_type": "code",
   "execution_count": null,
   "metadata": {},
   "outputs": [],
   "source": []
  },
  {
   "cell_type": "code",
   "execution_count": null,
   "metadata": {},
   "outputs": [],
   "source": []
  }
 ],
 "metadata": {
  "kernelspec": {
   "display_name": "ArcGISPro",
   "language": "Python",
   "name": "python3"
  },
  "language_info": {
   "file_extension": ".py",
   "name": "python",
   "version": "3"
  }
 },
 "nbformat": 4,
 "nbformat_minor": 2
}
